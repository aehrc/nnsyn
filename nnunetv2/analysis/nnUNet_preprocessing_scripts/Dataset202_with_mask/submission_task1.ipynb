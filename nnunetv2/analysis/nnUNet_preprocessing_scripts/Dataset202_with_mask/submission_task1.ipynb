{
 "cells": [
  {
   "cell_type": "code",
   "execution_count": 25,
   "id": "cc0fcc64",
   "metadata": {},
   "outputs": [],
   "source": [
    "import os, glob, shutil, json\n",
    "from pathlib import Path\n",
    "import SimpleITK as sitk\n",
    "import numpy as np\n",
    "from concurrent.futures import ThreadPoolExecutor\n",
    "from tqdm import tqdm\n",
    "\n",
    "sys.path.append(\"/datasets/work/hb-synthrad2023/work/synthrad2025/bw_workplace/src/utils\")\n",
    "from revert_normalisation import get_ct_normalisation_values, revert_normalisation\n"
   ]
  },
  {
   "cell_type": "code",
   "execution_count": 22,
   "id": "33570be3",
   "metadata": {},
   "outputs": [
    {
     "name": "stdout",
     "output_type": "stream",
     "text": [
      "input1 --- 89 ['/datasets/work/hb-synthrad2023/source/synthrad2025_data_v2/synthRAD2025_Task1_Val_Input/Task1/AB/1ABA002/mr.mha', '/datasets/work/hb-synthrad2023/source/synthrad2025_data_v2/synthRAD2025_Task1_Val_Input/Task1/AB/1ABA008/mr.mha', '/datasets/work/hb-synthrad2023/source/synthrad2025_data_v2/synthRAD2025_Task1_Val_Input/Task1/AB/1ABA010/mr.mha', '/datasets/work/hb-synthrad2023/source/synthrad2025_data_v2/synthRAD2025_Task1_Val_Input/Task1/AB/1ABA017/mr.mha', '/datasets/work/hb-synthrad2023/source/synthrad2025_data_v2/synthRAD2025_Task1_Val_Input/Task1/AB/1ABA021/mr.mha', '/datasets/work/hb-synthrad2023/source/synthrad2025_data_v2/synthRAD2025_Task1_Val_Input/Task1/AB/1ABA023/mr.mha', '/datasets/work/hb-synthrad2023/source/synthrad2025_data_v2/synthRAD2025_Task1_Val_Input/Task1/AB/1ABA032/mr.mha', '/datasets/work/hb-synthrad2023/source/synthrad2025_data_v2/synthRAD2025_Task1_Val_Input/Task1/AB/1ABA037/mr.mha', '/datasets/work/hb-synthrad2023/source/synthrad2025_data_v2/synthRAD2025_Task1_Val_Input/Task1/AB/1ABA055/mr.mha', '/datasets/work/hb-synthrad2023/source/synthrad2025_data_v2/synthRAD2025_Task1_Val_Input/Task1/AB/1ABA064/mr.mha', '/datasets/work/hb-synthrad2023/source/synthrad2025_data_v2/synthRAD2025_Task1_Val_Input/Task1/AB/1ABB022/mr.mha', '/datasets/work/hb-synthrad2023/source/synthrad2025_data_v2/synthRAD2025_Task1_Val_Input/Task1/AB/1ABB051/mr.mha', '/datasets/work/hb-synthrad2023/source/synthrad2025_data_v2/synthRAD2025_Task1_Val_Input/Task1/AB/1ABB080/mr.mha', '/datasets/work/hb-synthrad2023/source/synthrad2025_data_v2/synthRAD2025_Task1_Val_Input/Task1/AB/1ABB081/mr.mha', '/datasets/work/hb-synthrad2023/source/synthrad2025_data_v2/synthRAD2025_Task1_Val_Input/Task1/AB/1ABB085/mr.mha', '/datasets/work/hb-synthrad2023/source/synthrad2025_data_v2/synthRAD2025_Task1_Val_Input/Task1/AB/1ABB097/mr.mha', '/datasets/work/hb-synthrad2023/source/synthrad2025_data_v2/synthRAD2025_Task1_Val_Input/Task1/AB/1ABB099/mr.mha', '/datasets/work/hb-synthrad2023/source/synthrad2025_data_v2/synthRAD2025_Task1_Val_Input/Task1/AB/1ABB101/mr.mha', '/datasets/work/hb-synthrad2023/source/synthrad2025_data_v2/synthRAD2025_Task1_Val_Input/Task1/AB/1ABB104/mr.mha', '/datasets/work/hb-synthrad2023/source/synthrad2025_data_v2/synthRAD2025_Task1_Val_Input/Task1/AB/1ABB111/mr.mha', '/datasets/work/hb-synthrad2023/source/synthrad2025_data_v2/synthRAD2025_Task1_Val_Input/Task1/AB/1ABB134/mr.mha', '/datasets/work/hb-synthrad2023/source/synthrad2025_data_v2/synthRAD2025_Task1_Val_Input/Task1/AB/1ABB142/mr.mha', '/datasets/work/hb-synthrad2023/source/synthrad2025_data_v2/synthRAD2025_Task1_Val_Input/Task1/AB/1ABB148/mr.mha', '/datasets/work/hb-synthrad2023/source/synthrad2025_data_v2/synthRAD2025_Task1_Val_Input/Task1/AB/1ABB158/mr.mha', '/datasets/work/hb-synthrad2023/source/synthrad2025_data_v2/synthRAD2025_Task1_Val_Input/Task1/AB/1ABC001/mr.mha', '/datasets/work/hb-synthrad2023/source/synthrad2025_data_v2/synthRAD2025_Task1_Val_Input/Task1/AB/1ABC015/mr.mha', '/datasets/work/hb-synthrad2023/source/synthrad2025_data_v2/synthRAD2025_Task1_Val_Input/Task1/AB/1ABC145/mr.mha', '/datasets/work/hb-synthrad2023/source/synthrad2025_data_v2/synthRAD2025_Task1_Val_Input/Task1/HN/1HNA002/mr.mha', '/datasets/work/hb-synthrad2023/source/synthrad2025_data_v2/synthRAD2025_Task1_Val_Input/Task1/HN/1HNA005/mr.mha', '/datasets/work/hb-synthrad2023/source/synthrad2025_data_v2/synthRAD2025_Task1_Val_Input/Task1/HN/1HNA017/mr.mha', '/datasets/work/hb-synthrad2023/source/synthrad2025_data_v2/synthRAD2025_Task1_Val_Input/Task1/HN/1HNA020/mr.mha', '/datasets/work/hb-synthrad2023/source/synthrad2025_data_v2/synthRAD2025_Task1_Val_Input/Task1/HN/1HNA052/mr.mha', '/datasets/work/hb-synthrad2023/source/synthrad2025_data_v2/synthRAD2025_Task1_Val_Input/Task1/HN/1HNA054/mr.mha', '/datasets/work/hb-synthrad2023/source/synthrad2025_data_v2/synthRAD2025_Task1_Val_Input/Task1/HN/1HNA062/mr.mha', '/datasets/work/hb-synthrad2023/source/synthrad2025_data_v2/synthRAD2025_Task1_Val_Input/Task1/HN/1HNA063/mr.mha', '/datasets/work/hb-synthrad2023/source/synthrad2025_data_v2/synthRAD2025_Task1_Val_Input/Task1/HN/1HNA070/mr.mha', '/datasets/work/hb-synthrad2023/source/synthrad2025_data_v2/synthRAD2025_Task1_Val_Input/Task1/HN/1HNA073/mr.mha', '/datasets/work/hb-synthrad2023/source/synthrad2025_data_v2/synthRAD2025_Task1_Val_Input/Task1/HN/1HNA078/mr.mha', '/datasets/work/hb-synthrad2023/source/synthrad2025_data_v2/synthRAD2025_Task1_Val_Input/Task1/HN/1HNA081/mr.mha', '/datasets/work/hb-synthrad2023/source/synthrad2025_data_v2/synthRAD2025_Task1_Val_Input/Task1/HN/1HNA092/mr.mha', '/datasets/work/hb-synthrad2023/source/synthrad2025_data_v2/synthRAD2025_Task1_Val_Input/Task1/HN/1HNA094/mr.mha', '/datasets/work/hb-synthrad2023/source/synthrad2025_data_v2/synthRAD2025_Task1_Val_Input/Task1/HN/1HNC015/mr.mha', '/datasets/work/hb-synthrad2023/source/synthrad2025_data_v2/synthRAD2025_Task1_Val_Input/Task1/HN/1HNC048/mr.mha', '/datasets/work/hb-synthrad2023/source/synthrad2025_data_v2/synthRAD2025_Task1_Val_Input/Task1/HN/1HNC052/mr.mha', '/datasets/work/hb-synthrad2023/source/synthrad2025_data_v2/synthRAD2025_Task1_Val_Input/Task1/HN/1HNC055/mr.mha', '/datasets/work/hb-synthrad2023/source/synthrad2025_data_v2/synthRAD2025_Task1_Val_Input/Task1/HN/1HNC063/mr.mha', '/datasets/work/hb-synthrad2023/source/synthrad2025_data_v2/synthRAD2025_Task1_Val_Input/Task1/HN/1HNC064/mr.mha', '/datasets/work/hb-synthrad2023/source/synthrad2025_data_v2/synthRAD2025_Task1_Val_Input/Task1/HN/1HNC093/mr.mha', '/datasets/work/hb-synthrad2023/source/synthrad2025_data_v2/synthRAD2025_Task1_Val_Input/Task1/HN/1HNC100/mr.mha', '/datasets/work/hb-synthrad2023/source/synthrad2025_data_v2/synthRAD2025_Task1_Val_Input/Task1/HN/1HNC126/mr.mha', '/datasets/work/hb-synthrad2023/source/synthrad2025_data_v2/synthRAD2025_Task1_Val_Input/Task1/HN/1HNC129/mr.mha', '/datasets/work/hb-synthrad2023/source/synthrad2025_data_v2/synthRAD2025_Task1_Val_Input/Task1/HN/1HND002/mr.mha', '/datasets/work/hb-synthrad2023/source/synthrad2025_data_v2/synthRAD2025_Task1_Val_Input/Task1/HN/1HND010/mr.mha', '/datasets/work/hb-synthrad2023/source/synthrad2025_data_v2/synthRAD2025_Task1_Val_Input/Task1/HN/1HND011/mr.mha', '/datasets/work/hb-synthrad2023/source/synthrad2025_data_v2/synthRAD2025_Task1_Val_Input/Task1/HN/1HND024/mr.mha', '/datasets/work/hb-synthrad2023/source/synthrad2025_data_v2/synthRAD2025_Task1_Val_Input/Task1/HN/1HND033/mr.mha', '/datasets/work/hb-synthrad2023/source/synthrad2025_data_v2/synthRAD2025_Task1_Val_Input/Task1/HN/1HND041/mr.mha', '/datasets/work/hb-synthrad2023/source/synthrad2025_data_v2/synthRAD2025_Task1_Val_Input/Task1/HN/1HND048/mr.mha', '/datasets/work/hb-synthrad2023/source/synthrad2025_data_v2/synthRAD2025_Task1_Val_Input/Task1/HN/1HND066/mr.mha', '/datasets/work/hb-synthrad2023/source/synthrad2025_data_v2/synthRAD2025_Task1_Val_Input/Task1/HN/1HND085/mr.mha', '/datasets/work/hb-synthrad2023/source/synthrad2025_data_v2/synthRAD2025_Task1_Val_Input/Task1/HN/1HND091/mr.mha', '/datasets/work/hb-synthrad2023/source/synthrad2025_data_v2/synthRAD2025_Task1_Val_Input/Task1/TH/1THA007/mr.mha', '/datasets/work/hb-synthrad2023/source/synthrad2025_data_v2/synthRAD2025_Task1_Val_Input/Task1/TH/1THA008/mr.mha', '/datasets/work/hb-synthrad2023/source/synthrad2025_data_v2/synthRAD2025_Task1_Val_Input/Task1/TH/1THA014/mr.mha', '/datasets/work/hb-synthrad2023/source/synthrad2025_data_v2/synthRAD2025_Task1_Val_Input/Task1/TH/1THA023/mr.mha', '/datasets/work/hb-synthrad2023/source/synthrad2025_data_v2/synthRAD2025_Task1_Val_Input/Task1/TH/1THA025/mr.mha', '/datasets/work/hb-synthrad2023/source/synthrad2025_data_v2/synthRAD2025_Task1_Val_Input/Task1/TH/1THA036/mr.mha', '/datasets/work/hb-synthrad2023/source/synthrad2025_data_v2/synthRAD2025_Task1_Val_Input/Task1/TH/1THA053/mr.mha', '/datasets/work/hb-synthrad2023/source/synthrad2025_data_v2/synthRAD2025_Task1_Val_Input/Task1/TH/1THA202/mr.mha', '/datasets/work/hb-synthrad2023/source/synthrad2025_data_v2/synthRAD2025_Task1_Val_Input/Task1/TH/1THA204/mr.mha', '/datasets/work/hb-synthrad2023/source/synthrad2025_data_v2/synthRAD2025_Task1_Val_Input/Task1/TH/1THA215/mr.mha', '/datasets/work/hb-synthrad2023/source/synthrad2025_data_v2/synthRAD2025_Task1_Val_Input/Task1/TH/1THA216/mr.mha', '/datasets/work/hb-synthrad2023/source/synthrad2025_data_v2/synthRAD2025_Task1_Val_Input/Task1/TH/1THA219/mr.mha', '/datasets/work/hb-synthrad2023/source/synthrad2025_data_v2/synthRAD2025_Task1_Val_Input/Task1/TH/1THA222/mr.mha', '/datasets/work/hb-synthrad2023/source/synthrad2025_data_v2/synthRAD2025_Task1_Val_Input/Task1/TH/1THA226/mr.mha', '/datasets/work/hb-synthrad2023/source/synthrad2025_data_v2/synthRAD2025_Task1_Val_Input/Task1/TH/1THB012/mr.mha', '/datasets/work/hb-synthrad2023/source/synthrad2025_data_v2/synthRAD2025_Task1_Val_Input/Task1/TH/1THB014/mr.mha', '/datasets/work/hb-synthrad2023/source/synthrad2025_data_v2/synthRAD2025_Task1_Val_Input/Task1/TH/1THB018/mr.mha', '/datasets/work/hb-synthrad2023/source/synthrad2025_data_v2/synthRAD2025_Task1_Val_Input/Task1/TH/1THB025/mr.mha', '/datasets/work/hb-synthrad2023/source/synthrad2025_data_v2/synthRAD2025_Task1_Val_Input/Task1/TH/1THB032/mr.mha', '/datasets/work/hb-synthrad2023/source/synthrad2025_data_v2/synthRAD2025_Task1_Val_Input/Task1/TH/1THB036/mr.mha', '/datasets/work/hb-synthrad2023/source/synthrad2025_data_v2/synthRAD2025_Task1_Val_Input/Task1/TH/1THB075/mr.mha', '/datasets/work/hb-synthrad2023/source/synthrad2025_data_v2/synthRAD2025_Task1_Val_Input/Task1/TH/1THB125/mr.mha', '/datasets/work/hb-synthrad2023/source/synthrad2025_data_v2/synthRAD2025_Task1_Val_Input/Task1/TH/1THB142/mr.mha', '/datasets/work/hb-synthrad2023/source/synthrad2025_data_v2/synthRAD2025_Task1_Val_Input/Task1/TH/1THB155/mr.mha', '/datasets/work/hb-synthrad2023/source/synthrad2025_data_v2/synthRAD2025_Task1_Val_Input/Task1/TH/1THB186/mr.mha', '/datasets/work/hb-synthrad2023/source/synthrad2025_data_v2/synthRAD2025_Task1_Val_Input/Task1/TH/1THB204/mr.mha', '/datasets/work/hb-synthrad2023/source/synthrad2025_data_v2/synthRAD2025_Task1_Val_Input/Task1/TH/1THB209/mr.mha', '/datasets/work/hb-synthrad2023/source/synthrad2025_data_v2/synthRAD2025_Task1_Val_Input/Task1/TH/1THB219/mr.mha']\n",
      "input2 --- 89 ['/datasets/work/hb-synthrad2023/source/synthrad2025_data_v2/synthRAD2025_Task1_Val_Input/Task1/AB/1ABA002/mask.mha', '/datasets/work/hb-synthrad2023/source/synthrad2025_data_v2/synthRAD2025_Task1_Val_Input/Task1/AB/1ABA008/mask.mha', '/datasets/work/hb-synthrad2023/source/synthrad2025_data_v2/synthRAD2025_Task1_Val_Input/Task1/AB/1ABA010/mask.mha', '/datasets/work/hb-synthrad2023/source/synthrad2025_data_v2/synthRAD2025_Task1_Val_Input/Task1/AB/1ABA017/mask.mha', '/datasets/work/hb-synthrad2023/source/synthrad2025_data_v2/synthRAD2025_Task1_Val_Input/Task1/AB/1ABA021/mask.mha', '/datasets/work/hb-synthrad2023/source/synthrad2025_data_v2/synthRAD2025_Task1_Val_Input/Task1/AB/1ABA023/mask.mha', '/datasets/work/hb-synthrad2023/source/synthrad2025_data_v2/synthRAD2025_Task1_Val_Input/Task1/AB/1ABA032/mask.mha', '/datasets/work/hb-synthrad2023/source/synthrad2025_data_v2/synthRAD2025_Task1_Val_Input/Task1/AB/1ABA037/mask.mha', '/datasets/work/hb-synthrad2023/source/synthrad2025_data_v2/synthRAD2025_Task1_Val_Input/Task1/AB/1ABA055/mask.mha', '/datasets/work/hb-synthrad2023/source/synthrad2025_data_v2/synthRAD2025_Task1_Val_Input/Task1/AB/1ABA064/mask.mha', '/datasets/work/hb-synthrad2023/source/synthrad2025_data_v2/synthRAD2025_Task1_Val_Input/Task1/AB/1ABB022/mask.mha', '/datasets/work/hb-synthrad2023/source/synthrad2025_data_v2/synthRAD2025_Task1_Val_Input/Task1/AB/1ABB051/mask.mha', '/datasets/work/hb-synthrad2023/source/synthrad2025_data_v2/synthRAD2025_Task1_Val_Input/Task1/AB/1ABB080/mask.mha', '/datasets/work/hb-synthrad2023/source/synthrad2025_data_v2/synthRAD2025_Task1_Val_Input/Task1/AB/1ABB081/mask.mha', '/datasets/work/hb-synthrad2023/source/synthrad2025_data_v2/synthRAD2025_Task1_Val_Input/Task1/AB/1ABB085/mask.mha', '/datasets/work/hb-synthrad2023/source/synthrad2025_data_v2/synthRAD2025_Task1_Val_Input/Task1/AB/1ABB097/mask.mha', '/datasets/work/hb-synthrad2023/source/synthrad2025_data_v2/synthRAD2025_Task1_Val_Input/Task1/AB/1ABB099/mask.mha', '/datasets/work/hb-synthrad2023/source/synthrad2025_data_v2/synthRAD2025_Task1_Val_Input/Task1/AB/1ABB101/mask.mha', '/datasets/work/hb-synthrad2023/source/synthrad2025_data_v2/synthRAD2025_Task1_Val_Input/Task1/AB/1ABB104/mask.mha', '/datasets/work/hb-synthrad2023/source/synthrad2025_data_v2/synthRAD2025_Task1_Val_Input/Task1/AB/1ABB111/mask.mha', '/datasets/work/hb-synthrad2023/source/synthrad2025_data_v2/synthRAD2025_Task1_Val_Input/Task1/AB/1ABB134/mask.mha', '/datasets/work/hb-synthrad2023/source/synthrad2025_data_v2/synthRAD2025_Task1_Val_Input/Task1/AB/1ABB142/mask.mha', '/datasets/work/hb-synthrad2023/source/synthrad2025_data_v2/synthRAD2025_Task1_Val_Input/Task1/AB/1ABB148/mask.mha', '/datasets/work/hb-synthrad2023/source/synthrad2025_data_v2/synthRAD2025_Task1_Val_Input/Task1/AB/1ABB158/mask.mha', '/datasets/work/hb-synthrad2023/source/synthrad2025_data_v2/synthRAD2025_Task1_Val_Input/Task1/AB/1ABC001/mask.mha', '/datasets/work/hb-synthrad2023/source/synthrad2025_data_v2/synthRAD2025_Task1_Val_Input/Task1/AB/1ABC015/mask.mha', '/datasets/work/hb-synthrad2023/source/synthrad2025_data_v2/synthRAD2025_Task1_Val_Input/Task1/AB/1ABC145/mask.mha', '/datasets/work/hb-synthrad2023/source/synthrad2025_data_v2/synthRAD2025_Task1_Val_Input/Task1/HN/1HNA002/mask.mha', '/datasets/work/hb-synthrad2023/source/synthrad2025_data_v2/synthRAD2025_Task1_Val_Input/Task1/HN/1HNA005/mask.mha', '/datasets/work/hb-synthrad2023/source/synthrad2025_data_v2/synthRAD2025_Task1_Val_Input/Task1/HN/1HNA017/mask.mha', '/datasets/work/hb-synthrad2023/source/synthrad2025_data_v2/synthRAD2025_Task1_Val_Input/Task1/HN/1HNA020/mask.mha', '/datasets/work/hb-synthrad2023/source/synthrad2025_data_v2/synthRAD2025_Task1_Val_Input/Task1/HN/1HNA052/mask.mha', '/datasets/work/hb-synthrad2023/source/synthrad2025_data_v2/synthRAD2025_Task1_Val_Input/Task1/HN/1HNA054/mask.mha', '/datasets/work/hb-synthrad2023/source/synthrad2025_data_v2/synthRAD2025_Task1_Val_Input/Task1/HN/1HNA062/mask.mha', '/datasets/work/hb-synthrad2023/source/synthrad2025_data_v2/synthRAD2025_Task1_Val_Input/Task1/HN/1HNA063/mask.mha', '/datasets/work/hb-synthrad2023/source/synthrad2025_data_v2/synthRAD2025_Task1_Val_Input/Task1/HN/1HNA070/mask.mha', '/datasets/work/hb-synthrad2023/source/synthrad2025_data_v2/synthRAD2025_Task1_Val_Input/Task1/HN/1HNA073/mask.mha', '/datasets/work/hb-synthrad2023/source/synthrad2025_data_v2/synthRAD2025_Task1_Val_Input/Task1/HN/1HNA078/mask.mha', '/datasets/work/hb-synthrad2023/source/synthrad2025_data_v2/synthRAD2025_Task1_Val_Input/Task1/HN/1HNA081/mask.mha', '/datasets/work/hb-synthrad2023/source/synthrad2025_data_v2/synthRAD2025_Task1_Val_Input/Task1/HN/1HNA092/mask.mha', '/datasets/work/hb-synthrad2023/source/synthrad2025_data_v2/synthRAD2025_Task1_Val_Input/Task1/HN/1HNA094/mask.mha', '/datasets/work/hb-synthrad2023/source/synthrad2025_data_v2/synthRAD2025_Task1_Val_Input/Task1/HN/1HNC015/mask.mha', '/datasets/work/hb-synthrad2023/source/synthrad2025_data_v2/synthRAD2025_Task1_Val_Input/Task1/HN/1HNC048/mask.mha', '/datasets/work/hb-synthrad2023/source/synthrad2025_data_v2/synthRAD2025_Task1_Val_Input/Task1/HN/1HNC052/mask.mha', '/datasets/work/hb-synthrad2023/source/synthrad2025_data_v2/synthRAD2025_Task1_Val_Input/Task1/HN/1HNC055/mask.mha', '/datasets/work/hb-synthrad2023/source/synthrad2025_data_v2/synthRAD2025_Task1_Val_Input/Task1/HN/1HNC063/mask.mha', '/datasets/work/hb-synthrad2023/source/synthrad2025_data_v2/synthRAD2025_Task1_Val_Input/Task1/HN/1HNC064/mask.mha', '/datasets/work/hb-synthrad2023/source/synthrad2025_data_v2/synthRAD2025_Task1_Val_Input/Task1/HN/1HNC093/mask.mha', '/datasets/work/hb-synthrad2023/source/synthrad2025_data_v2/synthRAD2025_Task1_Val_Input/Task1/HN/1HNC100/mask.mha', '/datasets/work/hb-synthrad2023/source/synthrad2025_data_v2/synthRAD2025_Task1_Val_Input/Task1/HN/1HNC126/mask.mha', '/datasets/work/hb-synthrad2023/source/synthrad2025_data_v2/synthRAD2025_Task1_Val_Input/Task1/HN/1HNC129/mask.mha', '/datasets/work/hb-synthrad2023/source/synthrad2025_data_v2/synthRAD2025_Task1_Val_Input/Task1/HN/1HND002/mask.mha', '/datasets/work/hb-synthrad2023/source/synthrad2025_data_v2/synthRAD2025_Task1_Val_Input/Task1/HN/1HND010/mask.mha', '/datasets/work/hb-synthrad2023/source/synthrad2025_data_v2/synthRAD2025_Task1_Val_Input/Task1/HN/1HND011/mask.mha', '/datasets/work/hb-synthrad2023/source/synthrad2025_data_v2/synthRAD2025_Task1_Val_Input/Task1/HN/1HND024/mask.mha', '/datasets/work/hb-synthrad2023/source/synthrad2025_data_v2/synthRAD2025_Task1_Val_Input/Task1/HN/1HND033/mask.mha', '/datasets/work/hb-synthrad2023/source/synthrad2025_data_v2/synthRAD2025_Task1_Val_Input/Task1/HN/1HND041/mask.mha', '/datasets/work/hb-synthrad2023/source/synthrad2025_data_v2/synthRAD2025_Task1_Val_Input/Task1/HN/1HND048/mask.mha', '/datasets/work/hb-synthrad2023/source/synthrad2025_data_v2/synthRAD2025_Task1_Val_Input/Task1/HN/1HND066/mask.mha', '/datasets/work/hb-synthrad2023/source/synthrad2025_data_v2/synthRAD2025_Task1_Val_Input/Task1/HN/1HND085/mask.mha', '/datasets/work/hb-synthrad2023/source/synthrad2025_data_v2/synthRAD2025_Task1_Val_Input/Task1/HN/1HND091/mask.mha', '/datasets/work/hb-synthrad2023/source/synthrad2025_data_v2/synthRAD2025_Task1_Val_Input/Task1/TH/1THA007/mask.mha', '/datasets/work/hb-synthrad2023/source/synthrad2025_data_v2/synthRAD2025_Task1_Val_Input/Task1/TH/1THA008/mask.mha', '/datasets/work/hb-synthrad2023/source/synthrad2025_data_v2/synthRAD2025_Task1_Val_Input/Task1/TH/1THA014/mask.mha', '/datasets/work/hb-synthrad2023/source/synthrad2025_data_v2/synthRAD2025_Task1_Val_Input/Task1/TH/1THA023/mask.mha', '/datasets/work/hb-synthrad2023/source/synthrad2025_data_v2/synthRAD2025_Task1_Val_Input/Task1/TH/1THA025/mask.mha', '/datasets/work/hb-synthrad2023/source/synthrad2025_data_v2/synthRAD2025_Task1_Val_Input/Task1/TH/1THA036/mask.mha', '/datasets/work/hb-synthrad2023/source/synthrad2025_data_v2/synthRAD2025_Task1_Val_Input/Task1/TH/1THA053/mask.mha', '/datasets/work/hb-synthrad2023/source/synthrad2025_data_v2/synthRAD2025_Task1_Val_Input/Task1/TH/1THA202/mask.mha', '/datasets/work/hb-synthrad2023/source/synthrad2025_data_v2/synthRAD2025_Task1_Val_Input/Task1/TH/1THA204/mask.mha', '/datasets/work/hb-synthrad2023/source/synthrad2025_data_v2/synthRAD2025_Task1_Val_Input/Task1/TH/1THA215/mask.mha', '/datasets/work/hb-synthrad2023/source/synthrad2025_data_v2/synthRAD2025_Task1_Val_Input/Task1/TH/1THA216/mask.mha', '/datasets/work/hb-synthrad2023/source/synthrad2025_data_v2/synthRAD2025_Task1_Val_Input/Task1/TH/1THA219/mask.mha', '/datasets/work/hb-synthrad2023/source/synthrad2025_data_v2/synthRAD2025_Task1_Val_Input/Task1/TH/1THA222/mask.mha', '/datasets/work/hb-synthrad2023/source/synthrad2025_data_v2/synthRAD2025_Task1_Val_Input/Task1/TH/1THA226/mask.mha', '/datasets/work/hb-synthrad2023/source/synthrad2025_data_v2/synthRAD2025_Task1_Val_Input/Task1/TH/1THB012/mask.mha', '/datasets/work/hb-synthrad2023/source/synthrad2025_data_v2/synthRAD2025_Task1_Val_Input/Task1/TH/1THB014/mask.mha', '/datasets/work/hb-synthrad2023/source/synthrad2025_data_v2/synthRAD2025_Task1_Val_Input/Task1/TH/1THB018/mask.mha', '/datasets/work/hb-synthrad2023/source/synthrad2025_data_v2/synthRAD2025_Task1_Val_Input/Task1/TH/1THB025/mask.mha', '/datasets/work/hb-synthrad2023/source/synthrad2025_data_v2/synthRAD2025_Task1_Val_Input/Task1/TH/1THB032/mask.mha', '/datasets/work/hb-synthrad2023/source/synthrad2025_data_v2/synthRAD2025_Task1_Val_Input/Task1/TH/1THB036/mask.mha', '/datasets/work/hb-synthrad2023/source/synthrad2025_data_v2/synthRAD2025_Task1_Val_Input/Task1/TH/1THB075/mask.mha', '/datasets/work/hb-synthrad2023/source/synthrad2025_data_v2/synthRAD2025_Task1_Val_Input/Task1/TH/1THB125/mask.mha', '/datasets/work/hb-synthrad2023/source/synthrad2025_data_v2/synthRAD2025_Task1_Val_Input/Task1/TH/1THB142/mask.mha', '/datasets/work/hb-synthrad2023/source/synthrad2025_data_v2/synthRAD2025_Task1_Val_Input/Task1/TH/1THB155/mask.mha', '/datasets/work/hb-synthrad2023/source/synthrad2025_data_v2/synthRAD2025_Task1_Val_Input/Task1/TH/1THB186/mask.mha', '/datasets/work/hb-synthrad2023/source/synthrad2025_data_v2/synthRAD2025_Task1_Val_Input/Task1/TH/1THB204/mask.mha', '/datasets/work/hb-synthrad2023/source/synthrad2025_data_v2/synthRAD2025_Task1_Val_Input/Task1/TH/1THB209/mask.mha', '/datasets/work/hb-synthrad2023/source/synthrad2025_data_v2/synthRAD2025_Task1_Val_Input/Task1/TH/1THB219/mask.mha']\n"
     ]
    }
   ],
   "source": [
    "os.environ[\"nnUNet_raw\"] = \"/datasets/work/hb-synthrad2023/work/synthrad2025/bw_workplace/data/nnunet_struct/raw\"\n",
    "os.environ[\"nnUNet_preprocessed\"] = \"/datasets/work/hb-synthrad2023/work/synthrad2025/bw_workplace/data/nnunet_struct/preprocessed\"\n",
    "os.environ[\"nnUNet_results\"] = \"/datasets/work/hb-synthrad2023/work/synthrad2025/bw_workplace/data/nnunet_struct/results\"\n",
    "\n",
    "data_root = \"/datasets/work/hb-synthrad2023/source/synthrad2025_data_v2/synthRAD2025_Task1_Val_Input/Task1\"\n",
    "list_data_mri = sorted(glob.glob(os.path.join(data_root, '**','mr.mha'), recursive=True))\n",
    "list_data_mask = sorted(glob.glob(os.path.join(data_root, '**','mask.mha'), recursive=True))\n",
    "print(\"input1 ---\", len(list_data_mri), list_data_mri)\n",
    "print(\"input2 ---\", len(list_data_mask), list_data_mask)"
   ]
  },
  {
   "cell_type": "code",
   "execution_count": 23,
   "id": "07da7c82",
   "metadata": {},
   "outputs": [
    {
     "name": "stderr",
     "output_type": "stream",
     "text": [
      "100%|██████████| 89/89 [00:02<00:00, 35.04it/s]\n"
     ]
    }
   ],
   "source": [
    "# copy files to nnUNet raw data directory\n",
    "\n",
    "\n",
    "dataset_id = 200\n",
    "dataset_data_name = \"synthrad2025_task1_MR\"\n",
    "dataset_data_path = os.path.join(os.environ['nnUNet_raw'], f'Dataset{dataset_id:03d}_{dataset_data_name}') \n",
    "\n",
    "def process_file(data_path, dataset_path, modality_suffix=\"_0000\"):\n",
    "    filename = data_path.split(os.sep)[-2]\n",
    "    if not filename.endswith(f'{modality_suffix}.mha'):\n",
    "        filename = filename + f'{modality_suffix}.mha'\n",
    "    os.makedirs(os.path.join(dataset_path, 'imagesVal'), exist_ok=True)\n",
    "    shutil.copyfile(data_path, os.path.join(dataset_path, f'imagesVal/{filename}'))\n",
    "\n",
    "with ThreadPoolExecutor() as executor:\n",
    "    list(tqdm(executor.map(lambda data_path: process_file(data_path, dataset_data_path, \"_0000\"), list_data_mri), total=len(list_data_mri)))\n",
    "\n",
    "# with ThreadPoolExecutor() as executor:\n",
    "#     list(tqdm(executor.map(lambda data_path: process_file(data_path, dataset_data_path, \"_0001\"), list_data_mask), total=len(list_data_mask)))\n"
   ]
  },
  {
   "cell_type": "code",
   "execution_count": 24,
   "id": "73245741",
   "metadata": {},
   "outputs": [],
   "source": [
    "input_dir = os.path.join(dataset_data_path, 'imagesVal')\n",
    "submission_path = \"/datasets/work/hb-synthrad2023/work/synthrad2025/bw_workplace/data/nnunet_struct/submission\"\n",
    "output_dir = os.path.join(submission_path, f'Dataset{dataset_id:03d}_{dataset_data_name}_submission')\n",
    "fold = 0"
   ]
  },
  {
   "cell_type": "code",
   "execution_count": 20,
   "id": "5e14f8fa",
   "metadata": {},
   "outputs": [
    {
     "data": {
      "text/plain": [
       "'/datasets/work/hb-synthrad2023/work/synthrad2025/bw_workplace/data/nnunet_struct/raw/Dataset202_synthrad2025_task1_MR_mask/imagesVal'"
      ]
     },
     "execution_count": 20,
     "metadata": {},
     "output_type": "execute_result"
    }
   ],
   "source": [
    "input_dir"
   ]
  },
  {
   "cell_type": "code",
   "execution_count": 19,
   "id": "8691cdbc",
   "metadata": {},
   "outputs": [
    {
     "name": "stdout",
     "output_type": "stream",
     "text": [
      "\n",
      "#######################################################################\n",
      "Please cite the following paper when using nnU-Net:\n",
      "Isensee, F., Jaeger, P. F., Kohl, S. A., Petersen, J., & Maier-Hein, K. H. (2021). nnU-Net: a self-configuring method for deep learning-based biomedical image segmentation. Nature methods, 18(2), 203-211.\n",
      "#######################################################################\n",
      "\n"
     ]
    },
    {
     "name": "stderr",
     "output_type": "stream",
     "text": [
      "Traceback (most recent call last):\n",
      "  File \"/datasets/work/hb-synthrad2023/work/synthrad2025/bw_workplace/envs/nnunet_trans/bin/nnUNetv2_predict\", line 8, in <module>\n",
      "    sys.exit(predict_entry_point())\n",
      "  File \"/datasets/work/hb-synthrad2023/work/synthrad2025/bw_workplace/ref/nnUNet_translation/nnunetv2/inference/predict_from_raw_data.py\", line 896, in predict_entry_point\n",
      "    args.f = [i if i == 'all' else int(i) for i in args.f]\n",
      "  File \"/datasets/work/hb-synthrad2023/work/synthrad2025/bw_workplace/ref/nnUNet_translation/nnunetv2/inference/predict_from_raw_data.py\", line 896, in <listcomp>\n",
      "    args.f = [i if i == 'all' else int(i) for i in args.f]\n",
      "ValueError: invalid literal for int() with base 10: '0]'\n"
     ]
    },
    {
     "data": {
      "text/plain": [
       "256"
      ]
     },
     "execution_count": 19,
     "metadata": {},
     "output_type": "execute_result"
    }
   ],
   "source": [
    "os.system(f\"nnUNetv2_predict -d {dataset_id} -i {input_dir} -o {output_dir} -c 3d_fullres -p nnUNetPlans -tr nnUNetTrainerMRCT -f {fold}]\")"
   ]
  },
  {
   "cell_type": "code",
   "execution_count": null,
   "id": "ddb2b34c",
   "metadata": {},
   "outputs": [],
   "source": [
    "nnUNetv2_predict -d 202 -i /datasets/work/hb-synthrad2023/work/synthrad2025/bw_workplace/data/nnunet_struct/raw/Dataset202_synthrad2025_task1_MR_mask/imagesVal -o /datasets/work/hb-synthrad2023/work/synthrad2025/bw_workplace/data/nnunet_struct/submission -c 3d_fullres -p nnUNetPlans -tr nnUNetTrainerMRCT -f 0 -chk checkpoint_best.pth"
   ]
  },
  {
   "cell_type": "code",
   "execution_count": 26,
   "id": "42f4e741",
   "metadata": {},
   "outputs": [
    {
     "name": "stdout",
     "output_type": "stream",
     "text": [
      "CT mean: -726.3590698242188, CT std: 444.69049072265625\n"
     ]
    },
    {
     "name": "stderr",
     "output_type": "stream",
     "text": [
      "100%|██████████| 89/89 [01:56<00:00,  1.30s/it]\n"
     ]
    }
   ],
   "source": [
    "\n",
    "ct_plan_path = \"/datasets/work/hb-synthrad2023/work/synthrad2025/bw_workplace/data/nnunet_struct/preprocessed/Dataset203_synthrad2025_task1_CT/nnUNetPlans.json\"\n",
    "ct_mean, ct_std = get_ct_normalisation_values(ct_plan_path)\n",
    "pred_path = \"/datasets/work/hb-synthrad2023/work/synthrad2025/bw_workplace/data/nnunet_struct/submission/Dataset202_val_pred\"\n",
    "revert_normalisation(pred_path, ct_mean, ct_std, save_path=pred_path + \"_revert_norm\")"
   ]
  },
  {
   "cell_type": "code",
   "execution_count": null,
   "id": "32728016",
   "metadata": {},
   "outputs": [
    {
     "data": {
      "text/plain": [
       "'/datasets/work/hb-synthrad2023/work/synthrad2025/bw_workplace/data/nnunet_struct/submission/Folder.zip'"
      ]
     },
     "execution_count": 28,
     "metadata": {},
     "output_type": "execute_result"
    }
   ],
   "source": [
    "save_path = \"/datasets/work/hb-synthrad2023/work/synthrad2025/bw_workplace/data/nnunet_struct/submission/Folder\"\n",
    "os.makedirs(save_path, exist_ok=True)\n",
    "for file in glob.glob(os.path.join(pred_path + \"_revert_norm\", \"*.mha\")):\n",
    "    new_file = os.path.join(save_path, \"sct_\" + os.path.basename(file))\n",
    "    shutil.copyfile(file, new_file)\n",
    "# zip folder\n",
    "shutil.make_archive(save_path, 'zip', save_path)\n"
   ]
  },
  {
   "cell_type": "code",
   "execution_count": null,
   "id": "0b3d8917",
   "metadata": {},
   "outputs": [],
   "source": [
    "\n",
    "\n",
    "#rsync -avz xin015@virga.hpc.csiro.au:/datasets/work/hb-synthrad2023/work/synthrad2025/bw_workplace/data/nnunet_struct/submission/Folder.zip ./test\n",
    "# "
   ]
  }
 ],
 "metadata": {
  "kernelspec": {
   "display_name": "Python 3",
   "language": "python",
   "name": "python3"
  },
  "language_info": {
   "codemirror_mode": {
    "name": "ipython",
    "version": 3
   },
   "file_extension": ".py",
   "mimetype": "text/x-python",
   "name": "python",
   "nbconvert_exporter": "python",
   "pygments_lexer": "ipython3",
   "version": "3.10.0"
  }
 },
 "nbformat": 4,
 "nbformat_minor": 5
}
