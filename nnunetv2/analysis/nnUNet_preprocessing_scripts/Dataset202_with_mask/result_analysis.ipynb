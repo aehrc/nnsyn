{
 "cells": [
  {
   "cell_type": "code",
   "execution_count": null,
   "id": "33f37c43",
   "metadata": {},
   "outputs": [],
   "source": [
    "import sys\n",
    "import SimpleITK as sitk\n",
    "import json\n",
    "import glob\n",
    "import os\n",
    "from tqdm import tqdm\n",
    "import numpy as np\n",
    "import torch\n",
    "sys.path.append(\"/datasets/work/hb-synthrad2023/work/synthrad2025/bw_workplace/src/utils\")\n",
    "from revert_normalisation import get_ct_normalisation_values, revert_normalisation\n",
    "from image_metrics import ImageMetrics\n",
    "import pandas as pd"
   ]
  },
  {
   "cell_type": "code",
   "execution_count": null,
   "id": "7c01e34d",
   "metadata": {},
   "outputs": [],
   "source": [
    "\n",
    "\n",
    "ct_plan_path = \"/datasets/work/hb-synthrad2023/work/synthrad2025/bw_workplace/data/nnunet_struct/preprocessed/Dataset203_synthrad2025_task1_CT/nnUNetPlans.json\"\n",
    "ct_mean, ct_std = get_ct_normalisation_values(ct_plan_path)\n",
    "pred_path = \"/datasets/work/hb-synthrad2023/work/synthrad2025/bw_workplace/data/nnunet_struct/results/Dataset202_synthrad2025_task1_MR_mask/nnUNetTrainerMRCT__nnUNetPlans__3d_fullres/fold_0/validation\"\n",
    "revert_normalisation(pred_path, ct_mean, ct_std, save_path=pred_path + \"_revert_norm\")\n"
   ]
  },
  {
   "cell_type": "code",
   "execution_count": 26,
   "id": "9545fa82",
   "metadata": {},
   "outputs": [],
   "source": [
    "# compute image metrics for the predition folders\n",
    "class ImageMetricsCompute(ImageMetrics):\n",
    "    def __init__(self):\n",
    "        super().__init__()\n",
    "        self.names = [\"mae\", \"psnr\", \"ms_ssim\"]\n",
    "    \n",
    "    def init_storage(self, names: list):\n",
    "        self.storage = dict()\n",
    "        self.storage_id = []\n",
    "        self.names = names\n",
    "        for name in names:\n",
    "            self.storage[name] = []\n",
    "\n",
    "    def add(self, res: dict, patient_id=None):\n",
    "        for key, value in res.items():\n",
    "            self.storage[key].append(value)\n",
    "        if patient_id:\n",
    "            self.storage_id.append(patient_id)\n",
    "\n",
    "    def aggregate(self):\n",
    "        res = dict()\n",
    "        for name in self.names:\n",
    "            res[name] = dict()\n",
    "\n",
    "        for key, value in self.storage.items():\n",
    "            res[key]['mean'] = np.mean(value)\n",
    "            res[key]['std'] = np.std(value)\n",
    "            res[key]['max'] = np.max(value)\n",
    "            res[key]['min'] = np.min(value)\n",
    "            res[key]['25pc'] = np.percentile(value, 25)\n",
    "            res[key]['50pc'] = np.percentile(value, 50)\n",
    "            res[key]['75pc'] = np.percentile(value, 75)\n",
    "            res[key]['count'] = len(value)\n",
    "        return res\n",
    "\n",
    "    def reset(self):\n",
    "        for key, value in self.storage.items():\n",
    "            self.storage[key] = []\n",
    "\n",
    "\n",
    "\n"
   ]
  },
  {
   "cell_type": "code",
   "execution_count": 29,
   "id": "328637f4",
   "metadata": {},
   "outputs": [
    {
     "name": "stderr",
     "output_type": "stream",
     "text": [
      "100%|██████████| 116/116 [21:16<00:00, 11.01s/it]\n"
     ]
    },
    {
     "name": "stdout",
     "output_type": "stream",
     "text": [
      "Results: {'mae': {'mean': np.float64(109.44085679290535), 'std': np.float64(27.066969212032742), 'max': np.float64(230.47372171558266), 'min': np.float64(66.28774953739256), '25pc': np.float64(91.29112447986269), '50pc': np.float64(101.21119620008118), '75pc': np.float64(125.07872458603839), 'count': 116}, 'psnr': {'mean': np.float64(25.776341633129967), 'std': np.float64(1.7933116425929951), 'max': np.float64(30.46496126493591), 'min': np.float64(20.271696054072127), '25pc': np.float64(24.711910392796135), '50pc': np.float64(26.12277162982101), '75pc': np.float64(26.900988097737205), 'count': 116}, 'ms_ssim': {'mean': np.float64(0.8419290628152716), 'std': np.float64(0.0718437246649582), 'max': np.float64(0.9525578654148602), 'min': np.float64(0.5338612903359046), '25pc': np.float64(0.8066457260674451), '50pc': np.float64(0.8520516393366632), '75pc': np.float64(0.8896230195890017), 'count': 116}}\n"
     ]
    }
   ],
   "source": [
    "testing_path = \"/datasets/work/hb-synthrad2023/work/synthrad2025/bw_workplace/data/nnunet_struct/results/Dataset202_synthrad2025_task1_MR_mask/nnUNetTrainerMRCT__nnUNetPlans__3d_fullres/fold_0/validation_revert_norm\"\n",
    "pred_paths = sorted(glob.glob(os.path.join(testing_path, '*.mha')))\n",
    "\n",
    "raw_data_path = \"/datasets/work/hb-synthrad2023/work/synthrad2025/bw_workplace/data/nnunet_struct/preprocessed/Dataset202_synthrad2025_task1_MR_mask\"\n",
    "gt_path = os.path.join(raw_data_path, \"gt_segmentations\")\n",
    "mask_path = os.path.join(raw_data_path, \"masks\")\n",
    "\n",
    "testing_metrics = ImageMetricsCompute()\n",
    "testing_metrics.init_storage([\"mae\", \"psnr\", \"ms_ssim\"])\n",
    "\n",
    "for pred_path in tqdm(pred_paths):\n",
    "    filename = os.path.basename(pred_path)\n",
    "    gt_file = os.path.join(gt_path, filename)\n",
    "    mask_file = os.path.join(mask_path, filename)\n",
    "\n",
    "    img_pred = sitk.ReadImage(pred_path)\n",
    "    img_gt = sitk.ReadImage(gt_file)\n",
    "    img_mask = sitk.ReadImage(mask_file, sitk.sitkUInt8)\n",
    "\n",
    "    array_pred = sitk.GetArrayFromImage(img_pred)\n",
    "    array_gt = sitk.GetArrayFromImage(img_gt)\n",
    "    array_mask = sitk.GetArrayFromImage(img_mask)\n",
    "\n",
    "    res = testing_metrics.score_patient(array_gt, array_pred, array_mask)\n",
    "    testing_metrics.add(res, filename)\n",
    "\n",
    "# aggregate results\n",
    "results = testing_metrics.aggregate()\n",
    "print(\"Results:\", results)\n",
    "\n",
    "\n",
    "\n",
    "\n",
    "\n"
   ]
  },
  {
   "cell_type": "code",
   "execution_count": 31,
   "id": "77a57d1f",
   "metadata": {},
   "outputs": [
    {
     "data": {
      "text/plain": [
       "{'mae': {'mean': np.float64(109.44085679290535),\n",
       "  'std': np.float64(27.066969212032742),\n",
       "  'max': np.float64(230.47372171558266),\n",
       "  'min': np.float64(66.28774953739256),\n",
       "  '25pc': np.float64(91.29112447986269),\n",
       "  '50pc': np.float64(101.21119620008118),\n",
       "  '75pc': np.float64(125.07872458603839),\n",
       "  'count': 116},\n",
       " 'psnr': {'mean': np.float64(25.776341633129967),\n",
       "  'std': np.float64(1.7933116425929951),\n",
       "  'max': np.float64(30.46496126493591),\n",
       "  'min': np.float64(20.271696054072127),\n",
       "  '25pc': np.float64(24.711910392796135),\n",
       "  '50pc': np.float64(26.12277162982101),\n",
       "  '75pc': np.float64(26.900988097737205),\n",
       "  'count': 116},\n",
       " 'ms_ssim': {'mean': np.float64(0.8419290628152716),\n",
       "  'std': np.float64(0.0718437246649582),\n",
       "  'max': np.float64(0.9525578654148602),\n",
       "  'min': np.float64(0.5338612903359046),\n",
       "  '25pc': np.float64(0.8066457260674451),\n",
       "  '50pc': np.float64(0.8520516393366632),\n",
       "  '75pc': np.float64(0.8896230195890017),\n",
       "  'count': 116}}"
      ]
     },
     "execution_count": 31,
     "metadata": {},
     "output_type": "execute_result"
    }
   ],
   "source": [
    "results"
   ]
  },
  {
   "cell_type": "code",
   "execution_count": null,
   "id": "97224495",
   "metadata": {},
   "outputs": [],
   "source": [
    "df = pd.DataFrame(\n",
    "            {\n",
    "                'patient_id': testing_metrics.storage_id,\n",
    "                'mae': testing_metrics.storage['mae'],\n",
    "                'ssim': testing_metrics.storage['ssim'],\n",
    "                'psnr': testing_metrics.storage['psnr'],\n",
    "            }\n",
    "        )"
   ]
  },
  {
   "cell_type": "code",
   "execution_count": 30,
   "id": "5cd09a7d",
   "metadata": {},
   "outputs": [],
   "source": [
    "# metrics = ImageMetrics()\n",
    "# src_path = \"/datasets/work/hb-synthrad2023/work/synthrad2025/bw_workplace/data/nnunet_struct/preprocessed/Dataset202_synthrad2025_task1_MR_mask/gt_segmentations/1ABA005.mha\"\n",
    "# mask_path = \"/datasets/work/hb-synthrad2023/work/synthrad2025/bw_workplace/data/nnunet_struct/preprocessed/Dataset202_synthrad2025_task1_MR_mask/masks/1ABA005.mha\"\n",
    "# pred_path = \"/datasets/work/hb-synthrad2023/work/synthrad2025/bw_workplace/data/nnunet_struct/results/Dataset202_synthrad2025_task1_MR_mask/nnUNetTrainerMRCT__nnUNetPlans__3d_fullres/fold_0/validation/1ABA005.mha\"\n",
    "# # read images\n",
    "# img_src = sitk.ReadImage(src_path)\n",
    "# img_pred = sitk.ReadImage(pred_path)\n",
    "# img_mask = sitk.ReadImage(mask_path, sitk.sitkUInt8)\n",
    "\n",
    "# # compute scores\n",
    "# array_src = sitk.GetArrayFromImage(img_src)\n",
    "# array_pred = sitk.GetArrayFromImage(img_pred)\n",
    "# array_mask = sitk.GetArrayFromImage(img_mask)\n",
    "\n",
    "# print(metrics.score_patient(array_src, array_pred, array_mask))"
   ]
  },
  {
   "cell_type": "code",
   "execution_count": null,
   "id": "2b2731f4",
   "metadata": {},
   "outputs": [],
   "source": []
  }
 ],
 "metadata": {
  "kernelspec": {
   "display_name": "Python 3",
   "language": "python",
   "name": "python3"
  },
  "language_info": {
   "codemirror_mode": {
    "name": "ipython",
    "version": 3
   },
   "file_extension": ".py",
   "mimetype": "text/x-python",
   "name": "python",
   "nbconvert_exporter": "python",
   "pygments_lexer": "ipython3",
   "version": "3.10.0"
  }
 },
 "nbformat": 4,
 "nbformat_minor": 5
}
