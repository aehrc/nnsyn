{
 "cells": [
  {
   "cell_type": "code",
   "execution_count": 12,
   "id": "cc0fcc64",
   "metadata": {},
   "outputs": [
    {
     "name": "stdout",
     "output_type": "stream",
     "text": [
      "The autoreload extension is already loaded. To reload it, use:\n",
      "  %reload_ext autoreload\n"
     ]
    }
   ],
   "source": [
    "import os, glob, shutil, json\n",
    "from pathlib import Path\n",
    "import SimpleITK as sitk\n",
    "import numpy as np\n",
    "from concurrent.futures import ThreadPoolExecutor\n",
    "from tqdm import tqdm\n",
    "import datetime\n",
    "from pprint import pprint\n",
    "\n",
    "sys.path.append(\"/datasets/work/hb-synthrad2023/work/synthrad2025/bw_workplace/ref/nnUNet_translation/nnunetv2/analysis\")\n",
    "from revert_normalisation import get_ct_normalisation_values\n",
    "\n",
    "%load_ext autoreload\n",
    "%autoreload 2\n"
   ]
  },
  {
   "cell_type": "code",
   "execution_count": 14,
   "id": "33570be3",
   "metadata": {},
   "outputs": [],
   "source": [
    "os.environ[\"nnUNet_raw\"] = \"/datasets/work/hb-synthrad2023/work/synthrad2025/bw_workplace/data/nnunet_struct/raw\"\n",
    "os.environ[\"nnUNet_preprocessed\"] = \"/datasets/work/hb-synthrad2023/work/synthrad2025/bw_workplace/data/nnunet_struct/preprocessed\"\n",
    "os.environ[\"nnUNet_results\"] = \"/datasets/work/hb-synthrad2023/work/synthrad2025/bw_workplace/data/nnunet_struct/results\"\n",
    "\n",
    "data_root = \"/datasets/work/hb-synthrad2023/source/synthrad2025_data_v2/synthRAD2025_Task1_Val_Input/Task1\"\n",
    "\n",
    "submission_path = \"/datasets/work/hb-synthrad2023/work/synthrad2025/bw_workplace/data/nnunet_struct/submission\"\n",
    "submission_name = f'task1_{datetime.datetime.now().strftime(\"%Y%m%d\")}_3models_res'\n",
    "\n",
    "\n",
    "# list_data_mri = sorted(glob.glob(os.path.join(data_root, '**','mr.mha'), recursive=True))\n",
    "# list_data_mask = sorted(glob.glob(os.path.join(data_root, '**','mask.mha'), recursive=True))\n",
    "# print(\"input1 ---\", len(list_data_mri), list_data_mri)\n",
    "# print(\"input2 ---\", len(list_data_mask), list_data_mask)"
   ]
  },
  {
   "cell_type": "code",
   "execution_count": null,
   "id": "2f58a7ce",
   "metadata": {},
   "outputs": [],
   "source": [
    "def revert_normalisation(pred_path, ct_mean, ct_std, save_path=None):\n",
    "    \"\"\"\n",
    "    Revert the normalisation of a CT image.\n",
    "    \"\"\"\n",
    "    if save_path is None:\n",
    "        save_path = pred_path + '_revert_norm'\n",
    "    os.makedirs(save_path, exist_ok=True)\n",
    "    imgs = glob.glob(os.path.join(pred_path, \"*.mha\"))\n",
    "    for img in tqdm(imgs):\n",
    "        img_sitk = sitk.ReadImage(img)\n",
    "        img_array = sitk.GetArrayFromImage(img_sitk)\n",
    "        img_array = img_array * ct_std + ct_mean\n",
    "        img_sitk_reverted = sitk.GetImageFromArray(img_array)\n",
    "        img_sitk_reverted.CopyInformation(img_sitk)\n",
    "        sitk.WriteImage(img_sitk_reverted, os.path.join(save_path, os.path.basename(img)))"
   ]
  },
  {
   "cell_type": "markdown",
   "id": "070d5cc7",
   "metadata": {},
   "source": [
    "# Dataset AB"
   ]
  },
  {
   "cell_type": "code",
   "execution_count": 16,
   "id": "79f92279",
   "metadata": {},
   "outputs": [
    {
     "name": "stdout",
     "output_type": "stream",
     "text": [
      "{'dataset_id': 310, 'dataset_data_name': 'synthrad2025_task1_MR_AB_res', 'dataset_target_name': 'synthrad2025_task1_CT_AB_res', 'data_root': '/datasets/work/hb-synthrad2023/source/synthrad2025_data_v2/synthRAD2025_Task1_Train/Task1/AB', 'preprocessing_CT': 'CT', 'preprocessing_MRI': 'MR', 'preprocessing_mask': 'no mask'}\n"
     ]
    }
   ],
   "source": [
    "config = json.load(open(\"config_310.json\"))\n",
    "print(config)"
   ]
  },
  {
   "cell_type": "code",
   "execution_count": 17,
   "id": "b7af0f90",
   "metadata": {},
   "outputs": [],
   "source": [
    "# copy files to nnUNet raw data directory\n",
    "\n",
    "dataset_id = config['dataset_id']\n",
    "dataset_data_name = config['dataset_data_name']\n",
    "plan = \"nnUNetResEncUNetPlans_80G\"\n"
   ]
  },
  {
   "cell_type": "code",
   "execution_count": 18,
   "id": "73245741",
   "metadata": {},
   "outputs": [],
   "source": [
    "input_dir = \"/datasets/work/hb-synthrad2023/work/synthrad2025/bw_workplace/data/nnunet_struct/raw/Dataset300_synthrad2025_task1_MR_AB/imagesVal\"\n",
    "# create submission folder with date today\n",
    "submission_name = f'task1_{datetime.datetime.now().strftime(\"%Y%m%d\")}_3models'\n",
    "output_dir = os.path.join(submission_path, submission_name, f'DatasetID{dataset_id:03d}_{dataset_data_name}')\n",
    "os.makedirs(output_dir, exist_ok=True)\n",
    "fold = 0"
   ]
  },
  {
   "cell_type": "code",
   "execution_count": 19,
   "id": "8691cdbc",
   "metadata": {},
   "outputs": [
    {
     "name": "stdout",
     "output_type": "stream",
     "text": [
      "\n",
      "#######################################################################\n",
      "Please cite the following paper when using nnU-Net:\n",
      "Isensee, F., Jaeger, P. F., Kohl, S. A., Petersen, J., & Maier-Hein, K. H. (2021). nnU-Net: a self-configuring method for deep learning-based biomedical image segmentation. Nature methods, 18(2), 203-211.\n",
      "#######################################################################\n",
      "\n",
      "tile :  0.5\n",
      "There are 27 cases in the source folder\n",
      "[['/datasets/work/hb-synthrad2023/work/synthrad2025/bw_workplace/data/nnunet_struct/raw/Dataset300_synthrad2025_task1_MR_AB/imagesVal/1ABA002_0000.mha'], ['/datasets/work/hb-synthrad2023/work/synthrad2025/bw_workplace/data/nnunet_struct/raw/Dataset300_synthrad2025_task1_MR_AB/imagesVal/1ABA008_0000.mha'], ['/datasets/work/hb-synthrad2023/work/synthrad2025/bw_workplace/data/nnunet_struct/raw/Dataset300_synthrad2025_task1_MR_AB/imagesVal/1ABA010_0000.mha'], ['/datasets/work/hb-synthrad2023/work/synthrad2025/bw_workplace/data/nnunet_struct/raw/Dataset300_synthrad2025_task1_MR_AB/imagesVal/1ABA017_0000.mha'], ['/datasets/work/hb-synthrad2023/work/synthrad2025/bw_workplace/data/nnunet_struct/raw/Dataset300_synthrad2025_task1_MR_AB/imagesVal/1ABA021_0000.mha'], ['/datasets/work/hb-synthrad2023/work/synthrad2025/bw_workplace/data/nnunet_struct/raw/Dataset300_synthrad2025_task1_MR_AB/imagesVal/1ABA023_0000.mha'], ['/datasets/work/hb-synthrad2023/work/synthrad2025/bw_workplace/data/nnunet_struct/raw/Dataset300_synthrad2025_task1_MR_AB/imagesVal/1ABA032_0000.mha'], ['/datasets/work/hb-synthrad2023/work/synthrad2025/bw_workplace/data/nnunet_struct/raw/Dataset300_synthrad2025_task1_MR_AB/imagesVal/1ABA037_0000.mha'], ['/datasets/work/hb-synthrad2023/work/synthrad2025/bw_workplace/data/nnunet_struct/raw/Dataset300_synthrad2025_task1_MR_AB/imagesVal/1ABA055_0000.mha'], ['/datasets/work/hb-synthrad2023/work/synthrad2025/bw_workplace/data/nnunet_struct/raw/Dataset300_synthrad2025_task1_MR_AB/imagesVal/1ABA064_0000.mha'], ['/datasets/work/hb-synthrad2023/work/synthrad2025/bw_workplace/data/nnunet_struct/raw/Dataset300_synthrad2025_task1_MR_AB/imagesVal/1ABB022_0000.mha'], ['/datasets/work/hb-synthrad2023/work/synthrad2025/bw_workplace/data/nnunet_struct/raw/Dataset300_synthrad2025_task1_MR_AB/imagesVal/1ABB051_0000.mha'], ['/datasets/work/hb-synthrad2023/work/synthrad2025/bw_workplace/data/nnunet_struct/raw/Dataset300_synthrad2025_task1_MR_AB/imagesVal/1ABB080_0000.mha'], ['/datasets/work/hb-synthrad2023/work/synthrad2025/bw_workplace/data/nnunet_struct/raw/Dataset300_synthrad2025_task1_MR_AB/imagesVal/1ABB081_0000.mha'], ['/datasets/work/hb-synthrad2023/work/synthrad2025/bw_workplace/data/nnunet_struct/raw/Dataset300_synthrad2025_task1_MR_AB/imagesVal/1ABB085_0000.mha'], ['/datasets/work/hb-synthrad2023/work/synthrad2025/bw_workplace/data/nnunet_struct/raw/Dataset300_synthrad2025_task1_MR_AB/imagesVal/1ABB097_0000.mha'], ['/datasets/work/hb-synthrad2023/work/synthrad2025/bw_workplace/data/nnunet_struct/raw/Dataset300_synthrad2025_task1_MR_AB/imagesVal/1ABB099_0000.mha'], ['/datasets/work/hb-synthrad2023/work/synthrad2025/bw_workplace/data/nnunet_struct/raw/Dataset300_synthrad2025_task1_MR_AB/imagesVal/1ABB101_0000.mha'], ['/datasets/work/hb-synthrad2023/work/synthrad2025/bw_workplace/data/nnunet_struct/raw/Dataset300_synthrad2025_task1_MR_AB/imagesVal/1ABB104_0000.mha'], ['/datasets/work/hb-synthrad2023/work/synthrad2025/bw_workplace/data/nnunet_struct/raw/Dataset300_synthrad2025_task1_MR_AB/imagesVal/1ABB111_0000.mha'], ['/datasets/work/hb-synthrad2023/work/synthrad2025/bw_workplace/data/nnunet_struct/raw/Dataset300_synthrad2025_task1_MR_AB/imagesVal/1ABB134_0000.mha'], ['/datasets/work/hb-synthrad2023/work/synthrad2025/bw_workplace/data/nnunet_struct/raw/Dataset300_synthrad2025_task1_MR_AB/imagesVal/1ABB142_0000.mha'], ['/datasets/work/hb-synthrad2023/work/synthrad2025/bw_workplace/data/nnunet_struct/raw/Dataset300_synthrad2025_task1_MR_AB/imagesVal/1ABB148_0000.mha'], ['/datasets/work/hb-synthrad2023/work/synthrad2025/bw_workplace/data/nnunet_struct/raw/Dataset300_synthrad2025_task1_MR_AB/imagesVal/1ABB158_0000.mha'], ['/datasets/work/hb-synthrad2023/work/synthrad2025/bw_workplace/data/nnunet_struct/raw/Dataset300_synthrad2025_task1_MR_AB/imagesVal/1ABC001_0000.mha'], ['/datasets/work/hb-synthrad2023/work/synthrad2025/bw_workplace/data/nnunet_struct/raw/Dataset300_synthrad2025_task1_MR_AB/imagesVal/1ABC015_0000.mha'], ['/datasets/work/hb-synthrad2023/work/synthrad2025/bw_workplace/data/nnunet_struct/raw/Dataset300_synthrad2025_task1_MR_AB/imagesVal/1ABC145_0000.mha']]\n",
      "There are 27 cases that I would like to predict\n",
      "\n",
      "Predicting 1ABA002:\n",
      "perform_everything_on_device: True\n",
      "Reconstruction: MEAN\n"
     ]
    },
    {
     "name": "stderr",
     "output_type": "stream",
     "text": [
      "100%|████████████████████████████████████████████| 1/1 [00:00<00:00,  1.34it/s]\n"
     ]
    },
    {
     "name": "stdout",
     "output_type": "stream",
     "text": [
      "sending off prediction to background worker for resampling and export\n",
      "done with 1ABA002\n",
      "\n",
      "Predicting 1ABA008:\n",
      "perform_everything_on_device: True\n",
      "(69, 329, 368) -0.8477 2.645 float16\n",
      "Reconstruction: MEAN\n"
     ]
    },
    {
     "name": "stderr",
     "output_type": "stream",
     "text": [
      "100%|████████████████████████████████████████████| 2/2 [00:00<00:00,  5.09it/s]\n"
     ]
    },
    {
     "name": "stdout",
     "output_type": "stream",
     "text": [
      "sending off prediction to background worker for resampling and export\n",
      "done with 1ABA008\n",
      "\n",
      "Predicting 1ABA010:\n",
      "perform_everything_on_device: True\n",
      "(72, 349, 470) -0.8154 2.459 float16\n",
      "Reconstruction: MEAN\n"
     ]
    },
    {
     "name": "stderr",
     "output_type": "stream",
     "text": [
      "100%|████████████████████████████████████████████| 4/4 [00:00<00:00,  5.27it/s]\n"
     ]
    },
    {
     "name": "stdout",
     "output_type": "stream",
     "text": [
      "sending off prediction to background worker for resampling and export\n",
      "done with 1ABA010\n",
      "\n",
      "Predicting 1ABA017:\n",
      "perform_everything_on_device: True\n",
      "(65, 490, 499) -0.808 2.5 float16\n",
      "Reconstruction: MEAN\n"
     ]
    },
    {
     "name": "stderr",
     "output_type": "stream",
     "text": [
      "100%|████████████████████████████████████████████| 2/2 [00:00<00:00,  5.07it/s]\n"
     ]
    },
    {
     "name": "stdout",
     "output_type": "stream",
     "text": [
      "sending off prediction to background worker for resampling and export\n",
      "done with 1ABA017\n",
      "\n",
      "Predicting 1ABA021:\n",
      "perform_everything_on_device: True\n",
      "(80, 358, 474) -0.901 2.527 float16\n",
      "Reconstruction: MEAN\n"
     ]
    },
    {
     "name": "stderr",
     "output_type": "stream",
     "text": [
      "100%|████████████████████████████████████████████| 2/2 [00:00<00:00,  5.27it/s]\n"
     ]
    },
    {
     "name": "stdout",
     "output_type": "stream",
     "text": [
      "sending off prediction to background worker for resampling and export\n",
      "done with 1ABA021\n",
      "\n",
      "Predicting 1ABA023:\n",
      "perform_everything_on_device: True\n",
      "(96, 359, 473) -0.896 2.574 float16\n",
      "Reconstruction: MEAN\n"
     ]
    },
    {
     "name": "stderr",
     "output_type": "stream",
     "text": [
      "100%|████████████████████████████████████████████| 4/4 [00:00<00:00,  5.22it/s]\n"
     ]
    },
    {
     "name": "stdout",
     "output_type": "stream",
     "text": [
      "sending off prediction to background worker for resampling and export\n",
      "done with 1ABA023\n",
      "\n",
      "Predicting 1ABA032:\n",
      "perform_everything_on_device: True\n",
      "(112, 393, 487) -0.9473 2.705 float16\n",
      "Reconstruction: MEAN\n"
     ]
    },
    {
     "name": "stderr",
     "output_type": "stream",
     "text": [
      "100%|████████████████████████████████████████████| 2/2 [00:00<00:00,  5.11it/s]\n"
     ]
    },
    {
     "name": "stdout",
     "output_type": "stream",
     "text": [
      "sending off prediction to background worker for resampling and export\n",
      "done with 1ABA032\n",
      "\n",
      "Predicting 1ABA037:\n",
      "perform_everything_on_device: True\n",
      "(108, 344, 467) -0.853 2.566 float16\n",
      "Reconstruction: MEAN\n"
     ]
    },
    {
     "name": "stderr",
     "output_type": "stream",
     "text": [
      "100%|████████████████████████████████████████████| 2/2 [00:00<00:00,  5.16it/s]\n"
     ]
    },
    {
     "name": "stdout",
     "output_type": "stream",
     "text": [
      "sending off prediction to background worker for resampling and export\n",
      "done with 1ABA037\n",
      "\n",
      "Predicting 1ABA055:\n",
      "perform_everything_on_device: True\n",
      "(82, 350, 468) -0.8247 2.49 float16\n",
      "Reconstruction: MEAN\n"
     ]
    },
    {
     "name": "stderr",
     "output_type": "stream",
     "text": [
      "100%|████████████████████████████████████████████| 2/2 [00:00<00:00,  5.25it/s]\n"
     ]
    },
    {
     "name": "stdout",
     "output_type": "stream",
     "text": [
      "sending off prediction to background worker for resampling and export\n",
      "done with 1ABA055\n",
      "\n",
      "Predicting 1ABA064:\n",
      "perform_everything_on_device: True\n",
      "(84, 340, 461) -0.876 2.51 float16\n",
      "Reconstruction: MEAN\n"
     ]
    },
    {
     "name": "stderr",
     "output_type": "stream",
     "text": [
      "100%|████████████████████████████████████████████| 2/2 [00:00<00:00,  5.07it/s]\n"
     ]
    },
    {
     "name": "stdout",
     "output_type": "stream",
     "text": [
      "sending off prediction to background worker for resampling and export\n",
      "done with 1ABA064\n",
      "\n",
      "Predicting 1ABB022:\n",
      "perform_everything_on_device: True\n",
      "(82, 342, 461) -0.832 2.547 float16\n",
      "Reconstruction: MEAN\n"
     ]
    },
    {
     "name": "stderr",
     "output_type": "stream",
     "text": [
      "100%|████████████████████████████████████████████| 4/4 [00:00<00:00,  5.21it/s]\n"
     ]
    },
    {
     "name": "stdout",
     "output_type": "stream",
     "text": [
      "sending off prediction to background worker for resampling and export\n",
      "done with 1ABB022\n",
      "\n",
      "Predicting 1ABB051:\n",
      "perform_everything_on_device: True\n",
      "(93, 497, 498) -0.823 2.625 float16\n",
      "Reconstruction: MEAN\n"
     ]
    },
    {
     "name": "stderr",
     "output_type": "stream",
     "text": [
      "100%|████████████████████████████████████████████| 4/4 [00:00<00:00,  5.19it/s]\n"
     ]
    },
    {
     "name": "stdout",
     "output_type": "stream",
     "text": [
      "sending off prediction to background worker for resampling and export\n",
      "done with 1ABB051\n",
      "\n",
      "Predicting 1ABB080:\n",
      "perform_everything_on_device: True\n",
      "(110, 438, 457) -0.84 2.672 float16\n",
      "Reconstruction: MEAN\n"
     ]
    },
    {
     "name": "stderr",
     "output_type": "stream",
     "text": [
      "100%|████████████████████████████████████████████| 4/4 [00:00<00:00,  5.16it/s]\n"
     ]
    },
    {
     "name": "stdout",
     "output_type": "stream",
     "text": [
      "sending off prediction to background worker for resampling and export\n",
      "done with 1ABB080\n",
      "\n",
      "Predicting 1ABB081:\n",
      "perform_everything_on_device: True\n",
      "(96, 393, 395) -0.817 2.584 float16\n",
      "Reconstruction: MEAN\n"
     ]
    },
    {
     "name": "stderr",
     "output_type": "stream",
     "text": [
      "100%|████████████████████████████████████████████| 4/4 [00:00<00:00,  5.31it/s]\n"
     ]
    },
    {
     "name": "stdout",
     "output_type": "stream",
     "text": [
      "sending off prediction to background worker for resampling and export\n",
      "done with 1ABB081\n",
      "\n",
      "Predicting 1ABB085:\n",
      "perform_everything_on_device: True\n",
      "(101, 396, 401) -0.825 2.586 float16\n",
      "Reconstruction: MEAN\n"
     ]
    },
    {
     "name": "stderr",
     "output_type": "stream",
     "text": [
      "100%|████████████████████████████████████████████| 4/4 [00:00<00:00,  5.14it/s]\n"
     ]
    },
    {
     "name": "stdout",
     "output_type": "stream",
     "text": [
      "sending off prediction to background worker for resampling and export\n",
      "done with 1ABB085\n",
      "\n",
      "Predicting 1ABB097:\n",
      "perform_everything_on_device: True\n",
      "(98, 456, 452) -0.833 2.547 float16\n",
      "Reconstruction: MEAN\n"
     ]
    },
    {
     "name": "stderr",
     "output_type": "stream",
     "text": [
      "100%|████████████████████████████████████████████| 4/4 [00:00<00:00,  5.16it/s]\n"
     ]
    },
    {
     "name": "stdout",
     "output_type": "stream",
     "text": [
      "sending off prediction to background worker for resampling and export\n",
      "done with 1ABB097\n",
      "\n",
      "Predicting 1ABB099:\n",
      "perform_everything_on_device: True\n",
      "(93, 497, 498) -0.823 2.625 float16\n",
      "Reconstruction: MEAN\n"
     ]
    },
    {
     "name": "stderr",
     "output_type": "stream",
     "text": [
      "100%|████████████████████████████████████████████| 4/4 [00:00<00:00,  5.28it/s]\n"
     ]
    },
    {
     "name": "stdout",
     "output_type": "stream",
     "text": [
      "sending off prediction to background worker for resampling and export\n",
      "done with 1ABB099\n",
      "\n",
      "Predicting 1ABB101:\n",
      "perform_everything_on_device: True\n",
      "(111, 450, 439) -0.8506 2.508 float16\n",
      "Reconstruction: MEAN\n"
     ]
    },
    {
     "name": "stderr",
     "output_type": "stream",
     "text": [
      "100%|████████████████████████████████████████████| 8/8 [00:01<00:00,  5.26it/s]\n"
     ]
    },
    {
     "name": "stdout",
     "output_type": "stream",
     "text": [
      "sending off prediction to background worker for resampling and export\n",
      "done with 1ABB101\n",
      "\n",
      "Predicting 1ABB104:\n",
      "perform_everything_on_device: True\n",
      "(140, 508, 540) -1.079 2.7 float16\n",
      "Reconstruction: MEAN\n"
     ]
    },
    {
     "name": "stderr",
     "output_type": "stream",
     "text": [
      "100%|████████████████████████████████████████████| 4/4 [00:00<00:00,  5.30it/s]\n"
     ]
    },
    {
     "name": "stdout",
     "output_type": "stream",
     "text": [
      "sending off prediction to background worker for resampling and export\n",
      "done with 1ABB104\n",
      "\n",
      "Predicting 1ABB111:\n",
      "perform_everything_on_device: True\n",
      "(111, 427, 426) -0.8496 2.516 float16\n",
      "Reconstruction: MEAN\n"
     ]
    },
    {
     "name": "stderr",
     "output_type": "stream",
     "text": [
      "100%|████████████████████████████████████████████| 8/8 [00:01<00:00,  5.31it/s]\n"
     ]
    },
    {
     "name": "stdout",
     "output_type": "stream",
     "text": [
      "sending off prediction to background worker for resampling and export\n",
      "done with 1ABB111\n",
      "\n",
      "Predicting 1ABB134:\n",
      "perform_everything_on_device: True\n",
      "(115, 404, 398) -0.8267 2.604 float16\n",
      "Reconstruction: MEAN\n"
     ]
    },
    {
     "name": "stderr",
     "output_type": "stream",
     "text": [
      "100%|████████████████████████████████████████████| 4/4 [00:00<00:00,  5.25it/s]\n"
     ]
    },
    {
     "name": "stdout",
     "output_type": "stream",
     "text": [
      "sending off prediction to background worker for resampling and export\n",
      "done with 1ABB134\n",
      "\n",
      "Predicting 1ABB142:\n",
      "perform_everything_on_device: True\n",
      "(95, 497, 500) -0.871 2.469 float16\n",
      "Reconstruction: MEAN\n"
     ]
    },
    {
     "name": "stderr",
     "output_type": "stream",
     "text": [
      "100%|████████████████████████████████████████████| 4/4 [00:00<00:00,  5.21it/s]\n"
     ]
    },
    {
     "name": "stdout",
     "output_type": "stream",
     "text": [
      "sending off prediction to background worker for resampling and export\n",
      "done with 1ABB142\n",
      "\n",
      "Predicting 1ABB148:\n",
      "perform_everything_on_device: True\n",
      "(78, 492, 491) -0.9863 2.572 float16\n",
      "Reconstruction: MEAN\n"
     ]
    },
    {
     "name": "stderr",
     "output_type": "stream",
     "text": [
      "100%|████████████████████████████████████████████| 8/8 [00:01<00:00,  5.19it/s]\n"
     ]
    },
    {
     "name": "stdout",
     "output_type": "stream",
     "text": [
      "sending off prediction to background worker for resampling and export\n",
      "done with 1ABB148\n",
      "\n",
      "Predicting 1ABB158:\n",
      "perform_everything_on_device: True\n",
      "(126, 445, 448) -0.828 2.629 float16\n",
      "Reconstruction: MEAN\n"
     ]
    },
    {
     "name": "stderr",
     "output_type": "stream",
     "text": [
      "100%|████████████████████████████████████████████| 4/4 [00:00<00:00,  5.11it/s]\n"
     ]
    },
    {
     "name": "stdout",
     "output_type": "stream",
     "text": [
      "sending off prediction to background worker for resampling and export\n",
      "done with 1ABB158\n",
      "\n",
      "Predicting 1ABC001:\n",
      "perform_everything_on_device: True\n",
      "(76, 493, 489) -0.855 2.535 float16\n",
      "Reconstruction: MEAN\n"
     ]
    },
    {
     "name": "stderr",
     "output_type": "stream",
     "text": [
      "100%|████████████████████████████████████████████| 4/4 [00:00<00:00,  5.14it/s]\n"
     ]
    },
    {
     "name": "stdout",
     "output_type": "stream",
     "text": [
      "sending off prediction to background worker for resampling and export\n",
      "done with 1ABC001\n",
      "\n",
      "Predicting 1ABC015:\n",
      "perform_everything_on_device: True\n",
      "(88, 443, 490) -0.952 2.402 float16\n",
      "Reconstruction: MEAN\n"
     ]
    },
    {
     "name": "stderr",
     "output_type": "stream",
     "text": [
      "100%|████████████████████████████████████████████| 4/4 [00:00<00:00,  5.15it/s]\n"
     ]
    },
    {
     "name": "stdout",
     "output_type": "stream",
     "text": [
      "sending off prediction to background worker for resampling and export\n",
      "done with 1ABC015\n",
      "\n",
      "Predicting 1ABC145:\n",
      "perform_everything_on_device: True\n",
      "(88, 459, 502) -0.8867 2.451 float16\n",
      "Reconstruction: MEAN\n"
     ]
    },
    {
     "name": "stderr",
     "output_type": "stream",
     "text": [
      "100%|████████████████████████████████████████████| 4/4 [00:00<00:00,  5.14it/s]\n"
     ]
    },
    {
     "name": "stdout",
     "output_type": "stream",
     "text": [
      "sending off prediction to background worker for resampling and export\n",
      "done with 1ABC145\n",
      "(116, 360, 475) -0.838 2.63 float16\n"
     ]
    },
    {
     "data": {
      "text/plain": [
       "0"
      ]
     },
     "execution_count": 19,
     "metadata": {},
     "output_type": "execute_result"
    }
   ],
   "source": [
    "os.system(f\"nnUNetv2_predict -d {dataset_id} -i {input_dir} -o {output_dir} -c 3d_fullres -p {plan} -tr nnUNetTrainerMRCT -f {fold}\")"
   ]
  },
  {
   "cell_type": "code",
   "execution_count": 20,
   "id": "42f4e741",
   "metadata": {},
   "outputs": [
    {
     "name": "stdout",
     "output_type": "stream",
     "text": [
      "CT mean: -660.54248046875, CT std: 452.00933837890625\n"
     ]
    },
    {
     "name": "stderr",
     "output_type": "stream",
     "text": [
      "  0%|          | 0/27 [00:00<?, ?it/s]"
     ]
    },
    {
     "name": "stdout",
     "output_type": "stream",
     "text": [
      "(1.0, 1.0, 3.0)\n",
      "(1.0, 1.0, 3.0)\n"
     ]
    },
    {
     "name": "stderr",
     "output_type": "stream",
     "text": [
      "  4%|▎         | 1/27 [00:00<00:07,  3.34it/s]"
     ]
    },
    {
     "name": "stdout",
     "output_type": "stream",
     "text": [
      "(1.0, 1.0, 3.0)\n",
      "(1.0, 1.0, 3.0)\n"
     ]
    },
    {
     "name": "stderr",
     "output_type": "stream",
     "text": [
      "  7%|▋         | 2/27 [00:00<00:09,  2.64it/s]"
     ]
    },
    {
     "name": "stdout",
     "output_type": "stream",
     "text": [
      "(1.0, 1.0, 3.0)\n",
      "(1.0, 1.0, 3.0)\n"
     ]
    },
    {
     "name": "stderr",
     "output_type": "stream",
     "text": [
      " 11%|█         | 3/27 [00:01<00:11,  2.09it/s]"
     ]
    },
    {
     "name": "stdout",
     "output_type": "stream",
     "text": [
      "(1.0, 1.0, 3.0)\n",
      "(1.0, 1.0, 3.0)\n"
     ]
    },
    {
     "name": "stderr",
     "output_type": "stream",
     "text": [
      " 15%|█▍        | 4/27 [00:01<00:11,  2.06it/s]"
     ]
    },
    {
     "name": "stdout",
     "output_type": "stream",
     "text": [
      "(1.0, 1.0, 3.0)\n",
      "(1.0, 1.0, 3.0)\n"
     ]
    },
    {
     "name": "stderr",
     "output_type": "stream",
     "text": [
      " 19%|█▊        | 5/27 [00:02<00:11,  1.89it/s]"
     ]
    },
    {
     "name": "stdout",
     "output_type": "stream",
     "text": [
      "(1.0, 1.0, 3.0)\n",
      "(1.0, 1.0, 3.0)\n"
     ]
    },
    {
     "name": "stderr",
     "output_type": "stream",
     "text": [
      " 22%|██▏       | 6/27 [00:03<00:13,  1.59it/s]"
     ]
    },
    {
     "name": "stdout",
     "output_type": "stream",
     "text": [
      "(1.0, 1.0, 3.0)\n",
      "(1.0, 1.0, 3.0)\n"
     ]
    },
    {
     "name": "stderr",
     "output_type": "stream",
     "text": [
      " 26%|██▌       | 7/27 [00:03<00:12,  1.60it/s]"
     ]
    },
    {
     "name": "stdout",
     "output_type": "stream",
     "text": [
      "(1.0, 1.0, 3.0)\n",
      "(1.0, 1.0, 3.0)\n"
     ]
    },
    {
     "name": "stderr",
     "output_type": "stream",
     "text": [
      " 30%|██▉       | 8/27 [00:04<00:11,  1.71it/s]"
     ]
    },
    {
     "name": "stdout",
     "output_type": "stream",
     "text": [
      "(1.0, 1.0, 3.0)\n",
      "(1.0, 1.0, 3.0)\n"
     ]
    },
    {
     "name": "stderr",
     "output_type": "stream",
     "text": [
      " 33%|███▎      | 9/27 [00:04<00:09,  1.81it/s]"
     ]
    },
    {
     "name": "stdout",
     "output_type": "stream",
     "text": [
      "(1.0, 1.0, 3.0)\n",
      "(1.0, 1.0, 3.0)\n"
     ]
    },
    {
     "name": "stderr",
     "output_type": "stream",
     "text": [
      " 37%|███▋      | 10/27 [00:05<00:09,  1.85it/s]"
     ]
    },
    {
     "name": "stdout",
     "output_type": "stream",
     "text": [
      "(1.0, 1.0, 3.0)\n",
      "(1.0, 1.0, 3.0)\n"
     ]
    },
    {
     "name": "stderr",
     "output_type": "stream",
     "text": [
      " 41%|████      | 11/27 [00:06<00:10,  1.51it/s]"
     ]
    },
    {
     "name": "stdout",
     "output_type": "stream",
     "text": [
      "(1.0, 1.0, 3.0)\n",
      "(1.0, 1.0, 3.0)\n"
     ]
    },
    {
     "name": "stderr",
     "output_type": "stream",
     "text": [
      " 44%|████▍     | 12/27 [00:07<00:10,  1.37it/s]"
     ]
    },
    {
     "name": "stdout",
     "output_type": "stream",
     "text": [
      "(1.0, 1.0, 3.0)\n",
      "(1.0, 1.0, 3.0)\n"
     ]
    },
    {
     "name": "stderr",
     "output_type": "stream",
     "text": [
      " 48%|████▊     | 13/27 [00:07<00:09,  1.48it/s]"
     ]
    },
    {
     "name": "stdout",
     "output_type": "stream",
     "text": [
      "(1.0, 1.0, 3.0)\n",
      "(1.0, 1.0, 3.0)\n"
     ]
    },
    {
     "name": "stderr",
     "output_type": "stream",
     "text": [
      " 52%|█████▏    | 14/27 [00:08<00:08,  1.51it/s]"
     ]
    },
    {
     "name": "stdout",
     "output_type": "stream",
     "text": [
      "(1.0, 1.0, 3.0)\n",
      "(1.0, 1.0, 3.0)\n"
     ]
    },
    {
     "name": "stderr",
     "output_type": "stream",
     "text": [
      " 56%|█████▌    | 15/27 [00:09<00:08,  1.44it/s]"
     ]
    },
    {
     "name": "stdout",
     "output_type": "stream",
     "text": [
      "(1.0, 1.0, 3.0)\n",
      "(1.0, 1.0, 3.0)\n"
     ]
    },
    {
     "name": "stderr",
     "output_type": "stream",
     "text": [
      " 59%|█████▉    | 16/27 [00:09<00:08,  1.37it/s]"
     ]
    },
    {
     "name": "stdout",
     "output_type": "stream",
     "text": [
      "(1.0, 1.0, 3.0)\n",
      "(1.0, 1.0, 3.0)\n"
     ]
    },
    {
     "name": "stderr",
     "output_type": "stream",
     "text": [
      " 63%|██████▎   | 17/27 [00:10<00:08,  1.23it/s]"
     ]
    },
    {
     "name": "stdout",
     "output_type": "stream",
     "text": [
      "(1.0, 1.0, 3.0)\n",
      "(1.0, 1.0, 3.0)\n"
     ]
    },
    {
     "name": "stderr",
     "output_type": "stream",
     "text": [
      " 67%|██████▋   | 18/27 [00:12<00:08,  1.00it/s]"
     ]
    },
    {
     "name": "stdout",
     "output_type": "stream",
     "text": [
      "(1.0, 1.0, 3.0)\n",
      "(1.0, 1.0, 3.0)\n"
     ]
    },
    {
     "name": "stderr",
     "output_type": "stream",
     "text": [
      " 70%|███████   | 19/27 [00:13<00:07,  1.07it/s]"
     ]
    },
    {
     "name": "stdout",
     "output_type": "stream",
     "text": [
      "(1.0, 1.0, 3.0)\n",
      "(1.0, 1.0, 3.0)\n"
     ]
    },
    {
     "name": "stderr",
     "output_type": "stream",
     "text": [
      " 74%|███████▍  | 20/27 [00:13<00:06,  1.16it/s]"
     ]
    },
    {
     "name": "stdout",
     "output_type": "stream",
     "text": [
      "(1.0, 1.0, 3.0)\n",
      "(1.0, 1.0, 3.0)\n"
     ]
    },
    {
     "name": "stderr",
     "output_type": "stream",
     "text": [
      " 78%|███████▊  | 21/27 [00:14<00:05,  1.17it/s]"
     ]
    },
    {
     "name": "stdout",
     "output_type": "stream",
     "text": [
      "(1.0, 1.0, 3.0)\n",
      "(1.0, 1.0, 3.0)\n"
     ]
    },
    {
     "name": "stderr",
     "output_type": "stream",
     "text": [
      " 81%|████████▏ | 22/27 [00:15<00:04,  1.20it/s]"
     ]
    },
    {
     "name": "stdout",
     "output_type": "stream",
     "text": [
      "(1.0, 1.0, 3.0)\n",
      "(1.0, 1.0, 3.0)\n"
     ]
    },
    {
     "name": "stderr",
     "output_type": "stream",
     "text": [
      " 85%|████████▌ | 23/27 [00:16<00:03,  1.12it/s]"
     ]
    },
    {
     "name": "stdout",
     "output_type": "stream",
     "text": [
      "(1.0, 1.0, 3.0)\n",
      "(1.0, 1.0, 3.0)\n"
     ]
    },
    {
     "name": "stderr",
     "output_type": "stream",
     "text": [
      " 89%|████████▉ | 24/27 [00:17<00:02,  1.19it/s]"
     ]
    },
    {
     "name": "stdout",
     "output_type": "stream",
     "text": [
      "(1.0, 1.0, 3.0)\n",
      "(1.0, 1.0, 3.0)\n"
     ]
    },
    {
     "name": "stderr",
     "output_type": "stream",
     "text": [
      " 93%|█████████▎| 25/27 [00:17<00:01,  1.26it/s]"
     ]
    },
    {
     "name": "stdout",
     "output_type": "stream",
     "text": [
      "(1.0, 1.0, 3.0)\n",
      "(1.0, 1.0, 3.0)\n"
     ]
    },
    {
     "name": "stderr",
     "output_type": "stream",
     "text": [
      " 96%|█████████▋| 26/27 [00:18<00:00,  1.29it/s]"
     ]
    },
    {
     "name": "stdout",
     "output_type": "stream",
     "text": [
      "(1.0, 1.0, 3.0)\n",
      "(1.0, 1.0, 3.0)\n"
     ]
    },
    {
     "name": "stderr",
     "output_type": "stream",
     "text": [
      "100%|██████████| 27/27 [00:19<00:00,  1.39it/s]\n"
     ]
    }
   ],
   "source": [
    "\n",
    "ct_plan_path = f\"/datasets/work/hb-synthrad2023/work/synthrad2025/bw_workplace/data/nnunet_struct/preprocessed/Dataset{config['dataset_id'] + 1}_{config['dataset_target_name']}/{plan}.json\"\n",
    "ct_mean, ct_std = get_ct_normalisation_values(ct_plan_path)\n",
    "revert_normalisation(output_dir, ct_mean, ct_std, save_path=output_dir + \"_revert_norm\")\n",
    "# move previous results to backup\n",
    "if os.path.exists(output_dir):\n",
    "    shutil.move(output_dir, output_dir + \"_revert_norm/backup_normalised\")"
   ]
  },
  {
   "cell_type": "markdown",
   "id": "b36aa94f",
   "metadata": {},
   "source": [
    "# Dataset HN"
   ]
  },
  {
   "cell_type": "code",
   "execution_count": 21,
   "id": "f8ea3b10",
   "metadata": {},
   "outputs": [
    {
     "name": "stdout",
     "output_type": "stream",
     "text": [
      "{'configuration': '3d_fullres',\n",
      " 'data_root': '/datasets/work/hb-synthrad2023/source/synthrad2025_data_v2/synthRAD2025_Task1_Train/Task1/HN',\n",
      " 'dataset_data_name': 'synthrad2025_task1_MR_HN_res',\n",
      " 'dataset_id': 312,\n",
      " 'dataset_plan': 'nnUNetPlannerResEnc(M/L/XL)',\n",
      " 'dataset_target_name': 'synthrad2025_task1_CT_HN_res',\n",
      " 'fold': 0,\n",
      " 'preprocessing_CT': 'CT',\n",
      " 'preprocessing_MRI': 'MR',\n",
      " 'preprocessing_mask': 'no mask',\n",
      " 'region': 'HN',\n",
      " 'trainer': 'nnUNetTrainerMRCT'}\n"
     ]
    }
   ],
   "source": [
    "# copy files to nnUNet raw data directory\n",
    "config = json.load(open(\"config_312.json\"))\n",
    "pprint(config)\n",
    "dataset_id = config['dataset_id']\n",
    "dataset_data_name = config['dataset_data_name']\n",
    "plan = \"nnUNetResEncUNetMPlans\""
   ]
  },
  {
   "cell_type": "code",
   "execution_count": 22,
   "id": "99103947",
   "metadata": {},
   "outputs": [
    {
     "name": "stdout",
     "output_type": "stream",
     "text": [
      "\n",
      "#######################################################################\n",
      "Please cite the following paper when using nnU-Net:\n",
      "Isensee, F., Jaeger, P. F., Kohl, S. A., Petersen, J., & Maier-Hein, K. H. (2021). nnU-Net: a self-configuring method for deep learning-based biomedical image segmentation. Nature methods, 18(2), 203-211.\n",
      "#######################################################################\n",
      "\n",
      "tile :  0.5\n",
      "There are 34 cases in the source folder\n",
      "[['/datasets/work/hb-synthrad2023/work/synthrad2025/bw_workplace/data/nnunet_struct/raw/Dataset302_synthrad2025_task1_MR_HN/imagesVal/1HNA002_0000.mha'], ['/datasets/work/hb-synthrad2023/work/synthrad2025/bw_workplace/data/nnunet_struct/raw/Dataset302_synthrad2025_task1_MR_HN/imagesVal/1HNA005_0000.mha'], ['/datasets/work/hb-synthrad2023/work/synthrad2025/bw_workplace/data/nnunet_struct/raw/Dataset302_synthrad2025_task1_MR_HN/imagesVal/1HNA017_0000.mha'], ['/datasets/work/hb-synthrad2023/work/synthrad2025/bw_workplace/data/nnunet_struct/raw/Dataset302_synthrad2025_task1_MR_HN/imagesVal/1HNA020_0000.mha'], ['/datasets/work/hb-synthrad2023/work/synthrad2025/bw_workplace/data/nnunet_struct/raw/Dataset302_synthrad2025_task1_MR_HN/imagesVal/1HNA052_0000.mha'], ['/datasets/work/hb-synthrad2023/work/synthrad2025/bw_workplace/data/nnunet_struct/raw/Dataset302_synthrad2025_task1_MR_HN/imagesVal/1HNA054_0000.mha'], ['/datasets/work/hb-synthrad2023/work/synthrad2025/bw_workplace/data/nnunet_struct/raw/Dataset302_synthrad2025_task1_MR_HN/imagesVal/1HNA062_0000.mha'], ['/datasets/work/hb-synthrad2023/work/synthrad2025/bw_workplace/data/nnunet_struct/raw/Dataset302_synthrad2025_task1_MR_HN/imagesVal/1HNA063_0000.mha'], ['/datasets/work/hb-synthrad2023/work/synthrad2025/bw_workplace/data/nnunet_struct/raw/Dataset302_synthrad2025_task1_MR_HN/imagesVal/1HNA070_0000.mha'], ['/datasets/work/hb-synthrad2023/work/synthrad2025/bw_workplace/data/nnunet_struct/raw/Dataset302_synthrad2025_task1_MR_HN/imagesVal/1HNA073_0000.mha'], ['/datasets/work/hb-synthrad2023/work/synthrad2025/bw_workplace/data/nnunet_struct/raw/Dataset302_synthrad2025_task1_MR_HN/imagesVal/1HNA078_0000.mha'], ['/datasets/work/hb-synthrad2023/work/synthrad2025/bw_workplace/data/nnunet_struct/raw/Dataset302_synthrad2025_task1_MR_HN/imagesVal/1HNA081_0000.mha'], ['/datasets/work/hb-synthrad2023/work/synthrad2025/bw_workplace/data/nnunet_struct/raw/Dataset302_synthrad2025_task1_MR_HN/imagesVal/1HNA092_0000.mha'], ['/datasets/work/hb-synthrad2023/work/synthrad2025/bw_workplace/data/nnunet_struct/raw/Dataset302_synthrad2025_task1_MR_HN/imagesVal/1HNA094_0000.mha'], ['/datasets/work/hb-synthrad2023/work/synthrad2025/bw_workplace/data/nnunet_struct/raw/Dataset302_synthrad2025_task1_MR_HN/imagesVal/1HNC015_0000.mha'], ['/datasets/work/hb-synthrad2023/work/synthrad2025/bw_workplace/data/nnunet_struct/raw/Dataset302_synthrad2025_task1_MR_HN/imagesVal/1HNC048_0000.mha'], ['/datasets/work/hb-synthrad2023/work/synthrad2025/bw_workplace/data/nnunet_struct/raw/Dataset302_synthrad2025_task1_MR_HN/imagesVal/1HNC052_0000.mha'], ['/datasets/work/hb-synthrad2023/work/synthrad2025/bw_workplace/data/nnunet_struct/raw/Dataset302_synthrad2025_task1_MR_HN/imagesVal/1HNC055_0000.mha'], ['/datasets/work/hb-synthrad2023/work/synthrad2025/bw_workplace/data/nnunet_struct/raw/Dataset302_synthrad2025_task1_MR_HN/imagesVal/1HNC063_0000.mha'], ['/datasets/work/hb-synthrad2023/work/synthrad2025/bw_workplace/data/nnunet_struct/raw/Dataset302_synthrad2025_task1_MR_HN/imagesVal/1HNC064_0000.mha'], ['/datasets/work/hb-synthrad2023/work/synthrad2025/bw_workplace/data/nnunet_struct/raw/Dataset302_synthrad2025_task1_MR_HN/imagesVal/1HNC093_0000.mha'], ['/datasets/work/hb-synthrad2023/work/synthrad2025/bw_workplace/data/nnunet_struct/raw/Dataset302_synthrad2025_task1_MR_HN/imagesVal/1HNC100_0000.mha'], ['/datasets/work/hb-synthrad2023/work/synthrad2025/bw_workplace/data/nnunet_struct/raw/Dataset302_synthrad2025_task1_MR_HN/imagesVal/1HNC126_0000.mha'], ['/datasets/work/hb-synthrad2023/work/synthrad2025/bw_workplace/data/nnunet_struct/raw/Dataset302_synthrad2025_task1_MR_HN/imagesVal/1HNC129_0000.mha'], ['/datasets/work/hb-synthrad2023/work/synthrad2025/bw_workplace/data/nnunet_struct/raw/Dataset302_synthrad2025_task1_MR_HN/imagesVal/1HND002_0000.mha'], ['/datasets/work/hb-synthrad2023/work/synthrad2025/bw_workplace/data/nnunet_struct/raw/Dataset302_synthrad2025_task1_MR_HN/imagesVal/1HND010_0000.mha'], ['/datasets/work/hb-synthrad2023/work/synthrad2025/bw_workplace/data/nnunet_struct/raw/Dataset302_synthrad2025_task1_MR_HN/imagesVal/1HND011_0000.mha'], ['/datasets/work/hb-synthrad2023/work/synthrad2025/bw_workplace/data/nnunet_struct/raw/Dataset302_synthrad2025_task1_MR_HN/imagesVal/1HND024_0000.mha'], ['/datasets/work/hb-synthrad2023/work/synthrad2025/bw_workplace/data/nnunet_struct/raw/Dataset302_synthrad2025_task1_MR_HN/imagesVal/1HND033_0000.mha'], ['/datasets/work/hb-synthrad2023/work/synthrad2025/bw_workplace/data/nnunet_struct/raw/Dataset302_synthrad2025_task1_MR_HN/imagesVal/1HND041_0000.mha'], ['/datasets/work/hb-synthrad2023/work/synthrad2025/bw_workplace/data/nnunet_struct/raw/Dataset302_synthrad2025_task1_MR_HN/imagesVal/1HND048_0000.mha'], ['/datasets/work/hb-synthrad2023/work/synthrad2025/bw_workplace/data/nnunet_struct/raw/Dataset302_synthrad2025_task1_MR_HN/imagesVal/1HND066_0000.mha'], ['/datasets/work/hb-synthrad2023/work/synthrad2025/bw_workplace/data/nnunet_struct/raw/Dataset302_synthrad2025_task1_MR_HN/imagesVal/1HND085_0000.mha'], ['/datasets/work/hb-synthrad2023/work/synthrad2025/bw_workplace/data/nnunet_struct/raw/Dataset302_synthrad2025_task1_MR_HN/imagesVal/1HND091_0000.mha']]\n",
      "There are 34 cases that I would like to predict\n",
      "\n",
      "Predicting 1HNA002:\n",
      "perform_everything_on_device: True\n",
      "Reconstruction: MEAN\n"
     ]
    },
    {
     "name": "stderr",
     "output_type": "stream",
     "text": [
      "100%|██████████████████████████████████████████| 72/72 [00:01<00:00, 36.21it/s]\n"
     ]
    },
    {
     "name": "stdout",
     "output_type": "stream",
     "text": [
      "sending off prediction to background worker for resampling and export\n",
      "done with 1HNA002\n",
      "\n",
      "Predicting 1HNA005:\n",
      "perform_everything_on_device: True\n",
      "(138, 381, 519) -0.7163 4.176 float16\n",
      "Reconstruction: MEAN\n"
     ]
    },
    {
     "name": "stderr",
     "output_type": "stream",
     "text": [
      "100%|██████████████████████████████████████████| 72/72 [00:01<00:00, 43.77it/s]\n"
     ]
    },
    {
     "name": "stdout",
     "output_type": "stream",
     "text": [
      "sending off prediction to background worker for resampling and export\n",
      "done with 1HNA005\n",
      "\n",
      "Predicting 1HNA017:\n",
      "perform_everything_on_device: True\n",
      "(115, 383, 499) -0.6875 4.2 float16\n",
      "Reconstruction: MEAN\n"
     ]
    },
    {
     "name": "stderr",
     "output_type": "stream",
     "text": [
      "100%|██████████████████████████████████████████| 84/84 [00:01<00:00, 43.63it/s]\n"
     ]
    },
    {
     "name": "stdout",
     "output_type": "stream",
     "text": [
      "sending off prediction to background worker for resampling and export\n",
      "done with 1HNA017\n",
      "\n",
      "Predicting 1HNA020:\n",
      "perform_everything_on_device: True\n",
      "(129, 357, 563) -0.712 4.09 float16\n",
      "Reconstruction: MEAN\n"
     ]
    },
    {
     "name": "stderr",
     "output_type": "stream",
     "text": [
      "100%|██████████████████████████████████████████| 84/84 [00:01<00:00, 43.19it/s]\n"
     ]
    },
    {
     "name": "stdout",
     "output_type": "stream",
     "text": [
      "sending off prediction to background worker for resampling and export\n",
      "done with 1HNA020\n",
      "\n",
      "Predicting 1HNA052:\n",
      "perform_everything_on_device: True\n",
      "Reconstruction: MEAN\n"
     ]
    },
    {
     "name": "stderr",
     "output_type": "stream",
     "text": [
      "  2%|▉                                          | 2/96 [00:00<00:04, 19.54it/s]"
     ]
    },
    {
     "name": "stdout",
     "output_type": "stream",
     "text": [
      "(128, 381, 593) -0.7236 4.17 float16\n"
     ]
    },
    {
     "name": "stderr",
     "output_type": "stream",
     "text": [
      "100%|██████████████████████████████████████████| 96/96 [00:02<00:00, 42.21it/s]\n"
     ]
    },
    {
     "name": "stdout",
     "output_type": "stream",
     "text": [
      "sending off prediction to background worker for resampling and export\n",
      "done with 1HNA052\n",
      "\n",
      "Predicting 1HNA054:\n",
      "perform_everything_on_device: True\n",
      "(132, 388, 543) -0.7354 4.105 float16\n",
      "Reconstruction: MEAN\n"
     ]
    },
    {
     "name": "stderr",
     "output_type": "stream",
     "text": [
      "100%|██████████████████████████████████████████| 60/60 [00:01<00:00, 39.59it/s]\n"
     ]
    },
    {
     "name": "stdout",
     "output_type": "stream",
     "text": [
      "sending off prediction to background worker for resampling and export\n",
      "done with 1HNA054\n",
      "\n",
      "Predicting 1HNA062:\n",
      "perform_everything_on_device: True\n",
      "(115, 334, 480) -0.69 4.246 float16\n",
      "Reconstruction: MEAN\n"
     ]
    },
    {
     "name": "stderr",
     "output_type": "stream",
     "text": [
      "100%|██████████████████████████████████████████| 72/72 [00:01<00:00, 43.54it/s]\n"
     ]
    },
    {
     "name": "stdout",
     "output_type": "stream",
     "text": [
      "sending off prediction to background worker for resampling and export\n",
      "done with 1HNA062\n",
      "\n",
      "Predicting 1HNA063:\n",
      "perform_everything_on_device: True\n",
      "(121, 348, 521) -0.753 4.12 float16\n",
      "Reconstruction: MEAN\n"
     ]
    },
    {
     "name": "stderr",
     "output_type": "stream",
     "text": [
      "100%|██████████████████████████████████████████| 54/54 [00:01<00:00, 43.67it/s]\n"
     ]
    },
    {
     "name": "stdout",
     "output_type": "stream",
     "text": [
      "sending off prediction to background worker for resampling and export\n",
      "done with 1HNA063\n",
      "\n",
      "Predicting 1HNA070:\n",
      "perform_everything_on_device: True\n",
      "(112, 346, 499) -0.7393 4.15 float16\n",
      "Reconstruction: MEAN\n"
     ]
    },
    {
     "name": "stderr",
     "output_type": "stream",
     "text": [
      "100%|██████████████████████████████████████████| 72/72 [00:01<00:00, 43.63it/s]\n"
     ]
    },
    {
     "name": "stdout",
     "output_type": "stream",
     "text": [
      "sending off prediction to background worker for resampling and export\n",
      "done with 1HNA070\n",
      "\n",
      "Predicting 1HNA073:\n",
      "perform_everything_on_device: True\n",
      "(115, 353, 499) -0.7266 4.117 float16\n",
      "Reconstruction: MEAN\n"
     ]
    },
    {
     "name": "stderr",
     "output_type": "stream",
     "text": [
      "100%|████████████████████████████████████████| 140/140 [00:03<00:00, 43.37it/s]\n"
     ]
    },
    {
     "name": "stdout",
     "output_type": "stream",
     "text": [
      "sending off prediction to background worker for resampling and export\n",
      "done with 1HNA073\n",
      "\n",
      "Predicting 1HNA078:\n",
      "perform_everything_on_device: True\n",
      "Reconstruction: MEAN\n",
      "(141, 389, 597) -0.7563 4.125 float16\n"
     ]
    },
    {
     "name": "stderr",
     "output_type": "stream",
     "text": [
      "100%|██████████████████████████████████████████| 72/72 [00:01<00:00, 43.61it/s]\n"
     ]
    },
    {
     "name": "stdout",
     "output_type": "stream",
     "text": [
      "sending off prediction to background worker for resampling and export\n",
      "done with 1HNA078\n",
      "\n",
      "Predicting 1HNA081:\n",
      "perform_everything_on_device: True\n",
      "(134, 383, 541) -0.7285 4.176 float16\n",
      "Reconstruction: MEAN\n"
     ]
    },
    {
     "name": "stderr",
     "output_type": "stream",
     "text": [
      "100%|██████████████████████████████████████████| 72/72 [00:01<00:00, 43.95it/s]\n"
     ]
    },
    {
     "name": "stdout",
     "output_type": "stream",
     "text": [
      "sending off prediction to background worker for resampling and export\n",
      "done with 1HNA081\n",
      "\n",
      "Predicting 1HNA092:\n",
      "perform_everything_on_device: True\n",
      "(125, 372, 552) -0.7686 4.176 float16\n",
      "Reconstruction: MEAN\n"
     ]
    },
    {
     "name": "stderr",
     "output_type": "stream",
     "text": [
      "100%|██████████████████████████████████████████| 72/72 [00:01<00:00, 43.67it/s]\n"
     ]
    },
    {
     "name": "stdout",
     "output_type": "stream",
     "text": [
      "sending off prediction to background worker for resampling and export\n",
      "done with 1HNA092\n",
      "\n",
      "Predicting 1HNA094:\n",
      "perform_everything_on_device: True\n",
      "(131, 342, 526) -0.7275 4.195 float16\n",
      "Reconstruction: MEAN\n"
     ]
    },
    {
     "name": "stderr",
     "output_type": "stream",
     "text": [
      "100%|██████████████████████████████████████████| 72/72 [00:01<00:00, 43.92it/s]\n"
     ]
    },
    {
     "name": "stdout",
     "output_type": "stream",
     "text": [
      "sending off prediction to background worker for resampling and export\n",
      "done with 1HNA094\n",
      "\n",
      "Predicting 1HNC015:\n",
      "perform_everything_on_device: True\n",
      "(127, 374, 537) -0.742 4.07 float16\n",
      "Reconstruction: MEAN\n",
      "sending off prediction to background worker for resampling and export\n",
      "done with 1HNC015\n",
      "\n",
      "Predicting 1HNC048:\n",
      "perform_everything_on_device: True\n",
      "(42, 246, 242) -0.62 4.082 float16\n"
     ]
    },
    {
     "name": "stderr",
     "output_type": "stream",
     "text": [
      "100%|████████████████████████████████████████████| 6/6 [00:00<00:00, 44.90it/s]\n"
     ]
    },
    {
     "name": "stdout",
     "output_type": "stream",
     "text": [
      "Reconstruction: MEAN\n"
     ]
    },
    {
     "name": "stderr",
     "output_type": "stream",
     "text": [
      "100%|██████████████████████████████████████████| 18/18 [00:00<00:00, 45.12it/s]\n"
     ]
    },
    {
     "name": "stdout",
     "output_type": "stream",
     "text": [
      "sending off prediction to background worker for resampling and export\n",
      "done with 1HNC048\n",
      "\n",
      "Predicting 1HNC052:\n",
      "perform_everything_on_device: True\n",
      "(77, 314, 298) -0.621 4.027 float16\n",
      "Reconstruction: MEAN\n"
     ]
    },
    {
     "name": "stderr",
     "output_type": "stream",
     "text": [
      "100%|██████████████████████████████████████████| 12/12 [00:00<00:00, 44.61it/s]\n"
     ]
    },
    {
     "name": "stdout",
     "output_type": "stream",
     "text": [
      "sending off prediction to background worker for resampling and export\n",
      "done with 1HNC052\n",
      "\n",
      "Predicting 1HNC055:\n",
      "perform_everything_on_device: True\n",
      "(63, 264, 249) -0.6177 4.125 float16\n",
      "Reconstruction: MEAN\n"
     ]
    },
    {
     "name": "stderr",
     "output_type": "stream",
     "text": [
      "100%|██████████████████████████████████████████| 12/12 [00:00<00:00, 45.07it/s]\n"
     ]
    },
    {
     "name": "stdout",
     "output_type": "stream",
     "text": [
      "sending off prediction to background worker for resampling and export\n",
      "done with 1HNC055\n",
      "\n",
      "Predicting 1HNC063:\n",
      "perform_everything_on_device: True\n",
      "(59, 284, 284) -0.6274 4.07 float16\n",
      "Reconstruction: MEAN\n"
     ]
    },
    {
     "name": "stderr",
     "output_type": "stream",
     "text": [
      "100%|████████████████████████████████████████████| 6/6 [00:00<00:00, 44.92it/s]\n"
     ]
    },
    {
     "name": "stdout",
     "output_type": "stream",
     "text": [
      "sending off prediction to background worker for resampling and export\n",
      "done with 1HNC063\n",
      "\n",
      "Predicting 1HNC064:\n",
      "perform_everything_on_device: True\n",
      "(53, 258, 260) -0.619 4.133 float16\n",
      "Reconstruction: MEAN\n"
     ]
    },
    {
     "name": "stderr",
     "output_type": "stream",
     "text": [
      "100%|████████████████████████████████████████████| 4/4 [00:00<00:00, 45.02it/s]\n"
     ]
    },
    {
     "name": "stdout",
     "output_type": "stream",
     "text": [
      "sending off prediction to background worker for resampling and export\n",
      "done with 1HNC064\n",
      "\n",
      "Predicting 1HNC093:\n",
      "perform_everything_on_device: True\n",
      "(51, 239, 238) -0.6504 4.125 float16\n",
      "Reconstruction: MEAN\n"
     ]
    },
    {
     "name": "stderr",
     "output_type": "stream",
     "text": [
      "100%|████████████████████████████████████████████| 6/6 [00:00<00:00, 44.80it/s]\n"
     ]
    },
    {
     "name": "stdout",
     "output_type": "stream",
     "text": [
      "sending off prediction to background worker for resampling and export\n",
      "done with 1HNC093\n",
      "\n",
      "Predicting 1HNC100:\n",
      "perform_everything_on_device: True\n",
      "(55, 263, 259) -0.6123 4.098 float16\n",
      "Reconstruction: MEAN\n"
     ]
    },
    {
     "name": "stderr",
     "output_type": "stream",
     "text": [
      "100%|████████████████████████████████████████████| 6/6 [00:00<00:00, 44.90it/s]\n"
     ]
    },
    {
     "name": "stdout",
     "output_type": "stream",
     "text": [
      "sending off prediction to background worker for resampling and export\n",
      "done with 1HNC100\n",
      "\n",
      "Predicting 1HNC126:\n",
      "perform_everything_on_device: True\n",
      "(50, 258, 261) -0.615 4.12 float16\n",
      "Reconstruction: MEAN\n"
     ]
    },
    {
     "name": "stderr",
     "output_type": "stream",
     "text": [
      "100%|██████████████████████████████████████████| 12/12 [00:00<00:00, 45.10it/s]\n"
     ]
    },
    {
     "name": "stdout",
     "output_type": "stream",
     "text": [
      "sending off prediction to background worker for resampling and export\n",
      "done with 1HNC126\n",
      "\n",
      "Predicting 1HNC129:\n",
      "perform_everything_on_device: True\n",
      "(59, 285, 282) -0.613 4.027 float16\n",
      "Reconstruction: MEAN\n"
     ]
    },
    {
     "name": "stderr",
     "output_type": "stream",
     "text": [
      "100%|████████████████████████████████████████████| 6/6 [00:00<00:00, 44.82it/s]\n"
     ]
    },
    {
     "name": "stdout",
     "output_type": "stream",
     "text": [
      "sending off prediction to background worker for resampling and export\n",
      "done with 1HNC129\n",
      "\n",
      "Predicting 1HND002:\n",
      "perform_everything_on_device: True\n",
      "(55, 243, 243) -0.6133 4.07 float16\n",
      "Reconstruction: MEAN\n"
     ]
    },
    {
     "name": "stderr",
     "output_type": "stream",
     "text": [
      "100%|██████████████████████████████████████████| 18/18 [00:00<00:00, 45.10it/s]\n"
     ]
    },
    {
     "name": "stdout",
     "output_type": "stream",
     "text": [
      "sending off prediction to background worker for resampling and export\n",
      "done with 1HND002\n",
      "\n",
      "Predicting 1HND010:\n",
      "perform_everything_on_device: True\n",
      "(94, 277, 287) -0.6094 4.11 float16\n",
      "Reconstruction: MEAN\n"
     ]
    },
    {
     "name": "stderr",
     "output_type": "stream",
     "text": [
      "100%|██████████████████████████████████████████| 18/18 [00:00<00:00, 45.06it/s]\n"
     ]
    },
    {
     "name": "stdout",
     "output_type": "stream",
     "text": [
      "sending off prediction to background worker for resampling and export\n",
      "done with 1HND010\n",
      "\n",
      "Predicting 1HND011:\n",
      "perform_everything_on_device: True\n",
      "(89, 269, 280) -0.6226 4.203 float16\n",
      "Reconstruction: MEAN\n"
     ]
    },
    {
     "name": "stderr",
     "output_type": "stream",
     "text": [
      "100%|██████████████████████████████████████████| 18/18 [00:00<00:00, 44.99it/s]\n"
     ]
    },
    {
     "name": "stdout",
     "output_type": "stream",
     "text": [
      "sending off prediction to background worker for resampling and export\n",
      "done with 1HND011\n",
      "\n",
      "Predicting 1HND024:\n",
      "perform_everything_on_device: True\n",
      "(97, 281, 272) -0.617 4.258 float16\n",
      "Reconstruction: MEAN\n"
     ]
    },
    {
     "name": "stderr",
     "output_type": "stream",
     "text": [
      "100%|██████████████████████████████████████████| 18/18 [00:00<00:00, 44.84it/s]\n"
     ]
    },
    {
     "name": "stdout",
     "output_type": "stream",
     "text": [
      "sending off prediction to background worker for resampling and export\n",
      "done with 1HND024\n",
      "\n",
      "Predicting 1HND033:\n",
      "perform_everything_on_device: True\n",
      "(89, 272, 279) -0.6133 4.168 float16\n",
      "Reconstruction: MEAN\n"
     ]
    },
    {
     "name": "stderr",
     "output_type": "stream",
     "text": [
      "100%|██████████████████████████████████████████| 18/18 [00:00<00:00, 44.88it/s]\n"
     ]
    },
    {
     "name": "stdout",
     "output_type": "stream",
     "text": [
      "sending off prediction to background worker for resampling and export\n",
      "done with 1HND033\n",
      "\n",
      "Predicting 1HND041:\n",
      "perform_everything_on_device: True\n",
      "(88, 268, 280) -0.608 4.258 float16\n",
      "Reconstruction: MEAN\n"
     ]
    },
    {
     "name": "stderr",
     "output_type": "stream",
     "text": [
      "100%|██████████████████████████████████████████| 18/18 [00:00<00:00, 44.92it/s]\n"
     ]
    },
    {
     "name": "stdout",
     "output_type": "stream",
     "text": [
      "sending off prediction to background worker for resampling and export\n",
      "done with 1HND041\n",
      "\n",
      "Predicting 1HND048:\n",
      "perform_everything_on_device: True\n",
      "(91, 272, 282) -0.6187 4.246 float16\n",
      "Reconstruction: MEAN\n"
     ]
    },
    {
     "name": "stderr",
     "output_type": "stream",
     "text": [
      "100%|██████████████████████████████████████████| 18/18 [00:00<00:00, 44.96it/s]\n"
     ]
    },
    {
     "name": "stdout",
     "output_type": "stream",
     "text": [
      "sending off prediction to background worker for resampling and export\n",
      "done with 1HND048\n",
      "\n",
      "Predicting 1HND066:\n",
      "perform_everything_on_device: True\n",
      "(90, 274, 279) -0.6143 4.277 float16\n",
      "Reconstruction: MEAN\n"
     ]
    },
    {
     "name": "stderr",
     "output_type": "stream",
     "text": [
      "100%|██████████████████████████████████████████| 18/18 [00:00<00:00, 45.36it/s]\n"
     ]
    },
    {
     "name": "stdout",
     "output_type": "stream",
     "text": [
      "sending off prediction to background worker for resampling and export\n",
      "done with 1HND066\n",
      "\n",
      "Predicting 1HND085:\n",
      "perform_everything_on_device: True\n",
      "(98, 273, 282) -0.619 4.133 float16\n",
      "Reconstruction: MEAN\n"
     ]
    },
    {
     "name": "stderr",
     "output_type": "stream",
     "text": [
      "100%|██████████████████████████████████████████| 18/18 [00:00<00:00, 45.38it/s]\n"
     ]
    },
    {
     "name": "stdout",
     "output_type": "stream",
     "text": [
      "sending off prediction to background worker for resampling and export\n",
      "done with 1HND085\n",
      "\n",
      "Predicting 1HND091:\n",
      "perform_everything_on_device: True\n",
      "(88, 271, 279) -0.621 4.188 float16\n",
      "Reconstruction: MEAN\n"
     ]
    },
    {
     "name": "stderr",
     "output_type": "stream",
     "text": [
      "100%|██████████████████████████████████████████| 18/18 [00:00<00:00, 45.40it/s]\n"
     ]
    },
    {
     "name": "stdout",
     "output_type": "stream",
     "text": [
      "sending off prediction to background worker for resampling and export\n",
      "done with 1HND091\n",
      "(88, 268, 276) -0.605 4.258 float16\n"
     ]
    },
    {
     "data": {
      "text/plain": [
       "0"
      ]
     },
     "execution_count": 22,
     "metadata": {},
     "output_type": "execute_result"
    }
   ],
   "source": [
    "input_dir = \"/datasets/work/hb-synthrad2023/work/synthrad2025/bw_workplace/data/nnunet_struct/raw/Dataset302_synthrad2025_task1_MR_HN/imagesVal\"\n",
    "\n",
    "output_dir = os.path.join(submission_path, submission_name, f'DatasetID{dataset_id:03d}_{dataset_data_name}')\n",
    "os.makedirs(output_dir, exist_ok=True)\n",
    "fold = 0\n",
    "os.system(f\"nnUNetv2_predict -d {dataset_id} -i {input_dir} -o {output_dir} -c 3d_fullres -p {plan} -tr nnUNetTrainerMRCT -f {fold}\")"
   ]
  },
  {
   "cell_type": "code",
   "execution_count": 23,
   "id": "0f0eee17",
   "metadata": {},
   "outputs": [
    {
     "name": "stdout",
     "output_type": "stream",
     "text": [
      "CT mean: -756.8412475585938, CT std: 460.7137756347656\n"
     ]
    },
    {
     "name": "stderr",
     "output_type": "stream",
     "text": [
      "  0%|          | 0/34 [00:00<?, ?it/s]"
     ]
    },
    {
     "name": "stdout",
     "output_type": "stream",
     "text": [
      "(1.0, 1.0, 3.0)\n",
      "(1.0, 1.0, 3.0)\n"
     ]
    },
    {
     "name": "stderr",
     "output_type": "stream",
     "text": [
      "  3%|▎         | 1/34 [00:01<00:34,  1.03s/it]"
     ]
    },
    {
     "name": "stdout",
     "output_type": "stream",
     "text": [
      "(1.0, 1.0, 3.0)\n",
      "(1.0, 1.0, 3.0)\n"
     ]
    },
    {
     "name": "stderr",
     "output_type": "stream",
     "text": [
      "  6%|▌         | 2/34 [00:01<00:28,  1.13it/s]"
     ]
    },
    {
     "name": "stdout",
     "output_type": "stream",
     "text": [
      "(1.0, 1.0, 3.0)\n",
      "(1.0, 1.0, 3.0)\n"
     ]
    },
    {
     "name": "stderr",
     "output_type": "stream",
     "text": [
      "  9%|▉         | 3/34 [00:02<00:28,  1.11it/s]"
     ]
    },
    {
     "name": "stdout",
     "output_type": "stream",
     "text": [
      "(1.0, 1.0, 3.0)\n",
      "(1.0, 1.0, 3.0)\n"
     ]
    },
    {
     "name": "stderr",
     "output_type": "stream",
     "text": [
      " 12%|█▏        | 4/34 [00:03<00:28,  1.05it/s]"
     ]
    },
    {
     "name": "stdout",
     "output_type": "stream",
     "text": [
      "(1.0, 1.0, 3.0)\n",
      "(1.0, 1.0, 3.0)\n"
     ]
    },
    {
     "name": "stderr",
     "output_type": "stream",
     "text": [
      " 15%|█▍        | 5/34 [00:04<00:28,  1.04it/s]"
     ]
    },
    {
     "name": "stdout",
     "output_type": "stream",
     "text": [
      "(1.0, 1.0, 3.0)\n",
      "(1.0, 1.0, 3.0)\n"
     ]
    },
    {
     "name": "stderr",
     "output_type": "stream",
     "text": [
      " 18%|█▊        | 6/34 [00:05<00:24,  1.16it/s]"
     ]
    },
    {
     "name": "stdout",
     "output_type": "stream",
     "text": [
      "(1.0, 1.0, 3.0)\n",
      "(1.0, 1.0, 3.0)\n"
     ]
    },
    {
     "name": "stderr",
     "output_type": "stream",
     "text": [
      " 21%|██        | 7/34 [00:06<00:22,  1.18it/s]"
     ]
    },
    {
     "name": "stdout",
     "output_type": "stream",
     "text": [
      "(1.0, 1.0, 3.0)\n",
      "(1.0, 1.0, 3.0)\n"
     ]
    },
    {
     "name": "stderr",
     "output_type": "stream",
     "text": [
      " 24%|██▎       | 8/34 [00:06<00:21,  1.23it/s]"
     ]
    },
    {
     "name": "stdout",
     "output_type": "stream",
     "text": [
      "(1.0, 1.0, 3.0)\n",
      "(1.0, 1.0, 3.0)\n"
     ]
    },
    {
     "name": "stderr",
     "output_type": "stream",
     "text": [
      " 26%|██▋       | 9/34 [00:07<00:19,  1.27it/s]"
     ]
    },
    {
     "name": "stdout",
     "output_type": "stream",
     "text": [
      "(1.0, 1.0, 3.0)\n",
      "(1.0, 1.0, 3.0)\n"
     ]
    },
    {
     "name": "stderr",
     "output_type": "stream",
     "text": [
      " 29%|██▉       | 10/34 [00:08<00:22,  1.08it/s]"
     ]
    },
    {
     "name": "stdout",
     "output_type": "stream",
     "text": [
      "(1.0, 1.0, 3.0)\n",
      "(1.0, 1.0, 3.0)\n"
     ]
    },
    {
     "name": "stderr",
     "output_type": "stream",
     "text": [
      " 32%|███▏      | 11/34 [00:10<00:22,  1.02it/s]"
     ]
    },
    {
     "name": "stdout",
     "output_type": "stream",
     "text": [
      "(1.0, 1.0, 3.0)\n",
      "(1.0, 1.0, 3.0)\n"
     ]
    },
    {
     "name": "stderr",
     "output_type": "stream",
     "text": [
      " 35%|███▌      | 12/34 [00:10<00:21,  1.03it/s]"
     ]
    },
    {
     "name": "stdout",
     "output_type": "stream",
     "text": [
      "(1.0, 1.0, 3.0)\n",
      "(1.0, 1.0, 3.0)\n"
     ]
    },
    {
     "name": "stderr",
     "output_type": "stream",
     "text": [
      " 38%|███▊      | 13/34 [00:11<00:19,  1.07it/s]"
     ]
    },
    {
     "name": "stdout",
     "output_type": "stream",
     "text": [
      "(1.0, 1.0, 3.0)\n",
      "(1.0, 1.0, 3.0)\n"
     ]
    },
    {
     "name": "stderr",
     "output_type": "stream",
     "text": [
      " 44%|████▍     | 15/34 [00:12<00:13,  1.44it/s]"
     ]
    },
    {
     "name": "stdout",
     "output_type": "stream",
     "text": [
      "(1.0, 1.0, 3.0)\n",
      "(1.0, 1.0, 3.0)\n",
      "(1.0, 1.0, 3.0)\n",
      "(1.0, 1.0, 3.0)\n"
     ]
    },
    {
     "name": "stderr",
     "output_type": "stream",
     "text": [
      " 50%|█████     | 17/34 [00:13<00:07,  2.23it/s]"
     ]
    },
    {
     "name": "stdout",
     "output_type": "stream",
     "text": [
      "(1.0, 1.0, 3.0)\n",
      "(1.0, 1.0, 3.0)\n",
      "(1.0, 1.0, 3.0)\n",
      "(1.0, 1.0, 3.0)\n"
     ]
    },
    {
     "name": "stderr",
     "output_type": "stream",
     "text": [
      " 59%|█████▉    | 20/34 [00:13<00:03,  4.14it/s]"
     ]
    },
    {
     "name": "stdout",
     "output_type": "stream",
     "text": [
      "(1.0, 1.0, 3.0)\n",
      "(1.0, 1.0, 3.0)\n",
      "(1.0, 1.0, 3.0)\n",
      "(1.0, 1.0, 3.0)\n"
     ]
    },
    {
     "name": "stderr",
     "output_type": "stream",
     "text": [
      " 62%|██████▏   | 21/34 [00:13<00:02,  4.43it/s]"
     ]
    },
    {
     "name": "stdout",
     "output_type": "stream",
     "text": [
      "(1.0, 1.0, 3.0)\n",
      "(1.0, 1.0, 3.0)\n",
      "(1.0, 1.0, 3.0)\n",
      "(1.0, 1.0, 3.0)\n"
     ]
    },
    {
     "name": "stderr",
     "output_type": "stream",
     "text": [
      " 68%|██████▊   | 23/34 [00:14<00:02,  5.18it/s]"
     ]
    },
    {
     "name": "stdout",
     "output_type": "stream",
     "text": [
      "(1.0, 1.0, 3.0)\n",
      "(1.0, 1.0, 3.0)\n",
      "(1.0, 1.0, 3.0)\n",
      "(1.0, 1.0, 3.0)\n"
     ]
    },
    {
     "name": "stderr",
     "output_type": "stream",
     "text": [
      " 74%|███████▎  | 25/34 [00:14<00:01,  4.80it/s]"
     ]
    },
    {
     "name": "stdout",
     "output_type": "stream",
     "text": [
      "(1.0, 1.0, 3.0)\n",
      "(1.0, 1.0, 3.0)\n",
      "(1.0, 1.0, 3.0)\n",
      "(1.0, 1.0, 3.0)\n"
     ]
    },
    {
     "name": "stderr",
     "output_type": "stream",
     "text": [
      " 79%|███████▉  | 27/34 [00:15<00:01,  3.99it/s]"
     ]
    },
    {
     "name": "stdout",
     "output_type": "stream",
     "text": [
      "(1.0, 1.0, 3.0)\n",
      "(1.0, 1.0, 3.0)\n"
     ]
    },
    {
     "name": "stderr",
     "output_type": "stream",
     "text": [
      " 82%|████████▏ | 28/34 [00:15<00:01,  4.14it/s]"
     ]
    },
    {
     "name": "stdout",
     "output_type": "stream",
     "text": [
      "(1.0, 1.0, 3.0)\n",
      "(1.0, 1.0, 3.0)\n"
     ]
    },
    {
     "name": "stderr",
     "output_type": "stream",
     "text": [
      " 85%|████████▌ | 29/34 [00:15<00:01,  4.14it/s]"
     ]
    },
    {
     "name": "stdout",
     "output_type": "stream",
     "text": [
      "(1.0, 1.0, 3.0)\n",
      "(1.0, 1.0, 3.0)\n"
     ]
    },
    {
     "name": "stderr",
     "output_type": "stream",
     "text": [
      " 88%|████████▊ | 30/34 [00:16<00:01,  3.93it/s]"
     ]
    },
    {
     "name": "stdout",
     "output_type": "stream",
     "text": [
      "(1.0, 1.0, 3.0)\n",
      "(1.0, 1.0, 3.0)\n"
     ]
    },
    {
     "name": "stderr",
     "output_type": "stream",
     "text": [
      " 91%|█████████ | 31/34 [00:16<00:00,  3.92it/s]"
     ]
    },
    {
     "name": "stdout",
     "output_type": "stream",
     "text": [
      "(1.0, 1.0, 3.0)\n",
      "(1.0, 1.0, 3.0)\n"
     ]
    },
    {
     "name": "stderr",
     "output_type": "stream",
     "text": [
      " 94%|█████████▍| 32/34 [00:16<00:00,  3.73it/s]"
     ]
    },
    {
     "name": "stdout",
     "output_type": "stream",
     "text": [
      "(1.0, 1.0, 3.0)\n",
      "(1.0, 1.0, 3.0)\n"
     ]
    },
    {
     "name": "stderr",
     "output_type": "stream",
     "text": [
      " 97%|█████████▋| 33/34 [00:16<00:00,  3.83it/s]"
     ]
    },
    {
     "name": "stdout",
     "output_type": "stream",
     "text": [
      "(1.0, 1.0, 3.0)\n",
      "(1.0, 1.0, 3.0)\n"
     ]
    },
    {
     "name": "stderr",
     "output_type": "stream",
     "text": [
      "100%|██████████| 34/34 [00:17<00:00,  1.98it/s]"
     ]
    },
    {
     "name": "stdout",
     "output_type": "stream",
     "text": [
      "(1.0, 1.0, 3.0)\n",
      "(1.0, 1.0, 3.0)\n"
     ]
    },
    {
     "name": "stderr",
     "output_type": "stream",
     "text": [
      "\n"
     ]
    }
   ],
   "source": [
    "\n",
    "ct_plan_path = f\"/datasets/work/hb-synthrad2023/work/synthrad2025/bw_workplace/data/nnunet_struct/preprocessed/Dataset{config['dataset_id'] + 1}_{config['dataset_target_name']}/{plan}.json\"\n",
    "ct_mean, ct_std = get_ct_normalisation_values(ct_plan_path)\n",
    "revert_normalisation(output_dir, ct_mean, ct_std, save_path=output_dir + \"_revert_norm\")\n",
    "# move previous results to backup\n",
    "if os.path.exists(output_dir):\n",
    "    shutil.move(output_dir, output_dir + \"_revert_norm/backup_normalised\")"
   ]
  },
  {
   "cell_type": "markdown",
   "id": "65c7d083",
   "metadata": {},
   "source": [
    "# Dataset TH"
   ]
  },
  {
   "cell_type": "code",
   "execution_count": 24,
   "id": "5e2fff88",
   "metadata": {},
   "outputs": [
    {
     "name": "stdout",
     "output_type": "stream",
     "text": [
      "{'configuration': '3d_fullres',\n",
      " 'data_root': '/datasets/work/hb-synthrad2023/source/synthrad2025_data_v2/synthRAD2025_Task1_Train/Task1/TH',\n",
      " 'dataset_data_name': 'synthrad2025_task1_MR_TH_res',\n",
      " 'dataset_id': 314,\n",
      " 'dataset_plan': 'nnUNetPlannerResEnc(M/L/XL)',\n",
      " 'dataset_target_name': 'synthrad2025_task1_CT_TH_res',\n",
      " 'fold': 0,\n",
      " 'preprocessing_CT': 'CT',\n",
      " 'preprocessing_MRI': 'MR',\n",
      " 'preprocessing_mask': 'no mask',\n",
      " 'region': 'TH',\n",
      " 'trainer': 'nnUNetTrainerMRCT'}\n"
     ]
    }
   ],
   "source": [
    "# copy files to nnUNet raw data directory\n",
    "config = json.load(open(\"config_314.json\"))\n",
    "pprint(config)\n",
    "dataset_id = config['dataset_id']\n",
    "dataset_data_name = config['dataset_data_name']\n",
    "plan = \"nnUNetResEncUNetMPlans\"\n"
   ]
  },
  {
   "cell_type": "code",
   "execution_count": 25,
   "id": "0b6ae773",
   "metadata": {},
   "outputs": [
    {
     "name": "stdout",
     "output_type": "stream",
     "text": [
      "\n",
      "#######################################################################\n",
      "Please cite the following paper when using nnU-Net:\n",
      "Isensee, F., Jaeger, P. F., Kohl, S. A., Petersen, J., & Maier-Hein, K. H. (2021). nnU-Net: a self-configuring method for deep learning-based biomedical image segmentation. Nature methods, 18(2), 203-211.\n",
      "#######################################################################\n",
      "\n",
      "tile :  0.5\n",
      "There are 28 cases in the source folder\n",
      "[['/datasets/work/hb-synthrad2023/work/synthrad2025/bw_workplace/data/nnunet_struct/raw/Dataset304_synthrad2025_task1_MR_TH/imagesVal/1THA007_0000.mha'], ['/datasets/work/hb-synthrad2023/work/synthrad2025/bw_workplace/data/nnunet_struct/raw/Dataset304_synthrad2025_task1_MR_TH/imagesVal/1THA008_0000.mha'], ['/datasets/work/hb-synthrad2023/work/synthrad2025/bw_workplace/data/nnunet_struct/raw/Dataset304_synthrad2025_task1_MR_TH/imagesVal/1THA014_0000.mha'], ['/datasets/work/hb-synthrad2023/work/synthrad2025/bw_workplace/data/nnunet_struct/raw/Dataset304_synthrad2025_task1_MR_TH/imagesVal/1THA023_0000.mha'], ['/datasets/work/hb-synthrad2023/work/synthrad2025/bw_workplace/data/nnunet_struct/raw/Dataset304_synthrad2025_task1_MR_TH/imagesVal/1THA025_0000.mha'], ['/datasets/work/hb-synthrad2023/work/synthrad2025/bw_workplace/data/nnunet_struct/raw/Dataset304_synthrad2025_task1_MR_TH/imagesVal/1THA036_0000.mha'], ['/datasets/work/hb-synthrad2023/work/synthrad2025/bw_workplace/data/nnunet_struct/raw/Dataset304_synthrad2025_task1_MR_TH/imagesVal/1THA053_0000.mha'], ['/datasets/work/hb-synthrad2023/work/synthrad2025/bw_workplace/data/nnunet_struct/raw/Dataset304_synthrad2025_task1_MR_TH/imagesVal/1THA202_0000.mha'], ['/datasets/work/hb-synthrad2023/work/synthrad2025/bw_workplace/data/nnunet_struct/raw/Dataset304_synthrad2025_task1_MR_TH/imagesVal/1THA204_0000.mha'], ['/datasets/work/hb-synthrad2023/work/synthrad2025/bw_workplace/data/nnunet_struct/raw/Dataset304_synthrad2025_task1_MR_TH/imagesVal/1THA215_0000.mha'], ['/datasets/work/hb-synthrad2023/work/synthrad2025/bw_workplace/data/nnunet_struct/raw/Dataset304_synthrad2025_task1_MR_TH/imagesVal/1THA216_0000.mha'], ['/datasets/work/hb-synthrad2023/work/synthrad2025/bw_workplace/data/nnunet_struct/raw/Dataset304_synthrad2025_task1_MR_TH/imagesVal/1THA219_0000.mha'], ['/datasets/work/hb-synthrad2023/work/synthrad2025/bw_workplace/data/nnunet_struct/raw/Dataset304_synthrad2025_task1_MR_TH/imagesVal/1THA222_0000.mha'], ['/datasets/work/hb-synthrad2023/work/synthrad2025/bw_workplace/data/nnunet_struct/raw/Dataset304_synthrad2025_task1_MR_TH/imagesVal/1THA226_0000.mha'], ['/datasets/work/hb-synthrad2023/work/synthrad2025/bw_workplace/data/nnunet_struct/raw/Dataset304_synthrad2025_task1_MR_TH/imagesVal/1THB012_0000.mha'], ['/datasets/work/hb-synthrad2023/work/synthrad2025/bw_workplace/data/nnunet_struct/raw/Dataset304_synthrad2025_task1_MR_TH/imagesVal/1THB014_0000.mha'], ['/datasets/work/hb-synthrad2023/work/synthrad2025/bw_workplace/data/nnunet_struct/raw/Dataset304_synthrad2025_task1_MR_TH/imagesVal/1THB018_0000.mha'], ['/datasets/work/hb-synthrad2023/work/synthrad2025/bw_workplace/data/nnunet_struct/raw/Dataset304_synthrad2025_task1_MR_TH/imagesVal/1THB025_0000.mha'], ['/datasets/work/hb-synthrad2023/work/synthrad2025/bw_workplace/data/nnunet_struct/raw/Dataset304_synthrad2025_task1_MR_TH/imagesVal/1THB032_0000.mha'], ['/datasets/work/hb-synthrad2023/work/synthrad2025/bw_workplace/data/nnunet_struct/raw/Dataset304_synthrad2025_task1_MR_TH/imagesVal/1THB036_0000.mha'], ['/datasets/work/hb-synthrad2023/work/synthrad2025/bw_workplace/data/nnunet_struct/raw/Dataset304_synthrad2025_task1_MR_TH/imagesVal/1THB075_0000.mha'], ['/datasets/work/hb-synthrad2023/work/synthrad2025/bw_workplace/data/nnunet_struct/raw/Dataset304_synthrad2025_task1_MR_TH/imagesVal/1THB125_0000.mha'], ['/datasets/work/hb-synthrad2023/work/synthrad2025/bw_workplace/data/nnunet_struct/raw/Dataset304_synthrad2025_task1_MR_TH/imagesVal/1THB142_0000.mha'], ['/datasets/work/hb-synthrad2023/work/synthrad2025/bw_workplace/data/nnunet_struct/raw/Dataset304_synthrad2025_task1_MR_TH/imagesVal/1THB155_0000.mha'], ['/datasets/work/hb-synthrad2023/work/synthrad2025/bw_workplace/data/nnunet_struct/raw/Dataset304_synthrad2025_task1_MR_TH/imagesVal/1THB186_0000.mha'], ['/datasets/work/hb-synthrad2023/work/synthrad2025/bw_workplace/data/nnunet_struct/raw/Dataset304_synthrad2025_task1_MR_TH/imagesVal/1THB204_0000.mha'], ['/datasets/work/hb-synthrad2023/work/synthrad2025/bw_workplace/data/nnunet_struct/raw/Dataset304_synthrad2025_task1_MR_TH/imagesVal/1THB209_0000.mha'], ['/datasets/work/hb-synthrad2023/work/synthrad2025/bw_workplace/data/nnunet_struct/raw/Dataset304_synthrad2025_task1_MR_TH/imagesVal/1THB219_0000.mha']]\n",
      "There are 28 cases that I would like to predict\n",
      "\n",
      "Predicting 1THA007:\n",
      "perform_everything_on_device: True\n",
      "Reconstruction: MEAN\n"
     ]
    },
    {
     "name": "stderr",
     "output_type": "stream",
     "text": [
      "100%|██████████████████████████████████████████| 48/48 [00:01<00:00, 33.88it/s]\n"
     ]
    },
    {
     "name": "stdout",
     "output_type": "stream",
     "text": [
      "sending off prediction to background worker for resampling and export\n",
      "done with 1THA007\n",
      "\n",
      "Predicting 1THA008:\n",
      "perform_everything_on_device: True\n",
      "(97, 342, 452) -0.649 3.125 float16\n",
      "Reconstruction: MEAN\n"
     ]
    },
    {
     "name": "stderr",
     "output_type": "stream",
     "text": [
      "100%|██████████████████████████████████████████| 48/48 [00:01<00:00, 44.46it/s]\n"
     ]
    },
    {
     "name": "stdout",
     "output_type": "stream",
     "text": [
      "sending off prediction to background worker for resampling and export\n",
      "done with 1THA008\n",
      "\n",
      "Predicting 1THA014:\n",
      "perform_everything_on_device: True\n",
      "(97, 363, 468) -0.638 3.213 float16\n",
      "Reconstruction: MEAN\n"
     ]
    },
    {
     "name": "stderr",
     "output_type": "stream",
     "text": [
      "100%|██████████████████████████████████████████| 48/48 [00:01<00:00, 44.08it/s]\n"
     ]
    },
    {
     "name": "stdout",
     "output_type": "stream",
     "text": [
      "sending off prediction to background worker for resampling and export\n",
      "done with 1THA014\n",
      "\n",
      "Predicting 1THA023:\n",
      "perform_everything_on_device: True\n",
      "(99, 365, 509) -0.6465 3.104 float16\n",
      "Reconstruction: MEAN\n"
     ]
    },
    {
     "name": "stderr",
     "output_type": "stream",
     "text": [
      "100%|██████████████████████████████████████████| 48/48 [00:01<00:00, 44.46it/s]\n"
     ]
    },
    {
     "name": "stdout",
     "output_type": "stream",
     "text": [
      "sending off prediction to background worker for resampling and export\n",
      "done with 1THA023\n",
      "\n",
      "Predicting 1THA025:\n",
      "perform_everything_on_device: True\n",
      "(98, 364, 534) -0.6484 2.963 float16\n",
      "Reconstruction: MEAN\n"
     ]
    },
    {
     "name": "stderr",
     "output_type": "stream",
     "text": [
      "100%|██████████████████████████████████████████| 48/48 [00:01<00:00, 44.45it/s]\n"
     ]
    },
    {
     "name": "stdout",
     "output_type": "stream",
     "text": [
      "sending off prediction to background worker for resampling and export\n",
      "done with 1THA025\n",
      "\n",
      "Predicting 1THA036:\n",
      "perform_everything_on_device: True\n",
      "(100, 356, 498) -0.652 3.258 float16\n",
      "Reconstruction: MEAN\n"
     ]
    },
    {
     "name": "stderr",
     "output_type": "stream",
     "text": [
      "100%|██████████████████████████████████████████| 80/80 [00:01<00:00, 44.34it/s]\n"
     ]
    },
    {
     "name": "stdout",
     "output_type": "stream",
     "text": [
      "sending off prediction to background worker for resampling and export\n",
      "done with 1THA036\n",
      "\n",
      "Predicting 1THA053:\n",
      "perform_everything_on_device: True\n",
      "(104, 398, 559) -0.631 3.125 float16\n",
      "Reconstruction: MEAN\n"
     ]
    },
    {
     "name": "stderr",
     "output_type": "stream",
     "text": [
      "100%|██████████████████████████████████████████| 80/80 [00:01<00:00, 44.33it/s]\n"
     ]
    },
    {
     "name": "stdout",
     "output_type": "stream",
     "text": [
      "sending off prediction to background worker for resampling and export\n",
      "done with 1THA053\n",
      "\n",
      "Predicting 1THA202:\n",
      "perform_everything_on_device: True\n",
      "(101, 396, 546) -0.6426 3.156 float16\n",
      "Reconstruction: MEAN\n"
     ]
    },
    {
     "name": "stderr",
     "output_type": "stream",
     "text": [
      "100%|██████████████████████████████████████████| 64/64 [00:01<00:00, 44.70it/s]\n"
     ]
    },
    {
     "name": "stdout",
     "output_type": "stream",
     "text": [
      "sending off prediction to background worker for resampling and export\n",
      "done with 1THA202\n",
      "\n",
      "Predicting 1THA204:\n",
      "perform_everything_on_device: True\n",
      "(87, 474, 471) -0.661 3.043 float16\n",
      "Reconstruction: MEAN\n"
     ]
    },
    {
     "name": "stderr",
     "output_type": "stream",
     "text": [
      "100%|██████████████████████████████████████████| 64/64 [00:01<00:00, 44.50it/s]\n"
     ]
    },
    {
     "name": "stdout",
     "output_type": "stream",
     "text": [
      "sending off prediction to background worker for resampling and export\n",
      "done with 1THA204\n",
      "\n",
      "Predicting 1THA215:\n",
      "perform_everything_on_device: True\n",
      "(98, 472, 476) -0.653 3.162 float16\n",
      "Reconstruction: MEAN\n"
     ]
    },
    {
     "name": "stderr",
     "output_type": "stream",
     "text": [
      "100%|██████████████████████████████████████████| 48/48 [00:01<00:00, 44.54it/s]\n"
     ]
    },
    {
     "name": "stdout",
     "output_type": "stream",
     "text": [
      "sending off prediction to background worker for resampling and export\n",
      "done with 1THA215\n",
      "\n",
      "Predicting 1THA216:\n",
      "perform_everything_on_device: True\n",
      "(73, 478, 492) -0.6387 3.111 float16\n",
      "Reconstruction: MEAN\n"
     ]
    },
    {
     "name": "stderr",
     "output_type": "stream",
     "text": [
      "100%|██████████████████████████████████████████| 40/40 [00:00<00:00, 44.47it/s]\n"
     ]
    },
    {
     "name": "stdout",
     "output_type": "stream",
     "text": [
      "sending off prediction to background worker for resampling and export\n",
      "done with 1THA216\n",
      "\n",
      "Predicting 1THA219:\n",
      "perform_everything_on_device: True\n",
      "(55, 489, 493) -0.7305 3.143 float16\n",
      "Reconstruction: MEAN\n"
     ]
    },
    {
     "name": "stderr",
     "output_type": "stream",
     "text": [
      "100%|██████████████████████████████████████████| 64/64 [00:01<00:00, 44.74it/s]\n"
     ]
    },
    {
     "name": "stdout",
     "output_type": "stream",
     "text": [
      "sending off prediction to background worker for resampling and export\n",
      "done with 1THA219\n",
      "\n",
      "Predicting 1THA222:\n",
      "perform_everything_on_device: True\n",
      "(84, 469, 464) -0.638 3.031 float16\n",
      "Reconstruction: MEAN\n"
     ]
    },
    {
     "name": "stderr",
     "output_type": "stream",
     "text": [
      "100%|██████████████████████████████████████████| 80/80 [00:01<00:00, 44.74it/s]\n"
     ]
    },
    {
     "name": "stdout",
     "output_type": "stream",
     "text": [
      "sending off prediction to background worker for resampling and export\n",
      "done with 1THA222\n",
      "\n",
      "Predicting 1THA226:\n",
      "perform_everything_on_device: True\n",
      "(102, 466, 473) -0.6396 3.387 float16\n",
      "Reconstruction: MEAN\n"
     ]
    },
    {
     "name": "stderr",
     "output_type": "stream",
     "text": [
      "100%|██████████████████████████████████████████| 80/80 [00:01<00:00, 44.62it/s]\n"
     ]
    },
    {
     "name": "stdout",
     "output_type": "stream",
     "text": [
      "sending off prediction to background worker for resampling and export\n",
      "done with 1THA226\n",
      "\n",
      "Predicting 1THB012:\n",
      "perform_everything_on_device: True\n",
      "(103, 467, 477) -0.639 3.117 float16\n",
      "Reconstruction: MEAN\n"
     ]
    },
    {
     "name": "stderr",
     "output_type": "stream",
     "text": [
      "100%|████████████████████████████████████████| 100/100 [00:02<00:00, 44.37it/s]\n"
     ]
    },
    {
     "name": "stdout",
     "output_type": "stream",
     "text": [
      "sending off prediction to background worker for resampling and export\n",
      "done with 1THB012\n",
      "\n",
      "Predicting 1THB014:\n",
      "perform_everything_on_device: True\n",
      "Reconstruction: MEAN\n",
      "(115, 523, 553) -0.81 3.025 float16\n"
     ]
    },
    {
     "name": "stderr",
     "output_type": "stream",
     "text": [
      "100%|████████████████████████████████████████| 100/100 [00:02<00:00, 44.57it/s]\n"
     ]
    },
    {
     "name": "stdout",
     "output_type": "stream",
     "text": [
      "sending off prediction to background worker for resampling and export\n",
      "done with 1THB014\n",
      "\n",
      "Predicting 1THB018:\n",
      "perform_everything_on_device: True\n",
      "(102, 513, 546) -0.646 3.252 float16\n",
      "Reconstruction: MEAN\n"
     ]
    },
    {
     "name": "stderr",
     "output_type": "stream",
     "text": [
      "100%|████████████████████████████████████████| 120/120 [00:02<00:00, 44.54it/s]\n"
     ]
    },
    {
     "name": "stdout",
     "output_type": "stream",
     "text": [
      "sending off prediction to background worker for resampling and export\n",
      "done with 1THB018\n",
      "\n",
      "Predicting 1THB025:\n",
      "perform_everything_on_device: True\n",
      "(128, 491, 540) -0.9404 4.676 float16\n",
      "Reconstruction: MEAN\n"
     ]
    },
    {
     "name": "stderr",
     "output_type": "stream",
     "text": [
      "100%|████████████████████████████████████████| 175/175 [00:03<00:00, 44.22it/s]\n"
     ]
    },
    {
     "name": "stdout",
     "output_type": "stream",
     "text": [
      "sending off prediction to background worker for resampling and export\n",
      "done with 1THB025\n",
      "\n",
      "Predicting 1THB032:\n",
      "perform_everything_on_device: True\n",
      "Reconstruction: MEAN\n",
      "(160, 523, 576) -0.6763 3.13 float16\n"
     ]
    },
    {
     "name": "stderr",
     "output_type": "stream",
     "text": [
      "100%|████████████████████████████████████████| 120/120 [00:02<00:00, 44.18it/s]\n"
     ]
    },
    {
     "name": "stdout",
     "output_type": "stream",
     "text": [
      "sending off prediction to background worker for resampling and export\n",
      "done with 1THB032\n",
      "\n",
      "Predicting 1THB036:\n",
      "perform_everything_on_device: True\n",
      "Reconstruction: MEAN\n",
      "(126, 511, 549) -0.7393 2.97 float16\n"
     ]
    },
    {
     "name": "stderr",
     "output_type": "stream",
     "text": [
      "100%|████████████████████████████████████████| 120/120 [00:02<00:00, 44.00it/s]\n"
     ]
    },
    {
     "name": "stdout",
     "output_type": "stream",
     "text": [
      "sending off prediction to background worker for resampling and export\n",
      "done with 1THB036\n",
      "\n",
      "Predicting 1THB075:\n",
      "perform_everything_on_device: True\n",
      "Reconstruction: MEAN\n",
      "(122, 520, 548) -0.6724 2.998 float16\n"
     ]
    },
    {
     "name": "stderr",
     "output_type": "stream",
     "text": [
      "100%|████████████████████████████████████████| 120/120 [00:02<00:00, 44.15it/s]\n"
     ]
    },
    {
     "name": "stdout",
     "output_type": "stream",
     "text": [
      "sending off prediction to background worker for resampling and export\n",
      "done with 1THB075\n",
      "\n",
      "Predicting 1THB125:\n",
      "perform_everything_on_device: True\n",
      "Reconstruction: MEAN\n",
      "(131, 508, 548) -0.642 3.021 float16\n"
     ]
    },
    {
     "name": "stderr",
     "output_type": "stream",
     "text": [
      "100%|████████████████████████████████████████| 120/120 [00:02<00:00, 44.30it/s]\n"
     ]
    },
    {
     "name": "stdout",
     "output_type": "stream",
     "text": [
      "sending off prediction to background worker for resampling and export\n",
      "done with 1THB125\n",
      "\n",
      "Predicting 1THB142:\n",
      "perform_everything_on_device: True\n",
      "(133, 482, 498) -0.6357 3.225 float16\n",
      "Reconstruction: MEAN\n"
     ]
    },
    {
     "name": "stderr",
     "output_type": "stream",
     "text": [
      "100%|████████████████████████████████████████| 120/120 [00:02<00:00, 44.08it/s]\n"
     ]
    },
    {
     "name": "stdout",
     "output_type": "stream",
     "text": [
      "sending off prediction to background worker for resampling and export\n",
      "done with 1THB142\n",
      "\n",
      "Predicting 1THB155:\n",
      "perform_everything_on_device: True\n",
      "(130, 516, 545) -0.663 3.191 float16\n",
      "Reconstruction: MEAN\n"
     ]
    },
    {
     "name": "stderr",
     "output_type": "stream",
     "text": [
      "100%|██████████████████████████████████████████| 72/72 [00:01<00:00, 43.01it/s]\n"
     ]
    },
    {
     "name": "stdout",
     "output_type": "stream",
     "text": [
      "sending off prediction to background worker for resampling and export\n",
      "done with 1THB155\n",
      "\n",
      "Predicting 1THB186:\n",
      "perform_everything_on_device: True\n",
      "Reconstruction: MEAN\n",
      "(132, 440, 440) -0.641 3.37 float16\n"
     ]
    },
    {
     "name": "stderr",
     "output_type": "stream",
     "text": [
      "100%|████████████████████████████████████████| 120/120 [00:02<00:00, 44.23it/s]\n"
     ]
    },
    {
     "name": "stdout",
     "output_type": "stream",
     "text": [
      "sending off prediction to background worker for resampling and export\n",
      "done with 1THB186\n",
      "\n",
      "Predicting 1THB204:\n",
      "perform_everything_on_device: True\n",
      "Reconstruction: MEAN\n",
      "(123, 514, 546) -0.692 3.365 float16\n"
     ]
    },
    {
     "name": "stderr",
     "output_type": "stream",
     "text": [
      "100%|████████████████████████████████████████| 175/175 [00:04<00:00, 41.93it/s]\n"
     ]
    },
    {
     "name": "stdout",
     "output_type": "stream",
     "text": [
      "sending off prediction to background worker for resampling and export\n",
      "done with 1THB204\n",
      "\n",
      "Predicting 1THB209:\n",
      "perform_everything_on_device: True\n",
      "Reconstruction: MEAN\n",
      "(146, 511, 589) -0.6577 3.102 float16\n"
     ]
    },
    {
     "name": "stderr",
     "output_type": "stream",
     "text": [
      "100%|████████████████████████████████████████| 100/100 [00:02<00:00, 44.21it/s]\n"
     ]
    },
    {
     "name": "stdout",
     "output_type": "stream",
     "text": [
      "sending off prediction to background worker for resampling and export\n",
      "done with 1THB209\n",
      "\n",
      "Predicting 1THB219:\n",
      "perform_everything_on_device: True\n",
      "(120, 500, 553) -0.6533 2.994 float16\n",
      "Reconstruction: MEAN\n"
     ]
    },
    {
     "name": "stderr",
     "output_type": "stream",
     "text": [
      "100%|████████████████████████████████████████| 120/120 [00:02<00:00, 44.25it/s]\n"
     ]
    },
    {
     "name": "stdout",
     "output_type": "stream",
     "text": [
      "sending off prediction to background worker for resampling and export\n",
      "done with 1THB219\n",
      "(130, 490, 548) -0.6377 3.068 float16\n"
     ]
    },
    {
     "data": {
      "text/plain": [
       "0"
      ]
     },
     "execution_count": 25,
     "metadata": {},
     "output_type": "execute_result"
    }
   ],
   "source": [
    "input_dir = \"/datasets/work/hb-synthrad2023/work/synthrad2025/bw_workplace/data/nnunet_struct/raw/Dataset304_synthrad2025_task1_MR_TH/imagesVal\"\n",
    "submission_path = \"/datasets/work/hb-synthrad2023/work/synthrad2025/bw_workplace/data/nnunet_struct/submission\"\n",
    "# create submission folder with date today\n",
    "submission_name = f'task1_{datetime.datetime.now().strftime(\"%Y%m%d\")}_3models'\n",
    "output_dir = os.path.join(submission_path, submission_name, f'DatasetID{dataset_id:03d}_{dataset_data_name}')\n",
    "os.makedirs(output_dir, exist_ok=True)\n",
    "fold = 0\n",
    "os.system(f\"nnUNetv2_predict -d {dataset_id} -i {input_dir} -o {output_dir} -c 3d_fullres -p {plan} -tr nnUNetTrainerMRCT -f {fold}\")"
   ]
  },
  {
   "cell_type": "code",
   "execution_count": 26,
   "id": "935fcb66",
   "metadata": {},
   "outputs": [
    {
     "name": "stdout",
     "output_type": "stream",
     "text": [
      "CT mean: -753.1258544921875, CT std: 409.4344482421875\n"
     ]
    },
    {
     "name": "stderr",
     "output_type": "stream",
     "text": [
      "  0%|          | 0/28 [00:00<?, ?it/s]"
     ]
    },
    {
     "name": "stdout",
     "output_type": "stream",
     "text": [
      "(1.0, 1.0, 3.0)\n",
      "(1.0, 1.0, 3.0)\n"
     ]
    },
    {
     "name": "stderr",
     "output_type": "stream",
     "text": [
      "  4%|▎         | 1/28 [00:00<00:14,  1.83it/s]"
     ]
    },
    {
     "name": "stdout",
     "output_type": "stream",
     "text": [
      "(1.0, 1.0, 3.0)\n",
      "(1.0, 1.0, 3.0)\n"
     ]
    },
    {
     "name": "stderr",
     "output_type": "stream",
     "text": [
      "  7%|▋         | 2/28 [00:01<00:15,  1.66it/s]"
     ]
    },
    {
     "name": "stdout",
     "output_type": "stream",
     "text": [
      "(1.0, 1.0, 3.0)\n",
      "(1.0, 1.0, 3.0)\n"
     ]
    },
    {
     "name": "stderr",
     "output_type": "stream",
     "text": [
      " 11%|█         | 3/28 [00:02<00:20,  1.24it/s]"
     ]
    },
    {
     "name": "stdout",
     "output_type": "stream",
     "text": [
      "(1.0, 1.0, 3.0)\n",
      "(1.0, 1.0, 3.0)\n"
     ]
    },
    {
     "name": "stderr",
     "output_type": "stream",
     "text": [
      " 14%|█▍        | 4/28 [00:02<00:18,  1.31it/s]"
     ]
    },
    {
     "name": "stdout",
     "output_type": "stream",
     "text": [
      "(1.0, 1.0, 3.0)\n",
      "(1.0, 1.0, 3.0)\n"
     ]
    },
    {
     "name": "stderr",
     "output_type": "stream",
     "text": [
      " 18%|█▊        | 5/28 [00:03<00:16,  1.38it/s]"
     ]
    },
    {
     "name": "stdout",
     "output_type": "stream",
     "text": [
      "(1.0, 1.0, 3.0)\n",
      "(1.0, 1.0, 3.0)\n"
     ]
    },
    {
     "name": "stderr",
     "output_type": "stream",
     "text": [
      " 21%|██▏       | 6/28 [00:04<00:17,  1.28it/s]"
     ]
    },
    {
     "name": "stdout",
     "output_type": "stream",
     "text": [
      "(1.0, 1.0, 3.0)\n",
      "(1.0, 1.0, 3.0)\n"
     ]
    },
    {
     "name": "stderr",
     "output_type": "stream",
     "text": [
      " 25%|██▌       | 7/28 [00:05<00:16,  1.24it/s]"
     ]
    },
    {
     "name": "stdout",
     "output_type": "stream",
     "text": [
      "(1.0, 1.0, 3.0)\n",
      "(1.0, 1.0, 3.0)\n"
     ]
    },
    {
     "name": "stderr",
     "output_type": "stream",
     "text": [
      " 29%|██▊       | 8/28 [00:06<00:15,  1.25it/s]"
     ]
    },
    {
     "name": "stdout",
     "output_type": "stream",
     "text": [
      "(1.0, 1.0, 3.0)\n",
      "(1.0, 1.0, 3.0)\n"
     ]
    },
    {
     "name": "stderr",
     "output_type": "stream",
     "text": [
      " 32%|███▏      | 9/28 [00:06<00:15,  1.25it/s]"
     ]
    },
    {
     "name": "stdout",
     "output_type": "stream",
     "text": [
      "(1.0, 1.0, 3.0)\n",
      "(1.0, 1.0, 3.0)\n"
     ]
    },
    {
     "name": "stderr",
     "output_type": "stream",
     "text": [
      " 36%|███▌      | 10/28 [00:07<00:13,  1.31it/s]"
     ]
    },
    {
     "name": "stdout",
     "output_type": "stream",
     "text": [
      "(1.0, 1.0, 3.0)\n",
      "(1.0, 1.0, 3.0)\n"
     ]
    },
    {
     "name": "stderr",
     "output_type": "stream",
     "text": [
      " 39%|███▉      | 11/28 [00:08<00:12,  1.39it/s]"
     ]
    },
    {
     "name": "stdout",
     "output_type": "stream",
     "text": [
      "(1.0, 1.0, 3.0)\n",
      "(1.0, 1.0, 3.0)\n"
     ]
    },
    {
     "name": "stderr",
     "output_type": "stream",
     "text": [
      " 43%|████▎     | 12/28 [00:08<00:11,  1.36it/s]"
     ]
    },
    {
     "name": "stdout",
     "output_type": "stream",
     "text": [
      "(1.0, 1.0, 3.0)\n",
      "(1.0, 1.0, 3.0)\n"
     ]
    },
    {
     "name": "stderr",
     "output_type": "stream",
     "text": [
      " 46%|████▋     | 13/28 [00:09<00:11,  1.30it/s]"
     ]
    },
    {
     "name": "stdout",
     "output_type": "stream",
     "text": [
      "(1.0, 1.0, 3.0)\n",
      "(1.0, 1.0, 3.0)\n"
     ]
    },
    {
     "name": "stderr",
     "output_type": "stream",
     "text": [
      " 50%|█████     | 14/28 [00:10<00:11,  1.25it/s]"
     ]
    },
    {
     "name": "stdout",
     "output_type": "stream",
     "text": [
      "(1.0, 1.0, 3.0)\n",
      "(1.0, 1.0, 3.0)\n"
     ]
    },
    {
     "name": "stderr",
     "output_type": "stream",
     "text": [
      " 54%|█████▎    | 15/28 [00:12<00:12,  1.01it/s]"
     ]
    },
    {
     "name": "stdout",
     "output_type": "stream",
     "text": [
      "(1.0, 1.0, 3.0)\n",
      "(1.0, 1.0, 3.0)\n"
     ]
    },
    {
     "name": "stderr",
     "output_type": "stream",
     "text": [
      " 57%|█████▋    | 16/28 [00:13<00:12,  1.04s/it]"
     ]
    },
    {
     "name": "stdout",
     "output_type": "stream",
     "text": [
      "(1.0, 1.0, 3.0)\n",
      "(1.0, 1.0, 3.0)\n"
     ]
    },
    {
     "name": "stderr",
     "output_type": "stream",
     "text": [
      " 61%|██████    | 17/28 [00:14<00:12,  1.12s/it]"
     ]
    },
    {
     "name": "stdout",
     "output_type": "stream",
     "text": [
      "(1.0, 1.0, 3.0)\n",
      "(1.0, 1.0, 3.0)\n"
     ]
    },
    {
     "name": "stderr",
     "output_type": "stream",
     "text": [
      " 64%|██████▍   | 18/28 [00:16<00:13,  1.33s/it]"
     ]
    },
    {
     "name": "stdout",
     "output_type": "stream",
     "text": [
      "(1.0, 1.0, 3.0)\n",
      "(1.0, 1.0, 3.0)\n"
     ]
    },
    {
     "name": "stderr",
     "output_type": "stream",
     "text": [
      " 68%|██████▊   | 19/28 [00:17<00:12,  1.36s/it]"
     ]
    },
    {
     "name": "stdout",
     "output_type": "stream",
     "text": [
      "(1.0, 1.0, 3.0)\n",
      "(1.0, 1.0, 3.0)\n"
     ]
    },
    {
     "name": "stderr",
     "output_type": "stream",
     "text": [
      " 71%|███████▏  | 20/28 [00:19<00:10,  1.35s/it]"
     ]
    },
    {
     "name": "stdout",
     "output_type": "stream",
     "text": [
      "(1.0, 1.0, 3.0)\n",
      "(1.0, 1.0, 3.0)\n"
     ]
    },
    {
     "name": "stderr",
     "output_type": "stream",
     "text": [
      " 75%|███████▌  | 21/28 [00:20<00:09,  1.38s/it]"
     ]
    },
    {
     "name": "stdout",
     "output_type": "stream",
     "text": [
      "(1.0, 1.0, 3.0)\n",
      "(1.0, 1.0, 3.0)\n"
     ]
    },
    {
     "name": "stderr",
     "output_type": "stream",
     "text": [
      " 79%|███████▊  | 22/28 [00:21<00:07,  1.33s/it]"
     ]
    },
    {
     "name": "stdout",
     "output_type": "stream",
     "text": [
      "(1.0, 1.0, 3.0)\n",
      "(1.0, 1.0, 3.0)\n"
     ]
    },
    {
     "name": "stderr",
     "output_type": "stream",
     "text": [
      " 82%|████████▏ | 23/28 [00:23<00:06,  1.37s/it]"
     ]
    },
    {
     "name": "stdout",
     "output_type": "stream",
     "text": [
      "(1.0, 1.0, 3.0)\n",
      "(1.0, 1.0, 3.0)\n"
     ]
    },
    {
     "name": "stderr",
     "output_type": "stream",
     "text": [
      " 86%|████████▌ | 24/28 [00:24<00:05,  1.27s/it]"
     ]
    },
    {
     "name": "stdout",
     "output_type": "stream",
     "text": [
      "(1.0, 1.0, 3.0)\n",
      "(1.0, 1.0, 3.0)\n"
     ]
    },
    {
     "name": "stderr",
     "output_type": "stream",
     "text": [
      " 89%|████████▉ | 25/28 [00:25<00:03,  1.30s/it]"
     ]
    },
    {
     "name": "stdout",
     "output_type": "stream",
     "text": [
      "(1.0, 1.0, 3.0)\n",
      "(1.0, 1.0, 3.0)\n"
     ]
    },
    {
     "name": "stderr",
     "output_type": "stream",
     "text": [
      " 93%|█████████▎| 26/28 [00:27<00:02,  1.44s/it]"
     ]
    },
    {
     "name": "stdout",
     "output_type": "stream",
     "text": [
      "(1.0, 1.0, 3.0)\n",
      "(1.0, 1.0, 3.0)\n"
     ]
    },
    {
     "name": "stderr",
     "output_type": "stream",
     "text": [
      " 96%|█████████▋| 27/28 [00:28<00:01,  1.38s/it]"
     ]
    },
    {
     "name": "stdout",
     "output_type": "stream",
     "text": [
      "(1.0, 1.0, 3.0)\n",
      "(1.0, 1.0, 3.0)\n"
     ]
    },
    {
     "name": "stderr",
     "output_type": "stream",
     "text": [
      "100%|██████████| 28/28 [00:30<00:00,  1.07s/it]\n"
     ]
    }
   ],
   "source": [
    "\n",
    "ct_plan_path = f\"/datasets/work/hb-synthrad2023/work/synthrad2025/bw_workplace/data/nnunet_struct/preprocessed/Dataset{config['dataset_id'] + 1}_{config['dataset_target_name']}/{plan}.json\"\n",
    "ct_mean, ct_std = get_ct_normalisation_values(ct_plan_path)\n",
    "revert_normalisation(output_dir, ct_mean, ct_std, save_path=output_dir + \"_revert_norm\")\n",
    "# move previous results to backup\n",
    "if os.path.exists(output_dir):\n",
    "    shutil.move(output_dir, output_dir + \"_revert_norm/backup_normalised\")"
   ]
  },
  {
   "cell_type": "markdown",
   "id": "edec43ee",
   "metadata": {},
   "source": [
    "# final archive and submission"
   ]
  },
  {
   "cell_type": "code",
   "execution_count": 27,
   "id": "32728016",
   "metadata": {},
   "outputs": [
    {
     "data": {
      "text/plain": [
       "'/datasets/work/hb-synthrad2023/work/synthrad2025/bw_workplace/data/nnunet_struct/submission/task1_20250722_3models/Folder.zip'"
      ]
     },
     "execution_count": 27,
     "metadata": {},
     "output_type": "execute_result"
    }
   ],
   "source": [
    "save_path = os.path.join(submission_path, submission_name, 'Folder')\n",
    "os.makedirs(save_path, exist_ok=True)\n",
    "\n",
    "for file in glob.glob(os.path.join(submission_path, submission_name, \"*_revert_norm\", \"*.mha\")):\n",
    "    new_file = os.path.join(save_path, \"sct_\" + os.path.basename(file))\n",
    "    shutil.copyfile(file, new_file)\n",
    "# zip folder\n",
    "shutil.make_archive(save_path, 'zip', save_path)\n"
   ]
  },
  {
   "cell_type": "code",
   "execution_count": 28,
   "id": "0b3d8917",
   "metadata": {},
   "outputs": [
    {
     "name": "stdout",
     "output_type": "stream",
     "text": [
      "Copying the line below to the local machine to download the zip file:\n",
      "rsync -avz xin015@virga.hpc.csiro.au:/datasets/work/hb-synthrad2023/work/synthrad2025/bw_workplace/data/nnunet_struct/submission/task1_20250722_3models/Folder.zip ./synthrad2025_submission\n"
     ]
    }
   ],
   "source": [
    "print(\"Copying the line below to the local machine to download the zip file:\")\n",
    "print(f'rsync -avz xin015@virga.hpc.csiro.au:{save_path}.zip ./synthrad2025_submission')\n"
   ]
  },
  {
   "cell_type": "code",
   "execution_count": null,
   "id": "676f25f7",
   "metadata": {},
   "outputs": [],
   "source": []
  }
 ],
 "metadata": {
  "kernelspec": {
   "display_name": "Python 3",
   "language": "python",
   "name": "python3"
  },
  "language_info": {
   "codemirror_mode": {
    "name": "ipython",
    "version": 3
   },
   "file_extension": ".py",
   "mimetype": "text/x-python",
   "name": "python",
   "nbconvert_exporter": "python",
   "pygments_lexer": "ipython3",
   "version": "3.11.0"
  }
 },
 "nbformat": 4,
 "nbformat_minor": 5
}
