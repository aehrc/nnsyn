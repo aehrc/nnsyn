{
 "cells": [
  {
   "cell_type": "code",
   "execution_count": 1,
   "id": "cc0fcc64",
   "metadata": {},
   "outputs": [],
   "source": [
    "import os, glob, shutil, json\n",
    "from pathlib import Path\n",
    "import SimpleITK as sitk\n",
    "import numpy as np\n",
    "from concurrent.futures import ThreadPoolExecutor\n",
    "from tqdm import tqdm\n",
    "import datetime\n",
    "\n",
    "sys.path.append(\"/datasets/work/hb-synthrad2023/work/synthrad2025/bw_workplace/src/utils\")\n",
    "from revert_normalisation import get_ct_normalisation_values, revert_normalisation\n"
   ]
  },
  {
   "cell_type": "code",
   "execution_count": 2,
   "id": "2917d642",
   "metadata": {},
   "outputs": [
    {
     "name": "stdout",
     "output_type": "stream",
     "text": [
      "{'dataset_id': 204, 'dataset_data_name': 'synthrad2025_task1_MR_resXL', 'dataset_target_name': 'synthrad2025_task1_CT_resXL', 'data_root': '/datasets/work/hb-synthrad2023/source/synthrad2025_data_v2/synthRAD2025_Task1_Train/Task1', 'preprocessing_CT': 'CT', 'preprocessing_MRI': 'MR', 'preprocessing_mask': 'no mask'}\n"
     ]
    }
   ],
   "source": [
    "config = json.load(open(\"config.json\"))\n",
    "print(config)\n",
    "# copy files to nnUNet raw data directory\n",
    "# Load config file\n",
    "\n",
    "dataset_id = config['dataset_id']\n",
    "dataset_data_name = config['dataset_data_name']\n",
    "dataset_data_path = os.path.join(os.environ['nnUNet_raw'], f'Dataset{dataset_id:03d}_{dataset_data_name}') \n",
    "fold = 0\n",
    "dataset_plan = \"nnUNetResEncUNetPlans_80G\"\n",
    "input_dir = os.path.join(dataset_data_path, 'imagesVal')\n",
    "\n"
   ]
  },
  {
   "cell_type": "code",
   "execution_count": 3,
   "id": "9cfe0b3a",
   "metadata": {},
   "outputs": [],
   "source": [
    "submission_path = \"/datasets/work/hb-synthrad2023/work/synthrad2025/bw_workplace/data/nnunet_struct/submission\"\n",
    "submission_name = f'task1_{datetime.datetime.now().strftime(\"%Y%m%d\")}_all_data_resXL'\n",
    "output_dir = os.path.join(submission_path, submission_name, f'DatasetID{dataset_id:03d}_{dataset_data_name}')\n"
   ]
  },
  {
   "cell_type": "code",
   "execution_count": 10,
   "id": "33570be3",
   "metadata": {},
   "outputs": [
    {
     "name": "stdout",
     "output_type": "stream",
     "text": [
      "input1 --- 89 ['/datasets/work/hb-synthrad2023/source/synthrad2025_data_v2/synthRAD2025_Task1_Val/Task1/AB/1ABA002/mr.mha', '/datasets/work/hb-synthrad2023/source/synthrad2025_data_v2/synthRAD2025_Task1_Val/Task1/AB/1ABA008/mr.mha', '/datasets/work/hb-synthrad2023/source/synthrad2025_data_v2/synthRAD2025_Task1_Val/Task1/AB/1ABA010/mr.mha', '/datasets/work/hb-synthrad2023/source/synthrad2025_data_v2/synthRAD2025_Task1_Val/Task1/AB/1ABA017/mr.mha', '/datasets/work/hb-synthrad2023/source/synthrad2025_data_v2/synthRAD2025_Task1_Val/Task1/AB/1ABA021/mr.mha', '/datasets/work/hb-synthrad2023/source/synthrad2025_data_v2/synthRAD2025_Task1_Val/Task1/AB/1ABA023/mr.mha', '/datasets/work/hb-synthrad2023/source/synthrad2025_data_v2/synthRAD2025_Task1_Val/Task1/AB/1ABA032/mr.mha', '/datasets/work/hb-synthrad2023/source/synthrad2025_data_v2/synthRAD2025_Task1_Val/Task1/AB/1ABA037/mr.mha', '/datasets/work/hb-synthrad2023/source/synthrad2025_data_v2/synthRAD2025_Task1_Val/Task1/AB/1ABA055/mr.mha', '/datasets/work/hb-synthrad2023/source/synthrad2025_data_v2/synthRAD2025_Task1_Val/Task1/AB/1ABA064/mr.mha', '/datasets/work/hb-synthrad2023/source/synthrad2025_data_v2/synthRAD2025_Task1_Val/Task1/AB/1ABB022/mr.mha', '/datasets/work/hb-synthrad2023/source/synthrad2025_data_v2/synthRAD2025_Task1_Val/Task1/AB/1ABB051/mr.mha', '/datasets/work/hb-synthrad2023/source/synthrad2025_data_v2/synthRAD2025_Task1_Val/Task1/AB/1ABB080/mr.mha', '/datasets/work/hb-synthrad2023/source/synthrad2025_data_v2/synthRAD2025_Task1_Val/Task1/AB/1ABB081/mr.mha', '/datasets/work/hb-synthrad2023/source/synthrad2025_data_v2/synthRAD2025_Task1_Val/Task1/AB/1ABB085/mr.mha', '/datasets/work/hb-synthrad2023/source/synthrad2025_data_v2/synthRAD2025_Task1_Val/Task1/AB/1ABB097/mr.mha', '/datasets/work/hb-synthrad2023/source/synthrad2025_data_v2/synthRAD2025_Task1_Val/Task1/AB/1ABB099/mr.mha', '/datasets/work/hb-synthrad2023/source/synthrad2025_data_v2/synthRAD2025_Task1_Val/Task1/AB/1ABB101/mr.mha', '/datasets/work/hb-synthrad2023/source/synthrad2025_data_v2/synthRAD2025_Task1_Val/Task1/AB/1ABB104/mr.mha', '/datasets/work/hb-synthrad2023/source/synthrad2025_data_v2/synthRAD2025_Task1_Val/Task1/AB/1ABB111/mr.mha', '/datasets/work/hb-synthrad2023/source/synthrad2025_data_v2/synthRAD2025_Task1_Val/Task1/AB/1ABB134/mr.mha', '/datasets/work/hb-synthrad2023/source/synthrad2025_data_v2/synthRAD2025_Task1_Val/Task1/AB/1ABB142/mr.mha', '/datasets/work/hb-synthrad2023/source/synthrad2025_data_v2/synthRAD2025_Task1_Val/Task1/AB/1ABB148/mr.mha', '/datasets/work/hb-synthrad2023/source/synthrad2025_data_v2/synthRAD2025_Task1_Val/Task1/AB/1ABB158/mr.mha', '/datasets/work/hb-synthrad2023/source/synthrad2025_data_v2/synthRAD2025_Task1_Val/Task1/AB/1ABC001/mr.mha', '/datasets/work/hb-synthrad2023/source/synthrad2025_data_v2/synthRAD2025_Task1_Val/Task1/AB/1ABC015/mr.mha', '/datasets/work/hb-synthrad2023/source/synthrad2025_data_v2/synthRAD2025_Task1_Val/Task1/AB/1ABC145/mr.mha', '/datasets/work/hb-synthrad2023/source/synthrad2025_data_v2/synthRAD2025_Task1_Val/Task1/HN/1HNA002/mr.mha', '/datasets/work/hb-synthrad2023/source/synthrad2025_data_v2/synthRAD2025_Task1_Val/Task1/HN/1HNA005/mr.mha', '/datasets/work/hb-synthrad2023/source/synthrad2025_data_v2/synthRAD2025_Task1_Val/Task1/HN/1HNA017/mr.mha', '/datasets/work/hb-synthrad2023/source/synthrad2025_data_v2/synthRAD2025_Task1_Val/Task1/HN/1HNA020/mr.mha', '/datasets/work/hb-synthrad2023/source/synthrad2025_data_v2/synthRAD2025_Task1_Val/Task1/HN/1HNA052/mr.mha', '/datasets/work/hb-synthrad2023/source/synthrad2025_data_v2/synthRAD2025_Task1_Val/Task1/HN/1HNA054/mr.mha', '/datasets/work/hb-synthrad2023/source/synthrad2025_data_v2/synthRAD2025_Task1_Val/Task1/HN/1HNA062/mr.mha', '/datasets/work/hb-synthrad2023/source/synthrad2025_data_v2/synthRAD2025_Task1_Val/Task1/HN/1HNA063/mr.mha', '/datasets/work/hb-synthrad2023/source/synthrad2025_data_v2/synthRAD2025_Task1_Val/Task1/HN/1HNA070/mr.mha', '/datasets/work/hb-synthrad2023/source/synthrad2025_data_v2/synthRAD2025_Task1_Val/Task1/HN/1HNA073/mr.mha', '/datasets/work/hb-synthrad2023/source/synthrad2025_data_v2/synthRAD2025_Task1_Val/Task1/HN/1HNA078/mr.mha', '/datasets/work/hb-synthrad2023/source/synthrad2025_data_v2/synthRAD2025_Task1_Val/Task1/HN/1HNA081/mr.mha', '/datasets/work/hb-synthrad2023/source/synthrad2025_data_v2/synthRAD2025_Task1_Val/Task1/HN/1HNA092/mr.mha', '/datasets/work/hb-synthrad2023/source/synthrad2025_data_v2/synthRAD2025_Task1_Val/Task1/HN/1HNA094/mr.mha', '/datasets/work/hb-synthrad2023/source/synthrad2025_data_v2/synthRAD2025_Task1_Val/Task1/HN/1HNC015/mr.mha', '/datasets/work/hb-synthrad2023/source/synthrad2025_data_v2/synthRAD2025_Task1_Val/Task1/HN/1HNC048/mr.mha', '/datasets/work/hb-synthrad2023/source/synthrad2025_data_v2/synthRAD2025_Task1_Val/Task1/HN/1HNC052/mr.mha', '/datasets/work/hb-synthrad2023/source/synthrad2025_data_v2/synthRAD2025_Task1_Val/Task1/HN/1HNC055/mr.mha', '/datasets/work/hb-synthrad2023/source/synthrad2025_data_v2/synthRAD2025_Task1_Val/Task1/HN/1HNC063/mr.mha', '/datasets/work/hb-synthrad2023/source/synthrad2025_data_v2/synthRAD2025_Task1_Val/Task1/HN/1HNC064/mr.mha', '/datasets/work/hb-synthrad2023/source/synthrad2025_data_v2/synthRAD2025_Task1_Val/Task1/HN/1HNC093/mr.mha', '/datasets/work/hb-synthrad2023/source/synthrad2025_data_v2/synthRAD2025_Task1_Val/Task1/HN/1HNC100/mr.mha', '/datasets/work/hb-synthrad2023/source/synthrad2025_data_v2/synthRAD2025_Task1_Val/Task1/HN/1HNC126/mr.mha', '/datasets/work/hb-synthrad2023/source/synthrad2025_data_v2/synthRAD2025_Task1_Val/Task1/HN/1HNC129/mr.mha', '/datasets/work/hb-synthrad2023/source/synthrad2025_data_v2/synthRAD2025_Task1_Val/Task1/HN/1HND002/mr.mha', '/datasets/work/hb-synthrad2023/source/synthrad2025_data_v2/synthRAD2025_Task1_Val/Task1/HN/1HND010/mr.mha', '/datasets/work/hb-synthrad2023/source/synthrad2025_data_v2/synthRAD2025_Task1_Val/Task1/HN/1HND011/mr.mha', '/datasets/work/hb-synthrad2023/source/synthrad2025_data_v2/synthRAD2025_Task1_Val/Task1/HN/1HND024/mr.mha', '/datasets/work/hb-synthrad2023/source/synthrad2025_data_v2/synthRAD2025_Task1_Val/Task1/HN/1HND033/mr.mha', '/datasets/work/hb-synthrad2023/source/synthrad2025_data_v2/synthRAD2025_Task1_Val/Task1/HN/1HND041/mr.mha', '/datasets/work/hb-synthrad2023/source/synthrad2025_data_v2/synthRAD2025_Task1_Val/Task1/HN/1HND048/mr.mha', '/datasets/work/hb-synthrad2023/source/synthrad2025_data_v2/synthRAD2025_Task1_Val/Task1/HN/1HND066/mr.mha', '/datasets/work/hb-synthrad2023/source/synthrad2025_data_v2/synthRAD2025_Task1_Val/Task1/HN/1HND085/mr.mha', '/datasets/work/hb-synthrad2023/source/synthrad2025_data_v2/synthRAD2025_Task1_Val/Task1/HN/1HND091/mr.mha', '/datasets/work/hb-synthrad2023/source/synthrad2025_data_v2/synthRAD2025_Task1_Val/Task1/TH/1THA007/mr.mha', '/datasets/work/hb-synthrad2023/source/synthrad2025_data_v2/synthRAD2025_Task1_Val/Task1/TH/1THA008/mr.mha', '/datasets/work/hb-synthrad2023/source/synthrad2025_data_v2/synthRAD2025_Task1_Val/Task1/TH/1THA014/mr.mha', '/datasets/work/hb-synthrad2023/source/synthrad2025_data_v2/synthRAD2025_Task1_Val/Task1/TH/1THA023/mr.mha', '/datasets/work/hb-synthrad2023/source/synthrad2025_data_v2/synthRAD2025_Task1_Val/Task1/TH/1THA025/mr.mha', '/datasets/work/hb-synthrad2023/source/synthrad2025_data_v2/synthRAD2025_Task1_Val/Task1/TH/1THA036/mr.mha', '/datasets/work/hb-synthrad2023/source/synthrad2025_data_v2/synthRAD2025_Task1_Val/Task1/TH/1THA053/mr.mha', '/datasets/work/hb-synthrad2023/source/synthrad2025_data_v2/synthRAD2025_Task1_Val/Task1/TH/1THA202/mr.mha', '/datasets/work/hb-synthrad2023/source/synthrad2025_data_v2/synthRAD2025_Task1_Val/Task1/TH/1THA204/mr.mha', '/datasets/work/hb-synthrad2023/source/synthrad2025_data_v2/synthRAD2025_Task1_Val/Task1/TH/1THA215/mr.mha', '/datasets/work/hb-synthrad2023/source/synthrad2025_data_v2/synthRAD2025_Task1_Val/Task1/TH/1THA216/mr.mha', '/datasets/work/hb-synthrad2023/source/synthrad2025_data_v2/synthRAD2025_Task1_Val/Task1/TH/1THA219/mr.mha', '/datasets/work/hb-synthrad2023/source/synthrad2025_data_v2/synthRAD2025_Task1_Val/Task1/TH/1THA222/mr.mha', '/datasets/work/hb-synthrad2023/source/synthrad2025_data_v2/synthRAD2025_Task1_Val/Task1/TH/1THA226/mr.mha', '/datasets/work/hb-synthrad2023/source/synthrad2025_data_v2/synthRAD2025_Task1_Val/Task1/TH/1THB012/mr.mha', '/datasets/work/hb-synthrad2023/source/synthrad2025_data_v2/synthRAD2025_Task1_Val/Task1/TH/1THB014/mr.mha', '/datasets/work/hb-synthrad2023/source/synthrad2025_data_v2/synthRAD2025_Task1_Val/Task1/TH/1THB018/mr.mha', '/datasets/work/hb-synthrad2023/source/synthrad2025_data_v2/synthRAD2025_Task1_Val/Task1/TH/1THB025/mr.mha', '/datasets/work/hb-synthrad2023/source/synthrad2025_data_v2/synthRAD2025_Task1_Val/Task1/TH/1THB032/mr.mha', '/datasets/work/hb-synthrad2023/source/synthrad2025_data_v2/synthRAD2025_Task1_Val/Task1/TH/1THB036/mr.mha', '/datasets/work/hb-synthrad2023/source/synthrad2025_data_v2/synthRAD2025_Task1_Val/Task1/TH/1THB075/mr.mha', '/datasets/work/hb-synthrad2023/source/synthrad2025_data_v2/synthRAD2025_Task1_Val/Task1/TH/1THB125/mr.mha', '/datasets/work/hb-synthrad2023/source/synthrad2025_data_v2/synthRAD2025_Task1_Val/Task1/TH/1THB142/mr.mha', '/datasets/work/hb-synthrad2023/source/synthrad2025_data_v2/synthRAD2025_Task1_Val/Task1/TH/1THB155/mr.mha', '/datasets/work/hb-synthrad2023/source/synthrad2025_data_v2/synthRAD2025_Task1_Val/Task1/TH/1THB186/mr.mha', '/datasets/work/hb-synthrad2023/source/synthrad2025_data_v2/synthRAD2025_Task1_Val/Task1/TH/1THB204/mr.mha', '/datasets/work/hb-synthrad2023/source/synthrad2025_data_v2/synthRAD2025_Task1_Val/Task1/TH/1THB209/mr.mha', '/datasets/work/hb-synthrad2023/source/synthrad2025_data_v2/synthRAD2025_Task1_Val/Task1/TH/1THB219/mr.mha']\n",
      "input2 --- 89 ['/datasets/work/hb-synthrad2023/source/synthrad2025_data_v2/synthRAD2025_Task1_Val/Task1/AB/1ABA002/mask.mha', '/datasets/work/hb-synthrad2023/source/synthrad2025_data_v2/synthRAD2025_Task1_Val/Task1/AB/1ABA008/mask.mha', '/datasets/work/hb-synthrad2023/source/synthrad2025_data_v2/synthRAD2025_Task1_Val/Task1/AB/1ABA010/mask.mha', '/datasets/work/hb-synthrad2023/source/synthrad2025_data_v2/synthRAD2025_Task1_Val/Task1/AB/1ABA017/mask.mha', '/datasets/work/hb-synthrad2023/source/synthrad2025_data_v2/synthRAD2025_Task1_Val/Task1/AB/1ABA021/mask.mha', '/datasets/work/hb-synthrad2023/source/synthrad2025_data_v2/synthRAD2025_Task1_Val/Task1/AB/1ABA023/mask.mha', '/datasets/work/hb-synthrad2023/source/synthrad2025_data_v2/synthRAD2025_Task1_Val/Task1/AB/1ABA032/mask.mha', '/datasets/work/hb-synthrad2023/source/synthrad2025_data_v2/synthRAD2025_Task1_Val/Task1/AB/1ABA037/mask.mha', '/datasets/work/hb-synthrad2023/source/synthrad2025_data_v2/synthRAD2025_Task1_Val/Task1/AB/1ABA055/mask.mha', '/datasets/work/hb-synthrad2023/source/synthrad2025_data_v2/synthRAD2025_Task1_Val/Task1/AB/1ABA064/mask.mha', '/datasets/work/hb-synthrad2023/source/synthrad2025_data_v2/synthRAD2025_Task1_Val/Task1/AB/1ABB022/mask.mha', '/datasets/work/hb-synthrad2023/source/synthrad2025_data_v2/synthRAD2025_Task1_Val/Task1/AB/1ABB051/mask.mha', '/datasets/work/hb-synthrad2023/source/synthrad2025_data_v2/synthRAD2025_Task1_Val/Task1/AB/1ABB080/mask.mha', '/datasets/work/hb-synthrad2023/source/synthrad2025_data_v2/synthRAD2025_Task1_Val/Task1/AB/1ABB081/mask.mha', '/datasets/work/hb-synthrad2023/source/synthrad2025_data_v2/synthRAD2025_Task1_Val/Task1/AB/1ABB085/mask.mha', '/datasets/work/hb-synthrad2023/source/synthrad2025_data_v2/synthRAD2025_Task1_Val/Task1/AB/1ABB097/mask.mha', '/datasets/work/hb-synthrad2023/source/synthrad2025_data_v2/synthRAD2025_Task1_Val/Task1/AB/1ABB099/mask.mha', '/datasets/work/hb-synthrad2023/source/synthrad2025_data_v2/synthRAD2025_Task1_Val/Task1/AB/1ABB101/mask.mha', '/datasets/work/hb-synthrad2023/source/synthrad2025_data_v2/synthRAD2025_Task1_Val/Task1/AB/1ABB104/mask.mha', '/datasets/work/hb-synthrad2023/source/synthrad2025_data_v2/synthRAD2025_Task1_Val/Task1/AB/1ABB111/mask.mha', '/datasets/work/hb-synthrad2023/source/synthrad2025_data_v2/synthRAD2025_Task1_Val/Task1/AB/1ABB134/mask.mha', '/datasets/work/hb-synthrad2023/source/synthrad2025_data_v2/synthRAD2025_Task1_Val/Task1/AB/1ABB142/mask.mha', '/datasets/work/hb-synthrad2023/source/synthrad2025_data_v2/synthRAD2025_Task1_Val/Task1/AB/1ABB148/mask.mha', '/datasets/work/hb-synthrad2023/source/synthrad2025_data_v2/synthRAD2025_Task1_Val/Task1/AB/1ABB158/mask.mha', '/datasets/work/hb-synthrad2023/source/synthrad2025_data_v2/synthRAD2025_Task1_Val/Task1/AB/1ABC001/mask.mha', '/datasets/work/hb-synthrad2023/source/synthrad2025_data_v2/synthRAD2025_Task1_Val/Task1/AB/1ABC015/mask.mha', '/datasets/work/hb-synthrad2023/source/synthrad2025_data_v2/synthRAD2025_Task1_Val/Task1/AB/1ABC145/mask.mha', '/datasets/work/hb-synthrad2023/source/synthrad2025_data_v2/synthRAD2025_Task1_Val/Task1/HN/1HNA002/mask.mha', '/datasets/work/hb-synthrad2023/source/synthrad2025_data_v2/synthRAD2025_Task1_Val/Task1/HN/1HNA005/mask.mha', '/datasets/work/hb-synthrad2023/source/synthrad2025_data_v2/synthRAD2025_Task1_Val/Task1/HN/1HNA017/mask.mha', '/datasets/work/hb-synthrad2023/source/synthrad2025_data_v2/synthRAD2025_Task1_Val/Task1/HN/1HNA020/mask.mha', '/datasets/work/hb-synthrad2023/source/synthrad2025_data_v2/synthRAD2025_Task1_Val/Task1/HN/1HNA052/mask.mha', '/datasets/work/hb-synthrad2023/source/synthrad2025_data_v2/synthRAD2025_Task1_Val/Task1/HN/1HNA054/mask.mha', '/datasets/work/hb-synthrad2023/source/synthrad2025_data_v2/synthRAD2025_Task1_Val/Task1/HN/1HNA062/mask.mha', '/datasets/work/hb-synthrad2023/source/synthrad2025_data_v2/synthRAD2025_Task1_Val/Task1/HN/1HNA063/mask.mha', '/datasets/work/hb-synthrad2023/source/synthrad2025_data_v2/synthRAD2025_Task1_Val/Task1/HN/1HNA070/mask.mha', '/datasets/work/hb-synthrad2023/source/synthrad2025_data_v2/synthRAD2025_Task1_Val/Task1/HN/1HNA073/mask.mha', '/datasets/work/hb-synthrad2023/source/synthrad2025_data_v2/synthRAD2025_Task1_Val/Task1/HN/1HNA078/mask.mha', '/datasets/work/hb-synthrad2023/source/synthrad2025_data_v2/synthRAD2025_Task1_Val/Task1/HN/1HNA081/mask.mha', '/datasets/work/hb-synthrad2023/source/synthrad2025_data_v2/synthRAD2025_Task1_Val/Task1/HN/1HNA092/mask.mha', '/datasets/work/hb-synthrad2023/source/synthrad2025_data_v2/synthRAD2025_Task1_Val/Task1/HN/1HNA094/mask.mha', '/datasets/work/hb-synthrad2023/source/synthrad2025_data_v2/synthRAD2025_Task1_Val/Task1/HN/1HNC015/mask.mha', '/datasets/work/hb-synthrad2023/source/synthrad2025_data_v2/synthRAD2025_Task1_Val/Task1/HN/1HNC048/mask.mha', '/datasets/work/hb-synthrad2023/source/synthrad2025_data_v2/synthRAD2025_Task1_Val/Task1/HN/1HNC052/mask.mha', '/datasets/work/hb-synthrad2023/source/synthrad2025_data_v2/synthRAD2025_Task1_Val/Task1/HN/1HNC055/mask.mha', '/datasets/work/hb-synthrad2023/source/synthrad2025_data_v2/synthRAD2025_Task1_Val/Task1/HN/1HNC063/mask.mha', '/datasets/work/hb-synthrad2023/source/synthrad2025_data_v2/synthRAD2025_Task1_Val/Task1/HN/1HNC064/mask.mha', '/datasets/work/hb-synthrad2023/source/synthrad2025_data_v2/synthRAD2025_Task1_Val/Task1/HN/1HNC093/mask.mha', '/datasets/work/hb-synthrad2023/source/synthrad2025_data_v2/synthRAD2025_Task1_Val/Task1/HN/1HNC100/mask.mha', '/datasets/work/hb-synthrad2023/source/synthrad2025_data_v2/synthRAD2025_Task1_Val/Task1/HN/1HNC126/mask.mha', '/datasets/work/hb-synthrad2023/source/synthrad2025_data_v2/synthRAD2025_Task1_Val/Task1/HN/1HNC129/mask.mha', '/datasets/work/hb-synthrad2023/source/synthrad2025_data_v2/synthRAD2025_Task1_Val/Task1/HN/1HND002/mask.mha', '/datasets/work/hb-synthrad2023/source/synthrad2025_data_v2/synthRAD2025_Task1_Val/Task1/HN/1HND010/mask.mha', '/datasets/work/hb-synthrad2023/source/synthrad2025_data_v2/synthRAD2025_Task1_Val/Task1/HN/1HND011/mask.mha', '/datasets/work/hb-synthrad2023/source/synthrad2025_data_v2/synthRAD2025_Task1_Val/Task1/HN/1HND024/mask.mha', '/datasets/work/hb-synthrad2023/source/synthrad2025_data_v2/synthRAD2025_Task1_Val/Task1/HN/1HND033/mask.mha', '/datasets/work/hb-synthrad2023/source/synthrad2025_data_v2/synthRAD2025_Task1_Val/Task1/HN/1HND041/mask.mha', '/datasets/work/hb-synthrad2023/source/synthrad2025_data_v2/synthRAD2025_Task1_Val/Task1/HN/1HND048/mask.mha', '/datasets/work/hb-synthrad2023/source/synthrad2025_data_v2/synthRAD2025_Task1_Val/Task1/HN/1HND066/mask.mha', '/datasets/work/hb-synthrad2023/source/synthrad2025_data_v2/synthRAD2025_Task1_Val/Task1/HN/1HND085/mask.mha', '/datasets/work/hb-synthrad2023/source/synthrad2025_data_v2/synthRAD2025_Task1_Val/Task1/HN/1HND091/mask.mha', '/datasets/work/hb-synthrad2023/source/synthrad2025_data_v2/synthRAD2025_Task1_Val/Task1/TH/1THA007/mask.mha', '/datasets/work/hb-synthrad2023/source/synthrad2025_data_v2/synthRAD2025_Task1_Val/Task1/TH/1THA008/mask.mha', '/datasets/work/hb-synthrad2023/source/synthrad2025_data_v2/synthRAD2025_Task1_Val/Task1/TH/1THA014/mask.mha', '/datasets/work/hb-synthrad2023/source/synthrad2025_data_v2/synthRAD2025_Task1_Val/Task1/TH/1THA023/mask.mha', '/datasets/work/hb-synthrad2023/source/synthrad2025_data_v2/synthRAD2025_Task1_Val/Task1/TH/1THA025/mask.mha', '/datasets/work/hb-synthrad2023/source/synthrad2025_data_v2/synthRAD2025_Task1_Val/Task1/TH/1THA036/mask.mha', '/datasets/work/hb-synthrad2023/source/synthrad2025_data_v2/synthRAD2025_Task1_Val/Task1/TH/1THA053/mask.mha', '/datasets/work/hb-synthrad2023/source/synthrad2025_data_v2/synthRAD2025_Task1_Val/Task1/TH/1THA202/mask.mha', '/datasets/work/hb-synthrad2023/source/synthrad2025_data_v2/synthRAD2025_Task1_Val/Task1/TH/1THA204/mask.mha', '/datasets/work/hb-synthrad2023/source/synthrad2025_data_v2/synthRAD2025_Task1_Val/Task1/TH/1THA215/mask.mha', '/datasets/work/hb-synthrad2023/source/synthrad2025_data_v2/synthRAD2025_Task1_Val/Task1/TH/1THA216/mask.mha', '/datasets/work/hb-synthrad2023/source/synthrad2025_data_v2/synthRAD2025_Task1_Val/Task1/TH/1THA219/mask.mha', '/datasets/work/hb-synthrad2023/source/synthrad2025_data_v2/synthRAD2025_Task1_Val/Task1/TH/1THA222/mask.mha', '/datasets/work/hb-synthrad2023/source/synthrad2025_data_v2/synthRAD2025_Task1_Val/Task1/TH/1THA226/mask.mha', '/datasets/work/hb-synthrad2023/source/synthrad2025_data_v2/synthRAD2025_Task1_Val/Task1/TH/1THB012/mask.mha', '/datasets/work/hb-synthrad2023/source/synthrad2025_data_v2/synthRAD2025_Task1_Val/Task1/TH/1THB014/mask.mha', '/datasets/work/hb-synthrad2023/source/synthrad2025_data_v2/synthRAD2025_Task1_Val/Task1/TH/1THB018/mask.mha', '/datasets/work/hb-synthrad2023/source/synthrad2025_data_v2/synthRAD2025_Task1_Val/Task1/TH/1THB025/mask.mha', '/datasets/work/hb-synthrad2023/source/synthrad2025_data_v2/synthRAD2025_Task1_Val/Task1/TH/1THB032/mask.mha', '/datasets/work/hb-synthrad2023/source/synthrad2025_data_v2/synthRAD2025_Task1_Val/Task1/TH/1THB036/mask.mha', '/datasets/work/hb-synthrad2023/source/synthrad2025_data_v2/synthRAD2025_Task1_Val/Task1/TH/1THB075/mask.mha', '/datasets/work/hb-synthrad2023/source/synthrad2025_data_v2/synthRAD2025_Task1_Val/Task1/TH/1THB125/mask.mha', '/datasets/work/hb-synthrad2023/source/synthrad2025_data_v2/synthRAD2025_Task1_Val/Task1/TH/1THB142/mask.mha', '/datasets/work/hb-synthrad2023/source/synthrad2025_data_v2/synthRAD2025_Task1_Val/Task1/TH/1THB155/mask.mha', '/datasets/work/hb-synthrad2023/source/synthrad2025_data_v2/synthRAD2025_Task1_Val/Task1/TH/1THB186/mask.mha', '/datasets/work/hb-synthrad2023/source/synthrad2025_data_v2/synthRAD2025_Task1_Val/Task1/TH/1THB204/mask.mha', '/datasets/work/hb-synthrad2023/source/synthrad2025_data_v2/synthRAD2025_Task1_Val/Task1/TH/1THB209/mask.mha', '/datasets/work/hb-synthrad2023/source/synthrad2025_data_v2/synthRAD2025_Task1_Val/Task1/TH/1THB219/mask.mha']\n"
     ]
    }
   ],
   "source": [
    "os.environ[\"nnUNet_raw\"] = \"/datasets/work/hb-synthrad2023/work/synthrad2025/bw_workplace/data/nnunet_struct/raw\"\n",
    "os.environ[\"nnUNet_preprocessed\"] = \"/datasets/work/hb-synthrad2023/work/synthrad2025/bw_workplace/data/nnunet_struct/preprocessed\"\n",
    "os.environ[\"nnUNet_results\"] = \"/datasets/work/hb-synthrad2023/work/synthrad2025/bw_workplace/data/nnunet_struct/results\"\n",
    "\n",
    "data_root = \"/datasets/work/hb-synthrad2023/source/synthrad2025_data_v2/synthRAD2025_Task1_Val/Task1\"\n",
    "list_data_mri = sorted(glob.glob(os.path.join(data_root, '**','mr.mha'), recursive=True))\n",
    "list_data_mask = sorted(glob.glob(os.path.join(data_root, '**','mask.mha'), recursive=True))\n",
    "print(\"input1 ---\", len(list_data_mri), list_data_mri)\n",
    "print(\"input2 ---\", len(list_data_mask), list_data_mask)"
   ]
  },
  {
   "cell_type": "code",
   "execution_count": 11,
   "id": "07da7c82",
   "metadata": {},
   "outputs": [
    {
     "name": "stderr",
     "output_type": "stream",
     "text": [
      "100%|██████████| 89/89 [00:01<00:00, 56.66it/s]\n"
     ]
    }
   ],
   "source": [
    "def process_file(data_path, dataset_path, modality_suffix=\"_0000\"):\n",
    "    filename = data_path.split(os.sep)[-2]\n",
    "    if not filename.endswith(f'{modality_suffix}.mha'):\n",
    "        filename = filename + f'{modality_suffix}.mha'\n",
    "    os.makedirs(os.path.join(dataset_path, 'imagesVal'), exist_ok=True)\n",
    "    shutil.copyfile(data_path, os.path.join(dataset_path, f'imagesVal/{filename}'))\n",
    "\n",
    "with ThreadPoolExecutor() as executor:\n",
    "    list(tqdm(executor.map(lambda data_path: process_file(data_path, dataset_data_path, \"_0000\"), list_data_mri), total=len(list_data_mri)))\n",
    "\n",
    "# with ThreadPoolExecutor() as executor:\n",
    "#     list(tqdm(executor.map(lambda data_path: process_file(data_path, dataset_data_path, \"_0001\"), list_data_mask), total=len(list_data_mask)))\n"
   ]
  },
  {
   "cell_type": "code",
   "execution_count": 12,
   "id": "8691cdbc",
   "metadata": {},
   "outputs": [
    {
     "name": "stdout",
     "output_type": "stream",
     "text": [
      "\n",
      "#######################################################################\n",
      "Please cite the following paper when using nnU-Net:\n",
      "Isensee, F., Jaeger, P. F., Kohl, S. A., Petersen, J., & Maier-Hein, K. H. (2021). nnU-Net: a self-configuring method for deep learning-based biomedical image segmentation. Nature methods, 18(2), 203-211.\n",
      "#######################################################################\n",
      "\n",
      "tile :  0.5\n",
      "There are 89 cases in the source folder\n",
      "[['/datasets/work/hb-plamri/source/nnUnet_lung/data/nnUNet_raw/Dataset204_synthrad2025_task1_MR_resXL/imagesVal/1ABA002_0000.mha'], ['/datasets/work/hb-plamri/source/nnUnet_lung/data/nnUNet_raw/Dataset204_synthrad2025_task1_MR_resXL/imagesVal/1ABA008_0000.mha'], ['/datasets/work/hb-plamri/source/nnUnet_lung/data/nnUNet_raw/Dataset204_synthrad2025_task1_MR_resXL/imagesVal/1ABA010_0000.mha'], ['/datasets/work/hb-plamri/source/nnUnet_lung/data/nnUNet_raw/Dataset204_synthrad2025_task1_MR_resXL/imagesVal/1ABA017_0000.mha'], ['/datasets/work/hb-plamri/source/nnUnet_lung/data/nnUNet_raw/Dataset204_synthrad2025_task1_MR_resXL/imagesVal/1ABA021_0000.mha'], ['/datasets/work/hb-plamri/source/nnUnet_lung/data/nnUNet_raw/Dataset204_synthrad2025_task1_MR_resXL/imagesVal/1ABA023_0000.mha'], ['/datasets/work/hb-plamri/source/nnUnet_lung/data/nnUNet_raw/Dataset204_synthrad2025_task1_MR_resXL/imagesVal/1ABA032_0000.mha'], ['/datasets/work/hb-plamri/source/nnUnet_lung/data/nnUNet_raw/Dataset204_synthrad2025_task1_MR_resXL/imagesVal/1ABA037_0000.mha'], ['/datasets/work/hb-plamri/source/nnUnet_lung/data/nnUNet_raw/Dataset204_synthrad2025_task1_MR_resXL/imagesVal/1ABA055_0000.mha'], ['/datasets/work/hb-plamri/source/nnUnet_lung/data/nnUNet_raw/Dataset204_synthrad2025_task1_MR_resXL/imagesVal/1ABA064_0000.mha'], ['/datasets/work/hb-plamri/source/nnUnet_lung/data/nnUNet_raw/Dataset204_synthrad2025_task1_MR_resXL/imagesVal/1ABB022_0000.mha'], ['/datasets/work/hb-plamri/source/nnUnet_lung/data/nnUNet_raw/Dataset204_synthrad2025_task1_MR_resXL/imagesVal/1ABB051_0000.mha'], ['/datasets/work/hb-plamri/source/nnUnet_lung/data/nnUNet_raw/Dataset204_synthrad2025_task1_MR_resXL/imagesVal/1ABB080_0000.mha'], ['/datasets/work/hb-plamri/source/nnUnet_lung/data/nnUNet_raw/Dataset204_synthrad2025_task1_MR_resXL/imagesVal/1ABB081_0000.mha'], ['/datasets/work/hb-plamri/source/nnUnet_lung/data/nnUNet_raw/Dataset204_synthrad2025_task1_MR_resXL/imagesVal/1ABB085_0000.mha'], ['/datasets/work/hb-plamri/source/nnUnet_lung/data/nnUNet_raw/Dataset204_synthrad2025_task1_MR_resXL/imagesVal/1ABB097_0000.mha'], ['/datasets/work/hb-plamri/source/nnUnet_lung/data/nnUNet_raw/Dataset204_synthrad2025_task1_MR_resXL/imagesVal/1ABB099_0000.mha'], ['/datasets/work/hb-plamri/source/nnUnet_lung/data/nnUNet_raw/Dataset204_synthrad2025_task1_MR_resXL/imagesVal/1ABB101_0000.mha'], ['/datasets/work/hb-plamri/source/nnUnet_lung/data/nnUNet_raw/Dataset204_synthrad2025_task1_MR_resXL/imagesVal/1ABB104_0000.mha'], ['/datasets/work/hb-plamri/source/nnUnet_lung/data/nnUNet_raw/Dataset204_synthrad2025_task1_MR_resXL/imagesVal/1ABB111_0000.mha'], ['/datasets/work/hb-plamri/source/nnUnet_lung/data/nnUNet_raw/Dataset204_synthrad2025_task1_MR_resXL/imagesVal/1ABB134_0000.mha'], ['/datasets/work/hb-plamri/source/nnUnet_lung/data/nnUNet_raw/Dataset204_synthrad2025_task1_MR_resXL/imagesVal/1ABB142_0000.mha'], ['/datasets/work/hb-plamri/source/nnUnet_lung/data/nnUNet_raw/Dataset204_synthrad2025_task1_MR_resXL/imagesVal/1ABB148_0000.mha'], ['/datasets/work/hb-plamri/source/nnUnet_lung/data/nnUNet_raw/Dataset204_synthrad2025_task1_MR_resXL/imagesVal/1ABB158_0000.mha'], ['/datasets/work/hb-plamri/source/nnUnet_lung/data/nnUNet_raw/Dataset204_synthrad2025_task1_MR_resXL/imagesVal/1ABC001_0000.mha'], ['/datasets/work/hb-plamri/source/nnUnet_lung/data/nnUNet_raw/Dataset204_synthrad2025_task1_MR_resXL/imagesVal/1ABC015_0000.mha'], ['/datasets/work/hb-plamri/source/nnUnet_lung/data/nnUNet_raw/Dataset204_synthrad2025_task1_MR_resXL/imagesVal/1ABC145_0000.mha'], ['/datasets/work/hb-plamri/source/nnUnet_lung/data/nnUNet_raw/Dataset204_synthrad2025_task1_MR_resXL/imagesVal/1HNA002_0000.mha'], ['/datasets/work/hb-plamri/source/nnUnet_lung/data/nnUNet_raw/Dataset204_synthrad2025_task1_MR_resXL/imagesVal/1HNA005_0000.mha'], ['/datasets/work/hb-plamri/source/nnUnet_lung/data/nnUNet_raw/Dataset204_synthrad2025_task1_MR_resXL/imagesVal/1HNA017_0000.mha'], ['/datasets/work/hb-plamri/source/nnUnet_lung/data/nnUNet_raw/Dataset204_synthrad2025_task1_MR_resXL/imagesVal/1HNA020_0000.mha'], ['/datasets/work/hb-plamri/source/nnUnet_lung/data/nnUNet_raw/Dataset204_synthrad2025_task1_MR_resXL/imagesVal/1HNA052_0000.mha'], ['/datasets/work/hb-plamri/source/nnUnet_lung/data/nnUNet_raw/Dataset204_synthrad2025_task1_MR_resXL/imagesVal/1HNA054_0000.mha'], ['/datasets/work/hb-plamri/source/nnUnet_lung/data/nnUNet_raw/Dataset204_synthrad2025_task1_MR_resXL/imagesVal/1HNA062_0000.mha'], ['/datasets/work/hb-plamri/source/nnUnet_lung/data/nnUNet_raw/Dataset204_synthrad2025_task1_MR_resXL/imagesVal/1HNA063_0000.mha'], ['/datasets/work/hb-plamri/source/nnUnet_lung/data/nnUNet_raw/Dataset204_synthrad2025_task1_MR_resXL/imagesVal/1HNA070_0000.mha'], ['/datasets/work/hb-plamri/source/nnUnet_lung/data/nnUNet_raw/Dataset204_synthrad2025_task1_MR_resXL/imagesVal/1HNA073_0000.mha'], ['/datasets/work/hb-plamri/source/nnUnet_lung/data/nnUNet_raw/Dataset204_synthrad2025_task1_MR_resXL/imagesVal/1HNA078_0000.mha'], ['/datasets/work/hb-plamri/source/nnUnet_lung/data/nnUNet_raw/Dataset204_synthrad2025_task1_MR_resXL/imagesVal/1HNA081_0000.mha'], ['/datasets/work/hb-plamri/source/nnUnet_lung/data/nnUNet_raw/Dataset204_synthrad2025_task1_MR_resXL/imagesVal/1HNA092_0000.mha'], ['/datasets/work/hb-plamri/source/nnUnet_lung/data/nnUNet_raw/Dataset204_synthrad2025_task1_MR_resXL/imagesVal/1HNA094_0000.mha'], ['/datasets/work/hb-plamri/source/nnUnet_lung/data/nnUNet_raw/Dataset204_synthrad2025_task1_MR_resXL/imagesVal/1HNC015_0000.mha'], ['/datasets/work/hb-plamri/source/nnUnet_lung/data/nnUNet_raw/Dataset204_synthrad2025_task1_MR_resXL/imagesVal/1HNC048_0000.mha'], ['/datasets/work/hb-plamri/source/nnUnet_lung/data/nnUNet_raw/Dataset204_synthrad2025_task1_MR_resXL/imagesVal/1HNC052_0000.mha'], ['/datasets/work/hb-plamri/source/nnUnet_lung/data/nnUNet_raw/Dataset204_synthrad2025_task1_MR_resXL/imagesVal/1HNC055_0000.mha'], ['/datasets/work/hb-plamri/source/nnUnet_lung/data/nnUNet_raw/Dataset204_synthrad2025_task1_MR_resXL/imagesVal/1HNC063_0000.mha'], ['/datasets/work/hb-plamri/source/nnUnet_lung/data/nnUNet_raw/Dataset204_synthrad2025_task1_MR_resXL/imagesVal/1HNC064_0000.mha'], ['/datasets/work/hb-plamri/source/nnUnet_lung/data/nnUNet_raw/Dataset204_synthrad2025_task1_MR_resXL/imagesVal/1HNC093_0000.mha'], ['/datasets/work/hb-plamri/source/nnUnet_lung/data/nnUNet_raw/Dataset204_synthrad2025_task1_MR_resXL/imagesVal/1HNC100_0000.mha'], ['/datasets/work/hb-plamri/source/nnUnet_lung/data/nnUNet_raw/Dataset204_synthrad2025_task1_MR_resXL/imagesVal/1HNC126_0000.mha'], ['/datasets/work/hb-plamri/source/nnUnet_lung/data/nnUNet_raw/Dataset204_synthrad2025_task1_MR_resXL/imagesVal/1HNC129_0000.mha'], ['/datasets/work/hb-plamri/source/nnUnet_lung/data/nnUNet_raw/Dataset204_synthrad2025_task1_MR_resXL/imagesVal/1HND002_0000.mha'], ['/datasets/work/hb-plamri/source/nnUnet_lung/data/nnUNet_raw/Dataset204_synthrad2025_task1_MR_resXL/imagesVal/1HND010_0000.mha'], ['/datasets/work/hb-plamri/source/nnUnet_lung/data/nnUNet_raw/Dataset204_synthrad2025_task1_MR_resXL/imagesVal/1HND011_0000.mha'], ['/datasets/work/hb-plamri/source/nnUnet_lung/data/nnUNet_raw/Dataset204_synthrad2025_task1_MR_resXL/imagesVal/1HND024_0000.mha'], ['/datasets/work/hb-plamri/source/nnUnet_lung/data/nnUNet_raw/Dataset204_synthrad2025_task1_MR_resXL/imagesVal/1HND033_0000.mha'], ['/datasets/work/hb-plamri/source/nnUnet_lung/data/nnUNet_raw/Dataset204_synthrad2025_task1_MR_resXL/imagesVal/1HND041_0000.mha'], ['/datasets/work/hb-plamri/source/nnUnet_lung/data/nnUNet_raw/Dataset204_synthrad2025_task1_MR_resXL/imagesVal/1HND048_0000.mha'], ['/datasets/work/hb-plamri/source/nnUnet_lung/data/nnUNet_raw/Dataset204_synthrad2025_task1_MR_resXL/imagesVal/1HND066_0000.mha'], ['/datasets/work/hb-plamri/source/nnUnet_lung/data/nnUNet_raw/Dataset204_synthrad2025_task1_MR_resXL/imagesVal/1HND085_0000.mha'], ['/datasets/work/hb-plamri/source/nnUnet_lung/data/nnUNet_raw/Dataset204_synthrad2025_task1_MR_resXL/imagesVal/1HND091_0000.mha'], ['/datasets/work/hb-plamri/source/nnUnet_lung/data/nnUNet_raw/Dataset204_synthrad2025_task1_MR_resXL/imagesVal/1THA007_0000.mha'], ['/datasets/work/hb-plamri/source/nnUnet_lung/data/nnUNet_raw/Dataset204_synthrad2025_task1_MR_resXL/imagesVal/1THA008_0000.mha'], ['/datasets/work/hb-plamri/source/nnUnet_lung/data/nnUNet_raw/Dataset204_synthrad2025_task1_MR_resXL/imagesVal/1THA014_0000.mha'], ['/datasets/work/hb-plamri/source/nnUnet_lung/data/nnUNet_raw/Dataset204_synthrad2025_task1_MR_resXL/imagesVal/1THA023_0000.mha'], ['/datasets/work/hb-plamri/source/nnUnet_lung/data/nnUNet_raw/Dataset204_synthrad2025_task1_MR_resXL/imagesVal/1THA025_0000.mha'], ['/datasets/work/hb-plamri/source/nnUnet_lung/data/nnUNet_raw/Dataset204_synthrad2025_task1_MR_resXL/imagesVal/1THA036_0000.mha'], ['/datasets/work/hb-plamri/source/nnUnet_lung/data/nnUNet_raw/Dataset204_synthrad2025_task1_MR_resXL/imagesVal/1THA053_0000.mha'], ['/datasets/work/hb-plamri/source/nnUnet_lung/data/nnUNet_raw/Dataset204_synthrad2025_task1_MR_resXL/imagesVal/1THA202_0000.mha'], ['/datasets/work/hb-plamri/source/nnUnet_lung/data/nnUNet_raw/Dataset204_synthrad2025_task1_MR_resXL/imagesVal/1THA204_0000.mha'], ['/datasets/work/hb-plamri/source/nnUnet_lung/data/nnUNet_raw/Dataset204_synthrad2025_task1_MR_resXL/imagesVal/1THA215_0000.mha'], ['/datasets/work/hb-plamri/source/nnUnet_lung/data/nnUNet_raw/Dataset204_synthrad2025_task1_MR_resXL/imagesVal/1THA216_0000.mha'], ['/datasets/work/hb-plamri/source/nnUnet_lung/data/nnUNet_raw/Dataset204_synthrad2025_task1_MR_resXL/imagesVal/1THA219_0000.mha'], ['/datasets/work/hb-plamri/source/nnUnet_lung/data/nnUNet_raw/Dataset204_synthrad2025_task1_MR_resXL/imagesVal/1THA222_0000.mha'], ['/datasets/work/hb-plamri/source/nnUnet_lung/data/nnUNet_raw/Dataset204_synthrad2025_task1_MR_resXL/imagesVal/1THA226_0000.mha'], ['/datasets/work/hb-plamri/source/nnUnet_lung/data/nnUNet_raw/Dataset204_synthrad2025_task1_MR_resXL/imagesVal/1THB012_0000.mha'], ['/datasets/work/hb-plamri/source/nnUnet_lung/data/nnUNet_raw/Dataset204_synthrad2025_task1_MR_resXL/imagesVal/1THB014_0000.mha'], ['/datasets/work/hb-plamri/source/nnUnet_lung/data/nnUNet_raw/Dataset204_synthrad2025_task1_MR_resXL/imagesVal/1THB018_0000.mha'], ['/datasets/work/hb-plamri/source/nnUnet_lung/data/nnUNet_raw/Dataset204_synthrad2025_task1_MR_resXL/imagesVal/1THB025_0000.mha'], ['/datasets/work/hb-plamri/source/nnUnet_lung/data/nnUNet_raw/Dataset204_synthrad2025_task1_MR_resXL/imagesVal/1THB032_0000.mha'], ['/datasets/work/hb-plamri/source/nnUnet_lung/data/nnUNet_raw/Dataset204_synthrad2025_task1_MR_resXL/imagesVal/1THB036_0000.mha'], ['/datasets/work/hb-plamri/source/nnUnet_lung/data/nnUNet_raw/Dataset204_synthrad2025_task1_MR_resXL/imagesVal/1THB075_0000.mha'], ['/datasets/work/hb-plamri/source/nnUnet_lung/data/nnUNet_raw/Dataset204_synthrad2025_task1_MR_resXL/imagesVal/1THB125_0000.mha'], ['/datasets/work/hb-plamri/source/nnUnet_lung/data/nnUNet_raw/Dataset204_synthrad2025_task1_MR_resXL/imagesVal/1THB142_0000.mha'], ['/datasets/work/hb-plamri/source/nnUnet_lung/data/nnUNet_raw/Dataset204_synthrad2025_task1_MR_resXL/imagesVal/1THB155_0000.mha'], ['/datasets/work/hb-plamri/source/nnUnet_lung/data/nnUNet_raw/Dataset204_synthrad2025_task1_MR_resXL/imagesVal/1THB186_0000.mha'], ['/datasets/work/hb-plamri/source/nnUnet_lung/data/nnUNet_raw/Dataset204_synthrad2025_task1_MR_resXL/imagesVal/1THB204_0000.mha'], ['/datasets/work/hb-plamri/source/nnUnet_lung/data/nnUNet_raw/Dataset204_synthrad2025_task1_MR_resXL/imagesVal/1THB209_0000.mha'], ['/datasets/work/hb-plamri/source/nnUnet_lung/data/nnUNet_raw/Dataset204_synthrad2025_task1_MR_resXL/imagesVal/1THB219_0000.mha']]\n",
      "There are 89 cases that I would like to predict\n",
      "\n",
      "Predicting 1ABA002:\n",
      "perform_everything_on_device: True\n",
      "Reconstruction: MEAN\n"
     ]
    },
    {
     "name": "stderr",
     "output_type": "stream",
     "text": [
      "100%|████████████████████████████████████████████| 1/1 [00:02<00:00,  2.16s/it]\n"
     ]
    },
    {
     "name": "stdout",
     "output_type": "stream",
     "text": [
      "sending off prediction to background worker for resampling and export\n",
      "done with 1ABA002\n",
      "\n",
      "Predicting 1ABA008:\n",
      "perform_everything_on_device: True\n",
      "(69, 329, 368) -0.707 3.713 float16\n",
      "Reconstruction: MEAN\n"
     ]
    },
    {
     "name": "stderr",
     "output_type": "stream",
     "text": [
      "100%|████████████████████████████████████████████| 2/2 [00:00<00:00,  2.69it/s]\n"
     ]
    },
    {
     "name": "stdout",
     "output_type": "stream",
     "text": [
      "sending off prediction to background worker for resampling and export\n",
      "done with 1ABA008\n",
      "\n",
      "Predicting 1ABA010:\n",
      "perform_everything_on_device: True\n",
      "(72, 349, 470) -0.7236 3.219 float16\n",
      "Reconstruction: MEAN\n"
     ]
    },
    {
     "name": "stderr",
     "output_type": "stream",
     "text": [
      "100%|████████████████████████████████████████████| 4/4 [00:01<00:00,  2.73it/s]\n"
     ]
    },
    {
     "name": "stdout",
     "output_type": "stream",
     "text": [
      "sending off prediction to background worker for resampling and export\n",
      "done with 1ABA010\n",
      "\n",
      "Predicting 1ABA017:\n",
      "perform_everything_on_device: True\n",
      "(65, 490, 499) -0.6504 3.477 float16\n",
      "Reconstruction: MEAN\n"
     ]
    },
    {
     "name": "stderr",
     "output_type": "stream",
     "text": [
      "100%|████████████████████████████████████████████| 2/2 [00:00<00:00,  2.85it/s]\n"
     ]
    },
    {
     "name": "stdout",
     "output_type": "stream",
     "text": [
      "sending off prediction to background worker for resampling and export\n",
      "done with 1ABA017\n",
      "\n",
      "Predicting 1ABA021:\n",
      "perform_everything_on_device: True\n",
      "(80, 358, 474) -0.782 3.387 float16\n",
      "Reconstruction: MEAN\n"
     ]
    },
    {
     "name": "stderr",
     "output_type": "stream",
     "text": [
      "100%|████████████████████████████████████████████| 2/2 [00:00<00:00,  3.28it/s]\n"
     ]
    },
    {
     "name": "stdout",
     "output_type": "stream",
     "text": [
      "sending off prediction to background worker for resampling and export\n",
      "done with 1ABA021\n",
      "\n",
      "Predicting 1ABA023:\n",
      "perform_everything_on_device: True\n",
      "(96, 359, 473) -0.812 3.312 float16\n",
      "Reconstruction: MEAN\n"
     ]
    },
    {
     "name": "stderr",
     "output_type": "stream",
     "text": [
      "100%|████████████████████████████████████████████| 4/4 [00:01<00:00,  2.84it/s]\n"
     ]
    },
    {
     "name": "stdout",
     "output_type": "stream",
     "text": [
      "sending off prediction to background worker for resampling and export\n",
      "done with 1ABA023\n",
      "\n",
      "Predicting 1ABA032:\n",
      "perform_everything_on_device: True\n",
      "(112, 393, 487) -0.838 3.576 float16\n",
      "Reconstruction: MEAN\n"
     ]
    },
    {
     "name": "stderr",
     "output_type": "stream",
     "text": [
      "100%|████████████████████████████████████████████| 2/2 [00:00<00:00,  2.90it/s]\n"
     ]
    },
    {
     "name": "stdout",
     "output_type": "stream",
     "text": [
      "sending off prediction to background worker for resampling and export\n",
      "done with 1ABA032\n",
      "\n",
      "Predicting 1ABA037:\n",
      "perform_everything_on_device: True\n",
      "(108, 344, 467) -0.75 3.61 float16\n",
      "Reconstruction: MEAN\n"
     ]
    },
    {
     "name": "stderr",
     "output_type": "stream",
     "text": [
      "100%|████████████████████████████████████████████| 2/2 [00:00<00:00,  3.16it/s]\n"
     ]
    },
    {
     "name": "stdout",
     "output_type": "stream",
     "text": [
      "sending off prediction to background worker for resampling and export\n",
      "done with 1ABA037\n",
      "\n",
      "Predicting 1ABA055:\n",
      "perform_everything_on_device: True\n",
      "(82, 350, 468) -0.6953 3.484 float16\n",
      "Reconstruction: MEAN\n"
     ]
    },
    {
     "name": "stderr",
     "output_type": "stream",
     "text": [
      "100%|████████████████████████████████████████████| 2/2 [00:00<00:00,  2.87it/s]\n"
     ]
    },
    {
     "name": "stdout",
     "output_type": "stream",
     "text": [
      "sending off prediction to background worker for resampling and export\n",
      "done with 1ABA055\n",
      "\n",
      "Predicting 1ABA064:\n",
      "perform_everything_on_device: True\n",
      "(84, 340, 461) -0.7017 3.32 float16\n",
      "Reconstruction: MEAN\n"
     ]
    },
    {
     "name": "stderr",
     "output_type": "stream",
     "text": [
      "100%|████████████████████████████████████████████| 2/2 [00:00<00:00,  2.83it/s]\n"
     ]
    },
    {
     "name": "stdout",
     "output_type": "stream",
     "text": [
      "sending off prediction to background worker for resampling and export\n",
      "done with 1ABA064\n",
      "\n",
      "Predicting 1ABB022:\n",
      "perform_everything_on_device: True\n",
      "(82, 342, 461) -0.659 3.328 float16\n",
      "Reconstruction: MEAN\n"
     ]
    },
    {
     "name": "stderr",
     "output_type": "stream",
     "text": [
      "100%|████████████████████████████████████████████| 4/4 [00:01<00:00,  2.84it/s]\n"
     ]
    },
    {
     "name": "stdout",
     "output_type": "stream",
     "text": [
      "sending off prediction to background worker for resampling and export\n",
      "done with 1ABB022\n",
      "\n",
      "Predicting 1ABB051:\n",
      "perform_everything_on_device: True\n",
      "(93, 497, 498) -0.709 3.441 float16\n",
      "Reconstruction: MEAN\n"
     ]
    },
    {
     "name": "stderr",
     "output_type": "stream",
     "text": [
      "100%|████████████████████████████████████████████| 4/4 [00:01<00:00,  2.75it/s]\n"
     ]
    },
    {
     "name": "stdout",
     "output_type": "stream",
     "text": [
      "sending off prediction to background worker for resampling and export\n",
      "done with 1ABB051\n",
      "\n",
      "Predicting 1ABB080:\n",
      "perform_everything_on_device: True\n",
      "(110, 438, 457) -0.69 3.453 float16\n",
      "Reconstruction: MEAN\n"
     ]
    },
    {
     "name": "stderr",
     "output_type": "stream",
     "text": [
      "100%|████████████████████████████████████████████| 4/4 [00:01<00:00,  2.84it/s]\n"
     ]
    },
    {
     "name": "stdout",
     "output_type": "stream",
     "text": [
      "sending off prediction to background worker for resampling and export\n",
      "done with 1ABB080\n",
      "\n",
      "Predicting 1ABB081:\n",
      "perform_everything_on_device: True\n",
      "(96, 393, 395) -0.681 3.46 float16\n",
      "Reconstruction: MEAN\n"
     ]
    },
    {
     "name": "stderr",
     "output_type": "stream",
     "text": [
      "100%|████████████████████████████████████████████| 4/4 [00:01<00:00,  2.91it/s]\n"
     ]
    },
    {
     "name": "stdout",
     "output_type": "stream",
     "text": [
      "sending off prediction to background worker for resampling and export\n",
      "done with 1ABB081\n",
      "\n",
      "Predicting 1ABB085:\n",
      "perform_everything_on_device: True\n",
      "(101, 396, 401) -0.6997 3.45 float16\n",
      "Reconstruction: MEAN\n"
     ]
    },
    {
     "name": "stderr",
     "output_type": "stream",
     "text": [
      "100%|████████████████████████████████████████████| 4/4 [00:01<00:00,  2.83it/s]\n"
     ]
    },
    {
     "name": "stdout",
     "output_type": "stream",
     "text": [
      "sending off prediction to background worker for resampling and export\n",
      "done with 1ABB085\n",
      "\n",
      "Predicting 1ABB097:\n",
      "perform_everything_on_device: True\n",
      "(98, 456, 452) -0.8037 3.568 float16\n",
      "Reconstruction: MEAN\n"
     ]
    },
    {
     "name": "stderr",
     "output_type": "stream",
     "text": [
      "100%|████████████████████████████████████████████| 4/4 [00:01<00:00,  2.82it/s]\n"
     ]
    },
    {
     "name": "stdout",
     "output_type": "stream",
     "text": [
      "sending off prediction to background worker for resampling and export\n",
      "done with 1ABB097\n",
      "\n",
      "Predicting 1ABB099:\n",
      "perform_everything_on_device: True\n",
      "(93, 497, 498) -0.709 3.441 float16\n",
      "Reconstruction: MEAN\n"
     ]
    },
    {
     "name": "stderr",
     "output_type": "stream",
     "text": [
      "100%|████████████████████████████████████████████| 4/4 [00:01<00:00,  2.83it/s]\n"
     ]
    },
    {
     "name": "stdout",
     "output_type": "stream",
     "text": [
      "sending off prediction to background worker for resampling and export\n",
      "done with 1ABB099\n",
      "\n",
      "Predicting 1ABB101:\n",
      "perform_everything_on_device: True\n",
      "(111, 450, 439) -0.692 3.771 float16\n",
      "Reconstruction: MEAN\n"
     ]
    },
    {
     "name": "stderr",
     "output_type": "stream",
     "text": [
      "100%|████████████████████████████████████████████| 8/8 [00:02<00:00,  2.82it/s]\n"
     ]
    },
    {
     "name": "stdout",
     "output_type": "stream",
     "text": [
      "sending off prediction to background worker for resampling and export\n",
      "done with 1ABB101\n",
      "\n",
      "Predicting 1ABB104:\n",
      "perform_everything_on_device: True\n",
      "(140, 508, 540) -0.7197 3.861 float16\n",
      "Reconstruction: MEAN\n"
     ]
    },
    {
     "name": "stderr",
     "output_type": "stream",
     "text": [
      "100%|████████████████████████████████████████████| 4/4 [00:01<00:00,  3.31it/s]\n"
     ]
    },
    {
     "name": "stdout",
     "output_type": "stream",
     "text": [
      "sending off prediction to background worker for resampling and export\n",
      "done with 1ABB104\n",
      "\n",
      "Predicting 1ABB111:\n",
      "perform_everything_on_device: True\n",
      "(111, 427, 426) -0.7007 3.654 float16\n",
      "Reconstruction: MEAN\n"
     ]
    },
    {
     "name": "stderr",
     "output_type": "stream",
     "text": [
      "100%|████████████████████████████████████████████| 8/8 [00:02<00:00,  3.08it/s]\n"
     ]
    },
    {
     "name": "stdout",
     "output_type": "stream",
     "text": [
      "sending off prediction to background worker for resampling and export\n",
      "done with 1ABB111\n",
      "\n",
      "Predicting 1ABB134:\n",
      "perform_everything_on_device: True\n",
      "(115, 404, 398) -0.766 3.746 float16\n",
      "Reconstruction: MEAN\n"
     ]
    },
    {
     "name": "stderr",
     "output_type": "stream",
     "text": [
      "100%|████████████████████████████████████████████| 4/4 [00:01<00:00,  2.86it/s]\n"
     ]
    },
    {
     "name": "stdout",
     "output_type": "stream",
     "text": [
      "sending off prediction to background worker for resampling and export\n",
      "done with 1ABB134\n",
      "\n",
      "Predicting 1ABB142:\n",
      "perform_everything_on_device: True\n",
      "(95, 497, 500) -0.7944 3.582 float16\n",
      "Reconstruction: MEAN\n"
     ]
    },
    {
     "name": "stderr",
     "output_type": "stream",
     "text": [
      "100%|████████████████████████████████████████████| 4/4 [00:01<00:00,  2.86it/s]\n"
     ]
    },
    {
     "name": "stdout",
     "output_type": "stream",
     "text": [
      "sending off prediction to background worker for resampling and export\n",
      "done with 1ABB142\n",
      "\n",
      "Predicting 1ABB148:\n",
      "perform_everything_on_device: True\n",
      "(78, 492, 491) -0.6924 3.64 float16\n",
      "Reconstruction: MEAN\n"
     ]
    },
    {
     "name": "stderr",
     "output_type": "stream",
     "text": [
      "100%|████████████████████████████████████████████| 8/8 [00:02<00:00,  2.91it/s]\n"
     ]
    },
    {
     "name": "stdout",
     "output_type": "stream",
     "text": [
      "sending off prediction to background worker for resampling and export\n",
      "done with 1ABB148\n",
      "\n",
      "Predicting 1ABB158:\n",
      "perform_everything_on_device: True\n",
      "(126, 445, 448) -0.7183 3.568 float16\n",
      "Reconstruction: MEAN\n"
     ]
    },
    {
     "name": "stderr",
     "output_type": "stream",
     "text": [
      "100%|████████████████████████████████████████████| 4/4 [00:01<00:00,  2.87it/s]\n"
     ]
    },
    {
     "name": "stdout",
     "output_type": "stream",
     "text": [
      "sending off prediction to background worker for resampling and export\n",
      "done with 1ABB158\n",
      "\n",
      "Predicting 1ABC001:\n",
      "perform_everything_on_device: True\n",
      "(76, 493, 489) -0.718 3.504 float16\n",
      "Reconstruction: MEAN\n"
     ]
    },
    {
     "name": "stderr",
     "output_type": "stream",
     "text": [
      "100%|████████████████████████████████████████████| 4/4 [00:01<00:00,  2.82it/s]\n"
     ]
    },
    {
     "name": "stdout",
     "output_type": "stream",
     "text": [
      "sending off prediction to background worker for resampling and export\n",
      "done with 1ABC001\n",
      "\n",
      "Predicting 1ABC015:\n",
      "perform_everything_on_device: True\n",
      "(88, 443, 490) -0.8047 3.521 float16\n",
      "Reconstruction: MEAN\n"
     ]
    },
    {
     "name": "stderr",
     "output_type": "stream",
     "text": [
      "100%|████████████████████████████████████████████| 4/4 [00:01<00:00,  3.20it/s]\n"
     ]
    },
    {
     "name": "stdout",
     "output_type": "stream",
     "text": [
      "sending off prediction to background worker for resampling and export\n",
      "done with 1ABC015\n",
      "\n",
      "Predicting 1ABC145:\n",
      "perform_everything_on_device: True\n",
      "(88, 459, 502) -0.7163 3.113 float16\n",
      "Reconstruction: MEAN\n"
     ]
    },
    {
     "name": "stderr",
     "output_type": "stream",
     "text": [
      "100%|████████████████████████████████████████████| 4/4 [00:01<00:00,  2.83it/s]\n"
     ]
    },
    {
     "name": "stdout",
     "output_type": "stream",
     "text": [
      "sending off prediction to background worker for resampling and export\n",
      "done with 1ABC145\n",
      "\n",
      "Predicting 1HNA002:\n",
      "perform_everything_on_device: True\n",
      "(116, 360, 475) -0.672 3.525 float16\n",
      "Reconstruction: MEAN\n"
     ]
    },
    {
     "name": "stderr",
     "output_type": "stream",
     "text": [
      "100%|████████████████████████████████████████████| 4/4 [00:01<00:00,  2.85it/s]\n"
     ]
    },
    {
     "name": "stdout",
     "output_type": "stream",
     "text": [
      "sending off prediction to background worker for resampling and export\n",
      "done with 1HNA002\n",
      "\n",
      "Predicting 1HNA005:\n",
      "perform_everything_on_device: True\n",
      "(138, 381, 519) -0.82 3.549 float16\n",
      "Reconstruction: MEAN\n"
     ]
    },
    {
     "name": "stderr",
     "output_type": "stream",
     "text": [
      "100%|████████████████████████████████████████████| 4/4 [00:01<00:00,  2.97it/s]\n"
     ]
    },
    {
     "name": "stdout",
     "output_type": "stream",
     "text": [
      "sending off prediction to background worker for resampling and export\n",
      "done with 1HNA005\n",
      "\n",
      "Predicting 1HNA017:\n",
      "perform_everything_on_device: True\n",
      "(115, 383, 499) -0.745 3.555 float16\n",
      "Reconstruction: MEAN\n"
     ]
    },
    {
     "name": "stderr",
     "output_type": "stream",
     "text": [
      "100%|████████████████████████████████████████████| 4/4 [00:01<00:00,  2.85it/s]\n"
     ]
    },
    {
     "name": "stdout",
     "output_type": "stream",
     "text": [
      "sending off prediction to background worker for resampling and export\n",
      "done with 1HNA017\n",
      "\n",
      "Predicting 1HNA020:\n",
      "perform_everything_on_device: True\n",
      "(129, 357, 563) -0.753 3.627 float16\n",
      "Reconstruction: MEAN\n"
     ]
    },
    {
     "name": "stderr",
     "output_type": "stream",
     "text": [
      "100%|████████████████████████████████████████████| 6/6 [00:02<00:00,  2.82it/s]\n"
     ]
    },
    {
     "name": "stdout",
     "output_type": "stream",
     "text": [
      "sending off prediction to background worker for resampling and export\n",
      "done with 1HNA020\n",
      "\n",
      "Predicting 1HNA052:\n",
      "perform_everything_on_device: True\n",
      "(128, 381, 593) -0.7925 3.549 float16\n",
      "Reconstruction: MEAN\n"
     ]
    },
    {
     "name": "stderr",
     "output_type": "stream",
     "text": [
      "100%|████████████████████████████████████████████| 8/8 [00:02<00:00,  2.82it/s]\n"
     ]
    },
    {
     "name": "stdout",
     "output_type": "stream",
     "text": [
      "sending off prediction to background worker for resampling and export\n",
      "done with 1HNA052\n",
      "\n",
      "Predicting 1HNA054:\n",
      "perform_everything_on_device: True\n",
      "(132, 388, 543) -0.8545 3.559 float16\n",
      "Reconstruction: MEAN\n"
     ]
    },
    {
     "name": "stderr",
     "output_type": "stream",
     "text": [
      "100%|████████████████████████████████████████████| 4/4 [00:01<00:00,  3.29it/s]\n"
     ]
    },
    {
     "name": "stdout",
     "output_type": "stream",
     "text": [
      "sending off prediction to background worker for resampling and export\n",
      "done with 1HNA054\n",
      "\n",
      "Predicting 1HNA062:\n",
      "perform_everything_on_device: True\n",
      "(115, 334, 480) -0.763 3.498 float16\n",
      "Reconstruction: MEAN\n"
     ]
    },
    {
     "name": "stderr",
     "output_type": "stream",
     "text": [
      "100%|████████████████████████████████████████████| 4/4 [00:01<00:00,  2.85it/s]\n"
     ]
    },
    {
     "name": "stdout",
     "output_type": "stream",
     "text": [
      "sending off prediction to background worker for resampling and export\n",
      "done with 1HNA062\n",
      "\n",
      "Predicting 1HNA063:\n",
      "perform_everything_on_device: True\n",
      "(121, 348, 521) -0.7104 3.582 float16\n",
      "Reconstruction: MEAN\n"
     ]
    },
    {
     "name": "stderr",
     "output_type": "stream",
     "text": [
      "100%|████████████████████████████████████████████| 2/2 [00:00<00:00,  3.85it/s]\n"
     ]
    },
    {
     "name": "stdout",
     "output_type": "stream",
     "text": [
      "sending off prediction to background worker for resampling and export\n",
      "done with 1HNA063\n",
      "\n",
      "Predicting 1HNA070:\n",
      "perform_everything_on_device: True\n",
      "(112, 346, 499) -0.7427 3.629 float16\n",
      "Reconstruction: MEAN\n"
     ]
    },
    {
     "name": "stderr",
     "output_type": "stream",
     "text": [
      "100%|████████████████████████████████████████████| 4/4 [00:01<00:00,  2.74it/s]\n"
     ]
    },
    {
     "name": "stdout",
     "output_type": "stream",
     "text": [
      "sending off prediction to background worker for resampling and export\n",
      "done with 1HNA070\n",
      "\n",
      "Predicting 1HNA073:\n",
      "perform_everything_on_device: True\n",
      "(115, 353, 499) -0.7173 3.52 float16\n",
      "Reconstruction: MEAN\n"
     ]
    },
    {
     "name": "stderr",
     "output_type": "stream",
     "text": [
      "100%|██████████████████████████████████████████| 12/12 [00:04<00:00,  2.96it/s]\n"
     ]
    },
    {
     "name": "stdout",
     "output_type": "stream",
     "text": [
      "sending off prediction to background worker for resampling and export\n",
      "done with 1HNA073\n",
      "\n",
      "Predicting 1HNA078:\n",
      "perform_everything_on_device: True\n",
      "(141, 389, 597) -0.8594 3.623 float16\n",
      "Reconstruction: MEAN\n"
     ]
    },
    {
     "name": "stderr",
     "output_type": "stream",
     "text": [
      "100%|████████████████████████████████████████████| 4/4 [00:01<00:00,  2.85it/s]\n"
     ]
    },
    {
     "name": "stdout",
     "output_type": "stream",
     "text": [
      "sending off prediction to background worker for resampling and export\n",
      "done with 1HNA078\n",
      "\n",
      "Predicting 1HNA081:\n",
      "perform_everything_on_device: True\n",
      "(134, 383, 541) -0.743 3.555 float16\n",
      "Reconstruction: MEAN\n"
     ]
    },
    {
     "name": "stderr",
     "output_type": "stream",
     "text": [
      "100%|████████████████████████████████████████████| 4/4 [00:01<00:00,  3.88it/s]\n"
     ]
    },
    {
     "name": "stdout",
     "output_type": "stream",
     "text": [
      "sending off prediction to background worker for resampling and export\n",
      "done with 1HNA081\n",
      "\n",
      "Predicting 1HNA092:\n",
      "perform_everything_on_device: True\n",
      "(125, 372, 552) -0.7383 3.576 float16\n",
      "Reconstruction: MEAN\n"
     ]
    },
    {
     "name": "stderr",
     "output_type": "stream",
     "text": [
      "100%|████████████████████████████████████████████| 4/4 [00:01<00:00,  3.71it/s]\n"
     ]
    },
    {
     "name": "stdout",
     "output_type": "stream",
     "text": [
      "sending off prediction to background worker for resampling and export\n",
      "done with 1HNA092\n",
      "\n",
      "Predicting 1HNA094:\n",
      "perform_everything_on_device: True\n",
      "(131, 342, 526) -0.926 3.516 float16\n",
      "Reconstruction: MEAN\n"
     ]
    },
    {
     "name": "stderr",
     "output_type": "stream",
     "text": [
      "100%|████████████████████████████████████████████| 4/4 [00:01<00:00,  2.89it/s]\n"
     ]
    },
    {
     "name": "stdout",
     "output_type": "stream",
     "text": [
      "sending off prediction to background worker for resampling and export\n",
      "done with 1HNA094\n",
      "\n",
      "Predicting 1HNC015:\n",
      "perform_everything_on_device: True\n",
      "(127, 374, 537) -0.722 3.494 float16\n",
      "Reconstruction: MEAN\n"
     ]
    },
    {
     "name": "stderr",
     "output_type": "stream",
     "text": [
      "100%|████████████████████████████████████████████| 1/1 [00:00<00:00,  3.00it/s]\n"
     ]
    },
    {
     "name": "stdout",
     "output_type": "stream",
     "text": [
      "sending off prediction to background worker for resampling and export\n",
      "done with 1HNC015\n",
      "\n",
      "Predicting 1HNC048:\n",
      "perform_everything_on_device: True\n",
      "(42, 246, 242) -0.85 3.59 float16\n",
      "Reconstruction: MEAN\n"
     ]
    },
    {
     "name": "stderr",
     "output_type": "stream",
     "text": [
      "100%|████████████████████████████████████████████| 1/1 [00:00<00:00,  2.91it/s]\n"
     ]
    },
    {
     "name": "stdout",
     "output_type": "stream",
     "text": [
      "sending off prediction to background worker for resampling and export\n",
      "done with 1HNC048\n",
      "\n",
      "Predicting 1HNC052:\n",
      "perform_everything_on_device: True\n",
      "(77, 314, 298) -0.752 3.566 float16\n",
      "Reconstruction: MEAN\n"
     ]
    },
    {
     "name": "stderr",
     "output_type": "stream",
     "text": [
      "100%|████████████████████████████████████████████| 1/1 [00:00<00:00,  2.87it/s]\n"
     ]
    },
    {
     "name": "stdout",
     "output_type": "stream",
     "text": [
      "sending off prediction to background worker for resampling and export\n",
      "done with 1HNC052\n",
      "\n",
      "Predicting 1HNC055:\n",
      "perform_everything_on_device: True\n",
      "(63, 264, 249) -0.7446 3.66 float16\n",
      "Reconstruction: MEAN\n"
     ]
    },
    {
     "name": "stderr",
     "output_type": "stream",
     "text": [
      "100%|████████████████████████████████████████████| 1/1 [00:00<00:00,  2.75it/s]\n"
     ]
    },
    {
     "name": "stdout",
     "output_type": "stream",
     "text": [
      "sending off prediction to background worker for resampling and export\n",
      "done with 1HNC055\n",
      "\n",
      "Predicting 1HNC063:\n",
      "perform_everything_on_device: True\n",
      "(59, 284, 284) -0.7544 3.502 float16\n",
      "Reconstruction: MEAN\n"
     ]
    },
    {
     "name": "stderr",
     "output_type": "stream",
     "text": [
      "100%|████████████████████████████████████████████| 1/1 [00:00<00:00,  2.88it/s]\n"
     ]
    },
    {
     "name": "stdout",
     "output_type": "stream",
     "text": [
      "sending off prediction to background worker for resampling and export\n",
      "done with 1HNC063\n",
      "\n",
      "Predicting 1HNC064:\n",
      "perform_everything_on_device: True\n",
      "(53, 258, 260) -0.7993 3.525 float16\n",
      "Reconstruction: MEAN\n"
     ]
    },
    {
     "name": "stderr",
     "output_type": "stream",
     "text": [
      "100%|████████████████████████████████████████████| 1/1 [00:00<00:00,  2.90it/s]\n"
     ]
    },
    {
     "name": "stdout",
     "output_type": "stream",
     "text": [
      "sending off prediction to background worker for resampling and export\n",
      "done with 1HNC064\n",
      "\n",
      "Predicting 1HNC093:\n",
      "perform_everything_on_device: True\n",
      "(51, 239, 238) -0.8276 3.617 float16\n",
      "Reconstruction: MEAN\n"
     ]
    },
    {
     "name": "stderr",
     "output_type": "stream",
     "text": [
      "100%|████████████████████████████████████████████| 1/1 [00:00<00:00,  2.79it/s]\n"
     ]
    },
    {
     "name": "stdout",
     "output_type": "stream",
     "text": [
      "sending off prediction to background worker for resampling and export\n",
      "done with 1HNC093\n",
      "\n",
      "Predicting 1HNC100:\n",
      "perform_everything_on_device: True\n",
      "(55, 263, 259) -0.7495 3.586 float16\n",
      "Reconstruction: MEAN\n"
     ]
    },
    {
     "name": "stderr",
     "output_type": "stream",
     "text": [
      "100%|████████████████████████████████████████████| 1/1 [00:00<00:00,  2.88it/s]\n"
     ]
    },
    {
     "name": "stdout",
     "output_type": "stream",
     "text": [
      "sending off prediction to background worker for resampling and export\n",
      "done with 1HNC100\n",
      "\n",
      "Predicting 1HNC126:\n",
      "perform_everything_on_device: True\n",
      "(50, 258, 261) -0.8037 3.625 float16\n",
      "Reconstruction: MEAN\n"
     ]
    },
    {
     "name": "stderr",
     "output_type": "stream",
     "text": [
      "100%|████████████████████████████████████████████| 1/1 [00:00<00:00,  4.22it/s]\n"
     ]
    },
    {
     "name": "stdout",
     "output_type": "stream",
     "text": [
      "sending off prediction to background worker for resampling and export\n",
      "done with 1HNC126\n",
      "\n",
      "Predicting 1HNC129:\n",
      "perform_everything_on_device: True\n",
      "(59, 285, 282) -0.7593 3.555 float16\n",
      "Reconstruction: MEAN\n"
     ]
    },
    {
     "name": "stderr",
     "output_type": "stream",
     "text": [
      "100%|████████████████████████████████████████████| 1/1 [00:00<00:00,  2.77it/s]\n"
     ]
    },
    {
     "name": "stdout",
     "output_type": "stream",
     "text": [
      "sending off prediction to background worker for resampling and export\n",
      "done with 1HNC129\n",
      "\n",
      "Predicting 1HND002:\n",
      "perform_everything_on_device: True\n",
      "(55, 243, 243) -0.753 3.596 float16\n",
      "Reconstruction: MEAN\n"
     ]
    },
    {
     "name": "stderr",
     "output_type": "stream",
     "text": [
      "100%|████████████████████████████████████████████| 1/1 [00:00<00:00,  3.31it/s]\n"
     ]
    },
    {
     "name": "stdout",
     "output_type": "stream",
     "text": [
      "sending off prediction to background worker for resampling and export\n",
      "done with 1HND002\n",
      "\n",
      "Predicting 1HND010:\n",
      "perform_everything_on_device: True\n",
      "(94, 277, 287) -0.7583 3.645 float16\n",
      "Reconstruction: MEAN\n"
     ]
    },
    {
     "name": "stderr",
     "output_type": "stream",
     "text": [
      "100%|████████████████████████████████████████████| 1/1 [00:00<00:00,  2.81it/s]\n"
     ]
    },
    {
     "name": "stdout",
     "output_type": "stream",
     "text": [
      "sending off prediction to background worker for resampling and export\n",
      "done with 1HND010\n",
      "\n",
      "Predicting 1HND011:\n",
      "perform_everything_on_device: True\n",
      "(89, 269, 280) -0.9087 3.676 float16\n",
      "Reconstruction: MEAN\n"
     ]
    },
    {
     "name": "stderr",
     "output_type": "stream",
     "text": [
      "100%|████████████████████████████████████████████| 1/1 [00:00<00:00,  2.80it/s]\n"
     ]
    },
    {
     "name": "stdout",
     "output_type": "stream",
     "text": [
      "sending off prediction to background worker for resampling and export\n",
      "done with 1HND011\n",
      "\n",
      "Predicting 1HND024:\n",
      "perform_everything_on_device: True\n",
      "(97, 281, 272) -0.763 3.523 float16\n",
      "Reconstruction: MEAN\n"
     ]
    },
    {
     "name": "stderr",
     "output_type": "stream",
     "text": [
      "100%|████████████████████████████████████████████| 1/1 [00:00<00:00,  2.79it/s]\n"
     ]
    },
    {
     "name": "stdout",
     "output_type": "stream",
     "text": [
      "sending off prediction to background worker for resampling and export\n",
      "done with 1HND024\n",
      "\n",
      "Predicting 1HND033:\n",
      "perform_everything_on_device: True\n",
      "(89, 272, 279) -0.7593 3.566 float16\n",
      "Reconstruction: MEAN\n"
     ]
    },
    {
     "name": "stderr",
     "output_type": "stream",
     "text": [
      "100%|████████████████████████████████████████████| 1/1 [00:00<00:00,  2.86it/s]\n"
     ]
    },
    {
     "name": "stdout",
     "output_type": "stream",
     "text": [
      "sending off prediction to background worker for resampling and export\n",
      "done with 1HND033\n",
      "\n",
      "Predicting 1HND041:\n",
      "perform_everything_on_device: True\n",
      "(88, 268, 280) -0.7803 3.605 float16\n",
      "Reconstruction: MEAN\n"
     ]
    },
    {
     "name": "stderr",
     "output_type": "stream",
     "text": [
      "100%|████████████████████████████████████████████| 1/1 [00:00<00:00,  3.41it/s]\n"
     ]
    },
    {
     "name": "stdout",
     "output_type": "stream",
     "text": [
      "sending off prediction to background worker for resampling and export\n",
      "done with 1HND041\n",
      "\n",
      "Predicting 1HND048:\n",
      "perform_everything_on_device: True\n",
      "(91, 272, 282) -0.7817 3.625 float16\n",
      "Reconstruction: MEAN\n"
     ]
    },
    {
     "name": "stderr",
     "output_type": "stream",
     "text": [
      "100%|████████████████████████████████████████████| 1/1 [00:00<00:00,  2.77it/s]\n"
     ]
    },
    {
     "name": "stdout",
     "output_type": "stream",
     "text": [
      "sending off prediction to background worker for resampling and export\n",
      "done with 1HND048\n",
      "\n",
      "Predicting 1HND066:\n",
      "perform_everything_on_device: True\n",
      "(90, 274, 279) -0.771 3.707 float16\n",
      "Reconstruction: MEAN\n"
     ]
    },
    {
     "name": "stderr",
     "output_type": "stream",
     "text": [
      "100%|████████████████████████████████████████████| 1/1 [00:00<00:00,  2.97it/s]\n"
     ]
    },
    {
     "name": "stdout",
     "output_type": "stream",
     "text": [
      "sending off prediction to background worker for resampling and export\n",
      "done with 1HND066\n",
      "\n",
      "Predicting 1HND085:\n",
      "perform_everything_on_device: True\n",
      "(98, 273, 282) -0.968 3.545 float16\n",
      "Reconstruction: MEAN\n"
     ]
    },
    {
     "name": "stderr",
     "output_type": "stream",
     "text": [
      "100%|████████████████████████████████████████████| 1/1 [00:00<00:00,  2.94it/s]\n"
     ]
    },
    {
     "name": "stdout",
     "output_type": "stream",
     "text": [
      "sending off prediction to background worker for resampling and export\n",
      "done with 1HND085\n",
      "\n",
      "Predicting 1HND091:\n",
      "perform_everything_on_device: True\n",
      "(88, 271, 279) -0.7446 3.598 float16\n",
      "Reconstruction: MEAN\n"
     ]
    },
    {
     "name": "stderr",
     "output_type": "stream",
     "text": [
      "100%|████████████████████████████████████████████| 1/1 [00:00<00:00,  2.86it/s]\n"
     ]
    },
    {
     "name": "stdout",
     "output_type": "stream",
     "text": [
      "sending off prediction to background worker for resampling and export\n",
      "done with 1HND091\n",
      "\n",
      "Predicting 1THA007:\n",
      "perform_everything_on_device: True\n",
      "(88, 268, 276) -1.065 3.613 float16\n",
      "Reconstruction: MEAN\n"
     ]
    },
    {
     "name": "stderr",
     "output_type": "stream",
     "text": [
      "100%|████████████████████████████████████████████| 2/2 [00:00<00:00,  2.85it/s]\n"
     ]
    },
    {
     "name": "stdout",
     "output_type": "stream",
     "text": [
      "sending off prediction to background worker for resampling and export\n",
      "done with 1THA007\n",
      "\n",
      "Predicting 1THA008:\n",
      "perform_everything_on_device: True\n",
      "(97, 342, 452) -0.7812 3.543 float16\n",
      "Reconstruction: MEAN\n"
     ]
    },
    {
     "name": "stderr",
     "output_type": "stream",
     "text": [
      "100%|████████████████████████████████████████████| 2/2 [00:00<00:00,  2.89it/s]\n"
     ]
    },
    {
     "name": "stdout",
     "output_type": "stream",
     "text": [
      "sending off prediction to background worker for resampling and export\n",
      "done with 1THA008\n",
      "\n",
      "Predicting 1THA014:\n",
      "perform_everything_on_device: True\n",
      "(97, 363, 468) -0.7744 3.59 float16\n",
      "Reconstruction: MEAN\n"
     ]
    },
    {
     "name": "stderr",
     "output_type": "stream",
     "text": [
      "100%|████████████████████████████████████████████| 2/2 [00:00<00:00,  2.87it/s]\n"
     ]
    },
    {
     "name": "stdout",
     "output_type": "stream",
     "text": [
      "sending off prediction to background worker for resampling and export\n",
      "done with 1THA014\n",
      "\n",
      "Predicting 1THA023:\n",
      "perform_everything_on_device: True\n",
      "(99, 365, 509) -0.7676 3.693 float16\n",
      "Reconstruction: MEAN\n"
     ]
    },
    {
     "name": "stderr",
     "output_type": "stream",
     "text": [
      "100%|████████████████████████████████████████████| 2/2 [00:00<00:00,  2.93it/s]\n"
     ]
    },
    {
     "name": "stdout",
     "output_type": "stream",
     "text": [
      "sending off prediction to background worker for resampling and export\n",
      "done with 1THA023\n",
      "\n",
      "Predicting 1THA025:\n",
      "perform_everything_on_device: True\n",
      "(98, 364, 534) -0.7515 3.531 float16\n",
      "Reconstruction: MEAN\n"
     ]
    },
    {
     "name": "stderr",
     "output_type": "stream",
     "text": [
      "100%|████████████████████████████████████████████| 2/2 [00:00<00:00,  3.02it/s]\n"
     ]
    },
    {
     "name": "stdout",
     "output_type": "stream",
     "text": [
      "sending off prediction to background worker for resampling and export\n",
      "done with 1THA025\n",
      "\n",
      "Predicting 1THA036:\n",
      "perform_everything_on_device: True\n",
      "(100, 356, 498) -0.7827 3.84 float16\n",
      "Reconstruction: MEAN\n"
     ]
    },
    {
     "name": "stderr",
     "output_type": "stream",
     "text": [
      "100%|████████████████████████████████████████████| 4/4 [00:01<00:00,  2.83it/s]\n"
     ]
    },
    {
     "name": "stdout",
     "output_type": "stream",
     "text": [
      "sending off prediction to background worker for resampling and export\n",
      "done with 1THA036\n",
      "\n",
      "Predicting 1THA053:\n",
      "perform_everything_on_device: True\n",
      "(104, 398, 559) -0.6484 3.627 float16\n",
      "Reconstruction: MEAN\n"
     ]
    },
    {
     "name": "stderr",
     "output_type": "stream",
     "text": [
      "100%|████████████████████████████████████████████| 4/4 [00:01<00:00,  3.07it/s]\n"
     ]
    },
    {
     "name": "stdout",
     "output_type": "stream",
     "text": [
      "sending off prediction to background worker for resampling and export\n",
      "done with 1THA053\n",
      "\n",
      "Predicting 1THA202:\n",
      "perform_everything_on_device: True\n",
      "(101, 396, 546) -0.851 3.492 float16\n",
      "Reconstruction: MEAN\n"
     ]
    },
    {
     "name": "stderr",
     "output_type": "stream",
     "text": [
      "100%|████████████████████████████████████████████| 4/4 [00:01<00:00,  2.85it/s]\n"
     ]
    },
    {
     "name": "stdout",
     "output_type": "stream",
     "text": [
      "sending off prediction to background worker for resampling and export\n",
      "done with 1THA202\n",
      "\n",
      "Predicting 1THA204:\n",
      "perform_everything_on_device: True\n",
      "(87, 474, 471) -0.7676 3.434 float16\n",
      "Reconstruction: MEAN\n"
     ]
    },
    {
     "name": "stderr",
     "output_type": "stream",
     "text": [
      "100%|████████████████████████████████████████████| 4/4 [00:00<00:00,  4.64it/s]\n"
     ]
    },
    {
     "name": "stdout",
     "output_type": "stream",
     "text": [
      "sending off prediction to background worker for resampling and export\n",
      "done with 1THA204\n",
      "\n",
      "Predicting 1THA215:\n",
      "perform_everything_on_device: True\n",
      "(98, 472, 476) -0.872 3.527 float16\n",
      "Reconstruction: MEAN\n"
     ]
    },
    {
     "name": "stderr",
     "output_type": "stream",
     "text": [
      "100%|████████████████████████████████████████████| 4/4 [00:01<00:00,  2.89it/s]\n"
     ]
    },
    {
     "name": "stdout",
     "output_type": "stream",
     "text": [
      "sending off prediction to background worker for resampling and export\n",
      "done with 1THA215\n",
      "\n",
      "Predicting 1THA216:\n",
      "perform_everything_on_device: True\n",
      "(73, 478, 492) -0.8076 3.715 float16\n",
      "Reconstruction: MEAN\n"
     ]
    },
    {
     "name": "stderr",
     "output_type": "stream",
     "text": [
      "100%|████████████████████████████████████████████| 4/4 [00:01<00:00,  2.86it/s]\n"
     ]
    },
    {
     "name": "stdout",
     "output_type": "stream",
     "text": [
      "sending off prediction to background worker for resampling and export\n",
      "done with 1THA216\n",
      "\n",
      "Predicting 1THA219:\n",
      "perform_everything_on_device: True\n",
      "(55, 489, 493) -0.838 3.729 float16\n",
      "Reconstruction: MEAN\n"
     ]
    },
    {
     "name": "stderr",
     "output_type": "stream",
     "text": [
      "100%|████████████████████████████████████████████| 4/4 [00:01<00:00,  2.78it/s]\n"
     ]
    },
    {
     "name": "stdout",
     "output_type": "stream",
     "text": [
      "sending off prediction to background worker for resampling and export\n",
      "done with 1THA219\n",
      "\n",
      "Predicting 1THA222:\n",
      "perform_everything_on_device: True\n",
      "(84, 469, 464) -0.6465 3.611 float16\n",
      "Reconstruction: MEAN\n"
     ]
    },
    {
     "name": "stderr",
     "output_type": "stream",
     "text": [
      "100%|████████████████████████████████████████████| 4/4 [00:01<00:00,  2.87it/s]\n"
     ]
    },
    {
     "name": "stdout",
     "output_type": "stream",
     "text": [
      "sending off prediction to background worker for resampling and export\n",
      "done with 1THA222\n",
      "\n",
      "Predicting 1THA226:\n",
      "perform_everything_on_device: True\n",
      "(102, 466, 473) -0.8926 3.61 float16\n",
      "Reconstruction: MEAN\n"
     ]
    },
    {
     "name": "stderr",
     "output_type": "stream",
     "text": [
      "100%|████████████████████████████████████████████| 4/4 [00:01<00:00,  3.13it/s]\n"
     ]
    },
    {
     "name": "stdout",
     "output_type": "stream",
     "text": [
      "sending off prediction to background worker for resampling and export\n",
      "done with 1THA226\n",
      "\n",
      "Predicting 1THB012:\n",
      "perform_everything_on_device: True\n",
      "(103, 467, 477) -0.7764 3.555 float16\n",
      "Reconstruction: MEAN\n"
     ]
    },
    {
     "name": "stderr",
     "output_type": "stream",
     "text": [
      "100%|████████████████████████████████████████████| 8/8 [00:02<00:00,  2.87it/s]\n"
     ]
    },
    {
     "name": "stdout",
     "output_type": "stream",
     "text": [
      "sending off prediction to background worker for resampling and export\n",
      "done with 1THB012\n",
      "\n",
      "Predicting 1THB014:\n",
      "perform_everything_on_device: True\n",
      "(115, 523, 553) -0.7344 3.664 float16\n",
      "Reconstruction: MEAN\n"
     ]
    },
    {
     "name": "stderr",
     "output_type": "stream",
     "text": [
      "100%|████████████████████████████████████████████| 4/4 [00:01<00:00,  2.94it/s]\n"
     ]
    },
    {
     "name": "stdout",
     "output_type": "stream",
     "text": [
      "sending off prediction to background worker for resampling and export\n",
      "done with 1THB014\n",
      "\n",
      "Predicting 1THB018:\n",
      "perform_everything_on_device: True\n",
      "(102, 513, 546) -0.6963 3.451 float16\n",
      "Reconstruction: MEAN\n"
     ]
    },
    {
     "name": "stderr",
     "output_type": "stream",
     "text": [
      "100%|████████████████████████████████████████████| 8/8 [00:02<00:00,  2.99it/s]\n"
     ]
    },
    {
     "name": "stdout",
     "output_type": "stream",
     "text": [
      "sending off prediction to background worker for resampling and export\n",
      "done with 1THB018\n",
      "\n",
      "Predicting 1THB025:\n",
      "perform_everything_on_device: True\n",
      "(128, 491, 540) -0.883 3.814 float16\n",
      "Reconstruction: MEAN\n"
     ]
    },
    {
     "name": "stderr",
     "output_type": "stream",
     "text": [
      "100%|████████████████████████████████████████████| 8/8 [00:02<00:00,  2.85it/s]\n"
     ]
    },
    {
     "name": "stdout",
     "output_type": "stream",
     "text": [
      "sending off prediction to background worker for resampling and export\n",
      "done with 1THB025\n",
      "\n",
      "Predicting 1THB032:\n",
      "perform_everything_on_device: True\n",
      "(160, 523, 576) -0.75 3.754 float16\n",
      "Reconstruction: MEAN\n"
     ]
    },
    {
     "name": "stderr",
     "output_type": "stream",
     "text": [
      "100%|████████████████████████████████████████████| 8/8 [00:02<00:00,  2.99it/s]\n"
     ]
    },
    {
     "name": "stdout",
     "output_type": "stream",
     "text": [
      "sending off prediction to background worker for resampling and export\n",
      "done with 1THB032\n",
      "\n",
      "Predicting 1THB036:\n",
      "perform_everything_on_device: True\n",
      "(126, 511, 549) -0.7993 3.752 float16\n",
      "Reconstruction: MEAN\n"
     ]
    },
    {
     "name": "stderr",
     "output_type": "stream",
     "text": [
      "100%|████████████████████████████████████████████| 8/8 [00:02<00:00,  3.04it/s]\n"
     ]
    },
    {
     "name": "stdout",
     "output_type": "stream",
     "text": [
      "sending off prediction to background worker for resampling and export\n",
      "done with 1THB036\n",
      "\n",
      "Predicting 1THB075:\n",
      "perform_everything_on_device: True\n",
      "(122, 520, 548) -0.6816 3.67 float16\n",
      "Reconstruction: MEAN\n"
     ]
    },
    {
     "name": "stderr",
     "output_type": "stream",
     "text": [
      "100%|████████████████████████████████████████████| 8/8 [00:02<00:00,  2.87it/s]\n"
     ]
    },
    {
     "name": "stdout",
     "output_type": "stream",
     "text": [
      "sending off prediction to background worker for resampling and export\n",
      "done with 1THB075\n",
      "\n",
      "Predicting 1THB125:\n",
      "perform_everything_on_device: True\n",
      "(131, 508, 548) -0.751 3.713 float16\n",
      "Reconstruction: MEAN\n"
     ]
    },
    {
     "name": "stderr",
     "output_type": "stream",
     "text": [
      "100%|████████████████████████████████████████████| 8/8 [00:02<00:00,  3.00it/s]\n"
     ]
    },
    {
     "name": "stdout",
     "output_type": "stream",
     "text": [
      "sending off prediction to background worker for resampling and export\n",
      "done with 1THB125\n",
      "\n",
      "Predicting 1THB142:\n",
      "perform_everything_on_device: True\n",
      "(133, 482, 498) -0.707 3.66 float16\n",
      "Reconstruction: MEAN\n"
     ]
    },
    {
     "name": "stderr",
     "output_type": "stream",
     "text": [
      "100%|████████████████████████████████████████████| 8/8 [00:02<00:00,  2.98it/s]\n"
     ]
    },
    {
     "name": "stdout",
     "output_type": "stream",
     "text": [
      "sending off prediction to background worker for resampling and export\n",
      "done with 1THB142\n",
      "\n",
      "Predicting 1THB155:\n",
      "perform_everything_on_device: True\n",
      "(130, 516, 545) -0.783 3.48 float16\n",
      "Reconstruction: MEAN\n"
     ]
    },
    {
     "name": "stderr",
     "output_type": "stream",
     "text": [
      "100%|████████████████████████████████████████████| 8/8 [00:02<00:00,  2.85it/s]\n"
     ]
    },
    {
     "name": "stdout",
     "output_type": "stream",
     "text": [
      "sending off prediction to background worker for resampling and export\n",
      "done with 1THB155\n",
      "\n",
      "Predicting 1THB186:\n",
      "perform_everything_on_device: True\n",
      "(132, 440, 440) -0.7007 3.695 float16\n",
      "Reconstruction: MEAN\n"
     ]
    },
    {
     "name": "stderr",
     "output_type": "stream",
     "text": [
      "100%|████████████████████████████████████████████| 8/8 [00:02<00:00,  2.96it/s]\n"
     ]
    },
    {
     "name": "stdout",
     "output_type": "stream",
     "text": [
      "sending off prediction to background worker for resampling and export\n",
      "done with 1THB186\n",
      "\n",
      "Predicting 1THB204:\n",
      "perform_everything_on_device: True\n",
      "(123, 514, 546) -1.076 3.488 float16\n",
      "Reconstruction: MEAN\n"
     ]
    },
    {
     "name": "stderr",
     "output_type": "stream",
     "text": [
      "100%|██████████████████████████████████████████| 12/12 [00:04<00:00,  2.94it/s]\n"
     ]
    },
    {
     "name": "stdout",
     "output_type": "stream",
     "text": [
      "sending off prediction to background worker for resampling and export\n",
      "done with 1THB204\n",
      "\n",
      "Predicting 1THB209:\n",
      "perform_everything_on_device: True\n",
      "(146, 511, 589) -0.9087 3.688 float16\n",
      "Reconstruction: MEAN\n"
     ]
    },
    {
     "name": "stderr",
     "output_type": "stream",
     "text": [
      "100%|████████████████████████████████████████████| 8/8 [00:02<00:00,  2.86it/s]\n"
     ]
    },
    {
     "name": "stdout",
     "output_type": "stream",
     "text": [
      "sending off prediction to background worker for resampling and export\n",
      "done with 1THB209\n",
      "\n",
      "Predicting 1THB219:\n",
      "perform_everything_on_device: True\n",
      "(120, 500, 553) -0.7705 3.588 float16\n",
      "Reconstruction: MEAN\n"
     ]
    },
    {
     "name": "stderr",
     "output_type": "stream",
     "text": [
      "100%|████████████████████████████████████████████| 8/8 [00:02<00:00,  3.56it/s]\n"
     ]
    },
    {
     "name": "stdout",
     "output_type": "stream",
     "text": [
      "sending off prediction to background worker for resampling and export\n",
      "done with 1THB219\n",
      "(130, 490, 548) -0.717 3.74 float16\n"
     ]
    },
    {
     "data": {
      "text/plain": [
       "0"
      ]
     },
     "execution_count": 12,
     "metadata": {},
     "output_type": "execute_result"
    }
   ],
   "source": [
    "os.system(f\"nnUNetv2_predict -d {dataset_id} -i {input_dir} -o {output_dir} -c 3d_fullres -p {dataset_plan} -tr nnUNetTrainerMRCT -f {fold}\")"
   ]
  },
  {
   "cell_type": "code",
   "execution_count": 13,
   "id": "42f4e741",
   "metadata": {},
   "outputs": [
    {
     "name": "stdout",
     "output_type": "stream",
     "text": [
      "CT mean: -726.3590698242188, CT std: 444.69049072265625\n"
     ]
    },
    {
     "name": "stderr",
     "output_type": "stream",
     "text": [
      "100%|██████████| 89/89 [00:46<00:00,  1.93it/s]\n"
     ]
    }
   ],
   "source": [
    "\n",
    "ct_plan_path = f\"/datasets/work/hb-synthrad2023/work/synthrad2025/bw_workplace/data/nnunet_struct/preprocessed/Dataset{config['dataset_id'] + 1}_{config['dataset_target_name']}/{dataset_plan}.json\"\n",
    "ct_mean, ct_std = get_ct_normalisation_values(ct_plan_path)\n",
    "revert_normalisation(output_dir, ct_mean, ct_std, save_path=output_dir + \"_revert_norm\")\n",
    "if os.path.exists(output_dir):\n",
    "    shutil.move(output_dir, output_dir + \"_revert_norm/backup_normalised\")\n"
   ]
  },
  {
   "cell_type": "markdown",
   "id": "368acad1",
   "metadata": {},
   "source": [
    "# final archive and submission"
   ]
  },
  {
   "cell_type": "code",
   "execution_count": 14,
   "id": "32728016",
   "metadata": {},
   "outputs": [
    {
     "data": {
      "text/plain": [
       "'/datasets/work/hb-synthrad2023/work/synthrad2025/bw_workplace/data/nnunet_struct/submission/task1_20250718_all_data_resXL/Folder.zip'"
      ]
     },
     "execution_count": 14,
     "metadata": {},
     "output_type": "execute_result"
    }
   ],
   "source": [
    "save_path = os.path.join(submission_path, submission_name, 'Folder')\n",
    "os.makedirs(save_path, exist_ok=True)\n",
    "\n",
    "for file in glob.glob(os.path.join(submission_path, submission_name, \"*_revert_norm\", \"*.mha\")):\n",
    "    new_file = os.path.join(save_path, \"sct_\" + os.path.basename(file))\n",
    "    shutil.copyfile(file, new_file)\n",
    "# zip folder\n",
    "shutil.make_archive(save_path, 'zip', save_path)"
   ]
  },
  {
   "cell_type": "code",
   "execution_count": 15,
   "id": "0b3d8917",
   "metadata": {},
   "outputs": [
    {
     "name": "stdout",
     "output_type": "stream",
     "text": [
      "Copying the line below to the local machine to download the zip file:\n",
      "rsync -avz xin015@virga.hpc.csiro.au:/datasets/work/hb-synthrad2023/work/synthrad2025/bw_workplace/data/nnunet_struct/submission/task1_20250718_all_data_resXL/Folder.zip ./synthrad2025_submission\n"
     ]
    }
   ],
   "source": [
    "print(\"Copying the line below to the local machine to download the zip file:\")\n",
    "print(f'rsync -avz xin015@virga.hpc.csiro.au:{save_path}.zip ./synthrad2025_submission')"
   ]
  },
  {
   "cell_type": "code",
   "execution_count": null,
   "id": "83ea1560",
   "metadata": {},
   "outputs": [],
   "source": []
  }
 ],
 "metadata": {
  "kernelspec": {
   "display_name": "Python 3",
   "language": "python",
   "name": "python3"
  },
  "language_info": {
   "codemirror_mode": {
    "name": "ipython",
    "version": 3
   },
   "file_extension": ".py",
   "mimetype": "text/x-python",
   "name": "python",
   "nbconvert_exporter": "python",
   "pygments_lexer": "ipython3",
   "version": "3.11.0"
  }
 },
 "nbformat": 4,
 "nbformat_minor": 5
}
