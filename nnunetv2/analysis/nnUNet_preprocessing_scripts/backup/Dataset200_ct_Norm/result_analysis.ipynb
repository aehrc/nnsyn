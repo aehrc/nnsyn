{
 "cells": [
  {
   "cell_type": "code",
   "execution_count": 1,
   "id": "33f37c43",
   "metadata": {},
   "outputs": [],
   "source": [
    "import sys\n",
    "import SimpleITK as sitk\n",
    "import json\n",
    "from glob import glob \n",
    "import os\n",
    "from tqdm import tqdm\n",
    "import numpy as np\n",
    "import torch\n",
    "sys.path.append(\"/datasets/work/hb-synthrad2023/work/synthrad2025/bw_workplace/src/utils\")\n",
    "from revert_normalisation import get_ct_normalisation_values, revert_normalisation\n",
    "from image_metrics import ImageMetrics,ImageMetricsCompute\n",
    "from test_analysis import result_analysis\n",
    "import pandas as pd\n",
    "\n",
    "%load_ext autoreload\n",
    "%autoreload 2"
   ]
  },
  {
   "cell_type": "code",
   "execution_count": 2,
   "id": "7c01e34d",
   "metadata": {},
   "outputs": [
    {
     "name": "stdout",
     "output_type": "stream",
     "text": [
      "CT mean: -726.3590698242188, CT std: 444.69049072265625\n"
     ]
    }
   ],
   "source": [
    "\n",
    "\n",
    "ct_plan_path = \"/datasets/work/hb-synthrad2023/work/synthrad2025/bw_workplace/data/nnunet_struct/preprocessed/Dataset201_synthrad2025_task1_CT/nnUNetPlans.json\"\n",
    "ct_mean, ct_std = get_ct_normalisation_values(ct_plan_path)\n",
    "pred_path = \"/datasets/work/hb-synthrad2023/work/synthrad2025/bw_workplace/data/nnunet_struct/results/Dataset200_synthrad2025_task1_MR/nnUNetTrainerMRCT__nnUNetPlans__3d_fullres/fold_0/validation\"\n",
    "# revert_normalisation(pred_path, ct_mean, ct_std, save_path=pred_path + \"_revert_norm\")\n"
   ]
  },
  {
   "cell_type": "code",
   "execution_count": 5,
   "id": "ef8fb5b1",
   "metadata": {},
   "outputs": [],
   "source": [
    "def result_analysis(input_path, raw_data_path):\n",
    "    \"\"\"\n",
    "    Analyze the results of the predictions.\n",
    "    \"\"\"\n",
    "    pred_paths = sorted(glob(os.path.join(input_path, '*.mha')))\n",
    "    gt_path = os.path.join(raw_data_path, \"gt_segmentations\")\n",
    "    mask_path = os.path.join(raw_data_path, \"masks\")\n",
    "    testing_metrics = ImageMetricsCompute()\n",
    "    testing_metrics.init_storage([\"mae\", \"psnr\", \"ms_ssim\"])\n",
    "\n",
    "    for pred_path in tqdm(pred_paths):\n",
    "        filename = os.path.basename(pred_path)\n",
    "        gt_file = os.path.join(gt_path, filename)\n",
    "        mask_file = os.path.join(mask_path, filename)\n",
    "\n",
    "        img_pred = sitk.ReadImage(pred_path)\n",
    "        img_gt = sitk.ReadImage(gt_file)\n",
    "        img_mask = sitk.ReadImage(mask_file, sitk.sitkUInt8)\n",
    "\n",
    "        array_pred = sitk.GetArrayFromImage(img_pred)\n",
    "        array_gt = sitk.GetArrayFromImage(img_gt)\n",
    "        array_mask = sitk.GetArrayFromImage(img_mask)\n",
    "\n",
    "        res = testing_metrics.score_patient(array_gt, array_pred, array_mask)\n",
    "        testing_metrics.add(res, filename)\n",
    "\n",
    "    # aggregate results\n",
    "    results = testing_metrics.aggregate()\n",
    "\n",
    "    df = pd.DataFrame(\n",
    "            {\n",
    "                'patient_id': testing_metrics.storage_id,\n",
    "                'mae': testing_metrics.storage['mae'],\n",
    "                'ms_ssim': testing_metrics.storage['ms_ssim'],\n",
    "                'psnr': testing_metrics.storage['psnr'],\n",
    "            }\n",
    "        )\n",
    "\n",
    "    # save results, and df in the folder \"results\"\n",
    "    results_path = os.path.join(input_path, \"results.json\")\n",
    "    df_path = os.path.join(input_path, \"results_individual.csv\")\n",
    "    if not os.path.exists(input_path):\n",
    "        os.makedirs(input_path, exist_ok=True)\n",
    "    with open(results_path, 'w') as f:\n",
    "        json.dump(results, f, indent=4)\n",
    "    df.to_csv(df_path, index=False)\n",
    "    return results, df"
   ]
  },
  {
   "cell_type": "code",
   "execution_count": 6,
   "id": "328637f4",
   "metadata": {},
   "outputs": [
    {
     "name": "stderr",
     "output_type": "stream",
     "text": [
      "  0%|          | 0/116 [00:00<?, ?it/s]"
     ]
    },
    {
     "name": "stderr",
     "output_type": "stream",
     "text": [
      "100%|██████████| 116/116 [13:28<00:00,  6.97s/it]"
     ]
    },
    {
     "name": "stdout",
     "output_type": "stream",
     "text": [
      "mean mae: 109.02722691089096\n",
      "mean psnr: 25.85192662986661\n",
      "mean ms_ssim: 0.8442905581596798\n"
     ]
    },
    {
     "name": "stderr",
     "output_type": "stream",
     "text": [
      "\n"
     ]
    }
   ],
   "source": [
    "pred_path_revert_norm = pred_path + \"_revert_norm\"\n",
    "raw_data_path = f\"/datasets/work/hb-synthrad2023/work/synthrad2025/bw_workplace/data/nnunet_struct/preprocessed/Dataset200_synthrad2025_task1_MR\"\n",
    "results, df = result_analysis(pred_path_revert_norm, raw_data_path)\n",
    "print(\"mean mae:\", results['mae']['mean'])\n",
    "print(\"mean psnr:\", results['psnr']['mean'])\n",
    "print(\"mean ms_ssim:\", results['ms_ssim']['mean'])\n"
   ]
  },
  {
   "cell_type": "code",
   "execution_count": null,
   "id": "16323901",
   "metadata": {},
   "outputs": [],
   "source": [
    "# save results, and df in the folder \"results\"\n",
    "results_path = os.path.join(pred_path_revert_norm, \"results.json\")\n",
    "df_path = os.path.join(pred_path_revert_norm, \"results_df.csv\")\n",
    "os.makedirs(os.path.dirname(results_path), exist_ok=True)\n",
    "with open(results_path, 'w') as f:\n",
    "    json.dump(results, f, indent=4)\n",
    "df.to_csv(df_path, index=False)"
   ]
  }
 ],
 "metadata": {
  "kernelspec": {
   "display_name": "Python 3",
   "language": "python",
   "name": "python3"
  },
  "language_info": {
   "codemirror_mode": {
    "name": "ipython",
    "version": 3
   },
   "file_extension": ".py",
   "mimetype": "text/x-python",
   "name": "python",
   "nbconvert_exporter": "python",
   "pygments_lexer": "ipython3",
   "version": "3.11.0"
  }
 },
 "nbformat": 4,
 "nbformat_minor": 5
}
