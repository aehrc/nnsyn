{
 "cells": [
  {
   "cell_type": "code",
   "execution_count": 1,
   "id": "33f37c43",
   "metadata": {},
   "outputs": [],
   "source": [
    "import sys\n",
    "import SimpleITK as sitk\n",
    "import json\n",
    "import glob\n",
    "import os\n",
    "from tqdm import tqdm\n",
    "import numpy as np\n",
    "import torch\n",
    "import shutil\n",
    "sys.path.append(\"/datasets/work/hb-synthrad2023/work/synthrad2025/bw_workplace/src/utils\")\n",
    "from revert_normalisation import get_ct_normalisation_values, revert_normalisation\n",
    "from image_metrics import ImageMetrics, ImageMetricsCompute\n",
    "import pandas as pd"
   ]
  },
  {
   "cell_type": "code",
   "execution_count": 2,
   "id": "2deb5fcb",
   "metadata": {},
   "outputs": [
    {
     "data": {
      "text/plain": [
       "{'dataset_id': 330,\n",
       " 'dataset_data_name': 'synthrad2025_task1_MR_AB_resXL',\n",
       " 'dataset_target_name': 'synthrad2025_task1_CT_AB_resXL',\n",
       " 'data_root': '/datasets/work/hb-synthrad2023/source/synthrad2025_data_v2/synthRAD2025_Task1_Train/Task1/AB',\n",
       " 'preprocessing_CT': 'CT',\n",
       " 'preprocessing_MRI': 'MR',\n",
       " 'preprocessing_mask': 'no mask'}"
      ]
     },
     "execution_count": 2,
     "metadata": {},
     "output_type": "execute_result"
    }
   ],
   "source": [
    "# Load config file\n",
    "config = json.load(open(\"config_330.json\"))\n",
    "config"
   ]
  },
  {
   "cell_type": "code",
   "execution_count": 3,
   "id": "7c01e34d",
   "metadata": {},
   "outputs": [
    {
     "name": "stdout",
     "output_type": "stream",
     "text": [
      "CT mean: -660.54248046875, CT std: 452.00933837890625\n"
     ]
    },
    {
     "name": "stderr",
     "output_type": "stream",
     "text": [
      "  0%|          | 0/35 [00:00<?, ?it/s]"
     ]
    },
    {
     "name": "stderr",
     "output_type": "stream",
     "text": [
      "100%|██████████| 35/35 [00:28<00:00,  1.22it/s]\n"
     ]
    }
   ],
   "source": [
    "# invert normalisation\n",
    "ct_plan_path = f\"/datasets/work/hb-synthrad2023/work/synthrad2025/bw_workplace/data/nnunet_struct/preprocessed/Dataset{config['dataset_id'] + 1}_{config['dataset_target_name']}/nnUNetResEncUNetPlans_80G.json\"\n",
    "ct_mean, ct_std = get_ct_normalisation_values(ct_plan_path)\n",
    "dataset_plan = \"nnUNetResEncUNetPlans_80G\"\n",
    "fold = 0\n",
    "pred_path = f\"/datasets/work/hb-synthrad2023/work/synthrad2025/bw_workplace/data/nnunet_struct/results/Dataset{config['dataset_id']}_{config['dataset_data_name']}/nnUNetTrainerMRCT__{dataset_plan}__3d_fullres/fold_{fold}/validation\"\n",
    "pred_path_revert_norm = pred_path + \"_revert_norm\"\n",
    "revert_normalisation(pred_path, ct_mean, ct_std, save_path=pred_path_revert_norm)\n"
   ]
  },
  {
   "cell_type": "code",
   "execution_count": 4,
   "id": "da1a5e44",
   "metadata": {},
   "outputs": [
    {
     "name": "stderr",
     "output_type": "stream",
     "text": [
      "100%|██████████| 35/35 [05:23<00:00,  9.23s/it]"
     ]
    },
    {
     "name": "stdout",
     "output_type": "stream",
     "text": [
      "mean mae: 105.57495792399222\n",
      "mean psnr: 25.332086495459862\n",
      "mean ms_ssim: 0.7779173987887936\n"
     ]
    },
    {
     "name": "stderr",
     "output_type": "stream",
     "text": [
      "\n"
     ]
    }
   ],
   "source": [
    "def result_analysis(pred_path, raw_data_path):\n",
    "    \"\"\"\n",
    "    Analyze the results of the predictions.\n",
    "    \"\"\"\n",
    "    pred_paths = sorted(glob.glob(os.path.join(pred_path, '*.mha')))\n",
    "    gt_path = os.path.join(raw_data_path, \"gt_segmentations\")\n",
    "    mask_path = os.path.join(raw_data_path, \"masks\")\n",
    "    testing_metrics = ImageMetricsCompute()\n",
    "    testing_metrics.init_storage([\"mae\", \"psnr\", \"ms_ssim\"])\n",
    "\n",
    "    for pred_path in tqdm(pred_paths):\n",
    "        filename = os.path.basename(pred_path)\n",
    "        gt_file = os.path.join(gt_path, filename)\n",
    "        mask_file = os.path.join(mask_path, filename)\n",
    "\n",
    "        img_pred = sitk.ReadImage(pred_path)\n",
    "        img_gt = sitk.ReadImage(gt_file)\n",
    "        img_mask = sitk.ReadImage(mask_file, sitk.sitkUInt8)\n",
    "\n",
    "        array_pred = sitk.GetArrayFromImage(img_pred)\n",
    "        array_gt = sitk.GetArrayFromImage(img_gt)\n",
    "        array_mask = sitk.GetArrayFromImage(img_mask)\n",
    "\n",
    "        res = testing_metrics.score_patient(array_gt, array_pred, array_mask)\n",
    "        testing_metrics.add(res, filename)\n",
    "\n",
    "    # aggregate results\n",
    "    results = testing_metrics.aggregate()\n",
    "\n",
    "    df = pd.DataFrame(\n",
    "            {\n",
    "                'patient_id': testing_metrics.storage_id,\n",
    "                'mae': testing_metrics.storage['mae'],\n",
    "                'ms_ssim': testing_metrics.storage['ms_ssim'],\n",
    "                'psnr': testing_metrics.storage['psnr'],\n",
    "            }\n",
    "        )\n",
    "\n",
    "    # save results, and df in the folder \"results\"\n",
    "    results_path = os.path.join(pred_path_revert_norm, \"results.json\")\n",
    "    df_path = os.path.join(pred_path_revert_norm, \"results_individual.csv\")\n",
    "    os.makedirs(os.path.dirname(results_path), exist_ok=True)\n",
    "    with open(results_path, 'w') as f:\n",
    "        json.dump(results, f, indent=4)\n",
    "    df.to_csv(df_path, index=False)\n",
    "    return results, df\n",
    "\n",
    "# raw_data_path = f\"/datasets/work/hb-synthrad2023/work/synthrad2025/bw_workplace/data/nnunet_struct/preprocessed/Dataset{config['dataset_id']}_{config['dataset_data_name']}\"\n",
    "raw_data_path = f\"/datasets/work/hb-synthrad2023/work/synthrad2025/bw_workplace/data/nnunet_struct/preprocessed/Dataset{config['dataset_id']}_{config['dataset_data_name']}\"\n",
    "results, df = result_analysis(pred_path_revert_norm, raw_data_path)\n",
    "print(\"mean mae:\", results['mae']['mean'])\n",
    "print(\"mean psnr:\", results['psnr']['mean'])\n",
    "print(\"mean ms_ssim:\", results['ms_ssim']['mean'])"
   ]
  },
  {
   "cell_type": "code",
   "execution_count": 6,
   "id": "d7f7db61",
   "metadata": {},
   "outputs": [],
   "source": [
    "# save results, and df in the folder \"results\"\n",
    "results_path = os.path.join(pred_path_revert_norm, \"results.json\")\n",
    "df_path = os.path.join(pred_path_revert_norm, \"results_df.csv\")\n",
    "os.makedirs(os.path.dirname(results_path), exist_ok=True)\n",
    "with open(results_path, 'w') as f:\n",
    "    json.dump(results, f, indent=4)\n",
    "df.to_csv(df_path, index=False)\n"
   ]
  },
  {
   "cell_type": "markdown",
   "id": "bffbcb4b",
   "metadata": {},
   "source": [
    "# Dataset 302"
   ]
  },
  {
   "cell_type": "code",
   "execution_count": 4,
   "id": "1de82335",
   "metadata": {},
   "outputs": [
    {
     "name": "stdout",
     "output_type": "stream",
     "text": [
      "CT mean: -756.8418579101562, CT std: 460.713623046875\n"
     ]
    },
    {
     "name": "stderr",
     "output_type": "stream",
     "text": [
      "100%|██████████| 45/45 [00:17<00:00,  2.59it/s]\n"
     ]
    }
   ],
   "source": [
    "# Load config file\n",
    "config = json.load(open(\"config_302.json\"))\n",
    "\n",
    "ct_plan_path = f\"/datasets/work/hb-synthrad2023/work/synthrad2025/bw_workplace/data/nnunet_struct/preprocessed/Dataset{config['dataset_id'] + 1}_{config['dataset_target_name']}/nnUNetPlans.json\"\n",
    "ct_mean, ct_std = get_ct_normalisation_values(ct_plan_path)\n",
    "pred_path = f\"/datasets/work/hb-synthrad2023/work/synthrad2025/bw_workplace/data/nnunet_struct/results/Dataset{config['dataset_id']}_{config['dataset_data_name']}/nnUNetTrainerMRCT__nnUNetPlans__3d_fullres/fold_0/validation\"\n",
    "pred_path_revert_norm = pred_path + \"_revert_norm\"\n",
    "revert_normalisation(pred_path, ct_mean, ct_std, save_path=pred_path_revert_norm)\n"
   ]
  },
  {
   "cell_type": "code",
   "execution_count": 5,
   "id": "7d3f987e",
   "metadata": {},
   "outputs": [
    {
     "name": "stderr",
     "output_type": "stream",
     "text": [
      "100%|██████████| 45/45 [03:37<00:00,  4.84s/it]"
     ]
    },
    {
     "name": "stdout",
     "output_type": "stream",
     "text": [
      "mean mae: 113.70820987479676\n",
      "mean psnr: 25.445675841563286\n",
      "mean ms_ssim: 0.8954014513641562\n"
     ]
    },
    {
     "name": "stderr",
     "output_type": "stream",
     "text": [
      "\n"
     ]
    }
   ],
   "source": [
    "raw_data_path = f\"/datasets/work/hb-synthrad2023/work/synthrad2025/bw_workplace/data/nnunet_struct/preprocessed/Dataset{config['dataset_id']}_{config['dataset_data_name']}\"\n",
    "results, df = result_analysis(pred_path_revert_norm, raw_data_path)\n",
    "print(\"mean mae:\", results['mae']['mean'])\n",
    "print(\"mean psnr:\", results['psnr']['mean'])\n",
    "print(\"mean ms_ssim:\", results['ms_ssim']['mean'])"
   ]
  },
  {
   "cell_type": "code",
   "execution_count": 6,
   "id": "6314d8e9",
   "metadata": {},
   "outputs": [],
   "source": [
    "# save results, and df in the folder \"results\"\n",
    "results_path = os.path.join(pred_path_revert_norm, \"results.json\")\n",
    "df_path = os.path.join(pred_path_revert_norm, \"results_df.csv\")\n",
    "os.makedirs(os.path.dirname(results_path), exist_ok=True)\n",
    "with open(results_path, 'w') as f:\n",
    "    json.dump(results, f, indent=4)\n",
    "df.to_csv(df_path, index=False)\n"
   ]
  },
  {
   "cell_type": "markdown",
   "id": "9036b619",
   "metadata": {},
   "source": [
    "# Dataset 304"
   ]
  },
  {
   "cell_type": "code",
   "execution_count": 7,
   "id": "057a8b1b",
   "metadata": {},
   "outputs": [
    {
     "name": "stdout",
     "output_type": "stream",
     "text": [
      "CT mean: -753.1259765625, CT std: 409.43475341796875\n"
     ]
    },
    {
     "name": "stderr",
     "output_type": "stream",
     "text": [
      " 70%|███████   | 26/37 [00:41<00:25,  2.29s/it]"
     ]
    },
    {
     "name": "stderr",
     "output_type": "stream",
     "text": [
      "100%|██████████| 37/37 [01:04<00:00,  1.73s/it]\n"
     ]
    }
   ],
   "source": [
    "# Load config file\n",
    "config = json.load(open(\"config_304.json\"))\n",
    "\n",
    "ct_plan_path = f\"/datasets/work/hb-synthrad2023/work/synthrad2025/bw_workplace/data/nnunet_struct/preprocessed/Dataset{config['dataset_id'] + 1}_{config['dataset_target_name']}/nnUNetPlans.json\"\n",
    "ct_mean, ct_std = get_ct_normalisation_values(ct_plan_path)\n",
    "pred_path = f\"/datasets/work/hb-synthrad2023/work/synthrad2025/bw_workplace/data/nnunet_struct/results/Dataset{config['dataset_id']}_{config['dataset_data_name']}/nnUNetTrainerMRCT__nnUNetPlans__3d_fullres/fold_0/validation\"\n",
    "pred_path_revert_norm = pred_path + \"_revert_norm\"\n",
    "revert_normalisation(pred_path, ct_mean, ct_std, save_path=pred_path_revert_norm)\n"
   ]
  },
  {
   "cell_type": "code",
   "execution_count": 8,
   "id": "fd373077",
   "metadata": {},
   "outputs": [
    {
     "name": "stderr",
     "output_type": "stream",
     "text": [
      "100%|██████████| 37/37 [06:40<00:00, 10.83s/it]"
     ]
    },
    {
     "name": "stdout",
     "output_type": "stream",
     "text": [
      "mean mae: 110.81249830293514\n",
      "mean psnr: 25.484432741206287\n",
      "mean ms_ssim: 0.8293993379400778\n"
     ]
    },
    {
     "name": "stderr",
     "output_type": "stream",
     "text": [
      "\n"
     ]
    }
   ],
   "source": [
    "raw_data_path = f\"/datasets/work/hb-synthrad2023/work/synthrad2025/bw_workplace/data/nnunet_struct/preprocessed/Dataset{config['dataset_id']}_{config['dataset_data_name']}\"\n",
    "results, df = result_analysis(pred_path_revert_norm, raw_data_path)\n",
    "print(\"mean mae:\", results['mae']['mean'])\n",
    "print(\"mean psnr:\", results['psnr']['mean'])\n",
    "print(\"mean ms_ssim:\", results['ms_ssim']['mean'])"
   ]
  },
  {
   "cell_type": "code",
   "execution_count": 9,
   "id": "e4e7c4f9",
   "metadata": {},
   "outputs": [],
   "source": [
    "# save results, and df in the folder \"results\"\n",
    "results_path = os.path.join(pred_path_revert_norm, \"results.json\")\n",
    "df_path = os.path.join(pred_path_revert_norm, \"results_df.csv\")\n",
    "os.makedirs(os.path.dirname(results_path), exist_ok=True)\n",
    "with open(results_path, 'w') as f:\n",
    "    json.dump(results, f, indent=4)\n",
    "df.to_csv(df_path, index=False)\n"
   ]
  },
  {
   "cell_type": "code",
   "execution_count": null,
   "id": "2b2731f4",
   "metadata": {},
   "outputs": [],
   "source": []
  }
 ],
 "metadata": {
  "kernelspec": {
   "display_name": "Python 3",
   "language": "python",
   "name": "python3"
  },
  "language_info": {
   "codemirror_mode": {
    "name": "ipython",
    "version": 3
   },
   "file_extension": ".py",
   "mimetype": "text/x-python",
   "name": "python",
   "nbconvert_exporter": "python",
   "pygments_lexer": "ipython3",
   "version": "3.11.0"
  }
 },
 "nbformat": 4,
 "nbformat_minor": 5
}
