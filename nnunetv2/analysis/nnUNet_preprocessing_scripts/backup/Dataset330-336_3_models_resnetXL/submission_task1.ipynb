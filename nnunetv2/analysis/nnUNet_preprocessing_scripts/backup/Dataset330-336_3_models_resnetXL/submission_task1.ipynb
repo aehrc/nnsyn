{
 "cells": [
  {
   "cell_type": "code",
   "execution_count": 22,
   "id": "cc0fcc64",
   "metadata": {},
   "outputs": [],
   "source": [
    "import os, glob, shutil, json\n",
    "from pathlib import Path\n",
    "import SimpleITK as sitk\n",
    "import numpy as np\n",
    "from concurrent.futures import ThreadPoolExecutor\n",
    "from tqdm import tqdm\n",
    "import datetime\n",
    "from pprint import pprint\n",
    "\n",
    "sys.path.append(\"/datasets/work/hb-synthrad2023/work/synthrad2025/bw_workplace/src/utils\")\n",
    "from revert_normalisation import get_ct_normalisation_values, revert_normalisation\n"
   ]
  },
  {
   "cell_type": "code",
   "execution_count": null,
   "id": "33570be3",
   "metadata": {},
   "outputs": [],
   "source": [
    "os.environ[\"nnUNet_raw\"] = \"/datasets/work/hb-synthrad2023/work/synthrad2025/bw_workplace/data/nnunet_struct/raw\"\n",
    "os.environ[\"nnUNet_preprocessed\"] = \"/datasets/work/hb-synthrad2023/work/synthrad2025/bw_workplace/data/nnunet_struct/preprocessed\"\n",
    "os.environ[\"nnUNet_results\"] = \"/datasets/work/hb-synthrad2023/work/synthrad2025/bw_workplace/data/nnunet_struct/results\"\n",
    "\n",
    "data_root = \"/datasets/work/hb-synthrad2023/source/synthrad2025_data_v2/synthRAD2025_Task1_Val_Input/Task1\"\n",
    "\n",
    "submission_path = \"/datasets/work/hb-synthrad2023/work/synthrad2025/bw_workplace/data/nnunet_struct/submission\"\n",
    "submission_name = f'task1_{datetime.datetime.now().strftime(\"%Y%m%d\")}_3models'\n",
    "\n",
    "\n",
    "# list_data_mri = sorted(glob.glob(os.path.join(data_root, '**','mr.mha'), recursive=True))\n",
    "# list_data_mask = sorted(glob.glob(os.path.join(data_root, '**','mask.mha'), recursive=True))\n",
    "# print(\"input1 ---\", len(list_data_mri), list_data_mri)\n",
    "# print(\"input2 ---\", len(list_data_mask), list_data_mask)"
   ]
  },
  {
   "cell_type": "markdown",
   "id": "070d5cc7",
   "metadata": {},
   "source": [
    "# Dataset AB"
   ]
  },
  {
   "cell_type": "code",
   "execution_count": 3,
   "id": "b7af0f90",
   "metadata": {},
   "outputs": [
    {
     "name": "stdout",
     "output_type": "stream",
     "text": [
      "{'dataset_id': 300, 'dataset_data_name': 'synthrad2025_task1_MR_AB', 'dataset_target_name': 'synthrad2025_task1_CT_AB', 'data_root': '/datasets/work/hb-synthrad2023/source/synthrad2025_data_v2/synthRAD2025_Task1_Train/Task1/AB', 'preprocessing_CT': 'CT', 'preprocessing_MRI': 'MR', 'preprocessing_mask': 'no mask'}\n",
      "input1 --- 27 ['/datasets/work/hb-synthrad2023/source/synthrad2025_data_v2/synthRAD2025_Task1_Val_Input/Task1/AB/1ABA002/mr.mha', '/datasets/work/hb-synthrad2023/source/synthrad2025_data_v2/synthRAD2025_Task1_Val_Input/Task1/AB/1ABA008/mr.mha', '/datasets/work/hb-synthrad2023/source/synthrad2025_data_v2/synthRAD2025_Task1_Val_Input/Task1/AB/1ABA010/mr.mha', '/datasets/work/hb-synthrad2023/source/synthrad2025_data_v2/synthRAD2025_Task1_Val_Input/Task1/AB/1ABA017/mr.mha', '/datasets/work/hb-synthrad2023/source/synthrad2025_data_v2/synthRAD2025_Task1_Val_Input/Task1/AB/1ABA021/mr.mha', '/datasets/work/hb-synthrad2023/source/synthrad2025_data_v2/synthRAD2025_Task1_Val_Input/Task1/AB/1ABA023/mr.mha', '/datasets/work/hb-synthrad2023/source/synthrad2025_data_v2/synthRAD2025_Task1_Val_Input/Task1/AB/1ABA032/mr.mha', '/datasets/work/hb-synthrad2023/source/synthrad2025_data_v2/synthRAD2025_Task1_Val_Input/Task1/AB/1ABA037/mr.mha', '/datasets/work/hb-synthrad2023/source/synthrad2025_data_v2/synthRAD2025_Task1_Val_Input/Task1/AB/1ABA055/mr.mha', '/datasets/work/hb-synthrad2023/source/synthrad2025_data_v2/synthRAD2025_Task1_Val_Input/Task1/AB/1ABA064/mr.mha', '/datasets/work/hb-synthrad2023/source/synthrad2025_data_v2/synthRAD2025_Task1_Val_Input/Task1/AB/1ABB022/mr.mha', '/datasets/work/hb-synthrad2023/source/synthrad2025_data_v2/synthRAD2025_Task1_Val_Input/Task1/AB/1ABB051/mr.mha', '/datasets/work/hb-synthrad2023/source/synthrad2025_data_v2/synthRAD2025_Task1_Val_Input/Task1/AB/1ABB080/mr.mha', '/datasets/work/hb-synthrad2023/source/synthrad2025_data_v2/synthRAD2025_Task1_Val_Input/Task1/AB/1ABB081/mr.mha', '/datasets/work/hb-synthrad2023/source/synthrad2025_data_v2/synthRAD2025_Task1_Val_Input/Task1/AB/1ABB085/mr.mha', '/datasets/work/hb-synthrad2023/source/synthrad2025_data_v2/synthRAD2025_Task1_Val_Input/Task1/AB/1ABB097/mr.mha', '/datasets/work/hb-synthrad2023/source/synthrad2025_data_v2/synthRAD2025_Task1_Val_Input/Task1/AB/1ABB099/mr.mha', '/datasets/work/hb-synthrad2023/source/synthrad2025_data_v2/synthRAD2025_Task1_Val_Input/Task1/AB/1ABB101/mr.mha', '/datasets/work/hb-synthrad2023/source/synthrad2025_data_v2/synthRAD2025_Task1_Val_Input/Task1/AB/1ABB104/mr.mha', '/datasets/work/hb-synthrad2023/source/synthrad2025_data_v2/synthRAD2025_Task1_Val_Input/Task1/AB/1ABB111/mr.mha', '/datasets/work/hb-synthrad2023/source/synthrad2025_data_v2/synthRAD2025_Task1_Val_Input/Task1/AB/1ABB134/mr.mha', '/datasets/work/hb-synthrad2023/source/synthrad2025_data_v2/synthRAD2025_Task1_Val_Input/Task1/AB/1ABB142/mr.mha', '/datasets/work/hb-synthrad2023/source/synthrad2025_data_v2/synthRAD2025_Task1_Val_Input/Task1/AB/1ABB148/mr.mha', '/datasets/work/hb-synthrad2023/source/synthrad2025_data_v2/synthRAD2025_Task1_Val_Input/Task1/AB/1ABB158/mr.mha', '/datasets/work/hb-synthrad2023/source/synthrad2025_data_v2/synthRAD2025_Task1_Val_Input/Task1/AB/1ABC001/mr.mha', '/datasets/work/hb-synthrad2023/source/synthrad2025_data_v2/synthRAD2025_Task1_Val_Input/Task1/AB/1ABC015/mr.mha', '/datasets/work/hb-synthrad2023/source/synthrad2025_data_v2/synthRAD2025_Task1_Val_Input/Task1/AB/1ABC145/mr.mha']\n"
     ]
    }
   ],
   "source": [
    "# copy files to nnUNet raw data directory\n",
    "config = json.load(open(\"config_300.json\"))\n",
    "print(config)\n",
    "dataset_id = config['dataset_id']\n",
    "dataset_data_name = config['dataset_data_name']\n",
    "dataset_shortname = config['dataset_data_name'].split('_')[-1]  # e.g., \"synthrad2025_task1_MR_TH\" -> \"TH\"\n",
    "dataset_data_path = os.path.join(os.environ['nnUNet_raw'], f'Dataset{dataset_id:03d}_{dataset_data_name}')\n",
    "list_data_mri = sorted(glob.glob(os.path.join(data_root, dataset_shortname, '**','mr.mha'), recursive=True))\n",
    "print(\"input1 ---\", len(list_data_mri), list_data_mri)\n"
   ]
  },
  {
   "cell_type": "code",
   "execution_count": 11,
   "id": "07da7c82",
   "metadata": {},
   "outputs": [
    {
     "name": "stderr",
     "output_type": "stream",
     "text": [
      "100%|██████████| 27/27 [00:02<00:00, 12.19it/s]\n"
     ]
    }
   ],
   "source": [
    "\n",
    "\n",
    "def process_file(data_path, dataset_path, modality_suffix=\"_0000\"):\n",
    "    filename = data_path.split(os.sep)[-2]\n",
    "    if not filename.endswith(f'{modality_suffix}.mha'):\n",
    "        filename = filename + f'{modality_suffix}.mha'\n",
    "    os.makedirs(os.path.join(dataset_path, 'imagesVal'), exist_ok=True)\n",
    "    shutil.copyfile(data_path, os.path.join(dataset_path, f'imagesVal/{filename}'))\n",
    "\n",
    "with ThreadPoolExecutor() as executor:\n",
    "    list(tqdm(executor.map(lambda data_path: process_file(data_path, dataset_data_path, \"_0000\"), list_data_mri), total=len(list_data_mri)))\n",
    "\n",
    "# with ThreadPoolExecutor() as executor:\n",
    "#     list(tqdm(executor.map(lambda data_path: process_file(data_path, dataset_data_path, \"_0001\"), list_data_mask), total=len(list_data_mask)))\n"
   ]
  },
  {
   "cell_type": "code",
   "execution_count": null,
   "id": "73245741",
   "metadata": {},
   "outputs": [],
   "source": [
    "input_dir = os.path.join(dataset_data_path, 'imagesVal')\n",
    "submission_path = \"/datasets/work/hb-synthrad2023/work/synthrad2025/bw_workplace/data/nnunet_struct/submission\"\n",
    "# create submission folder with date today\n",
    "submission_name = f'task1_{datetime.datetime.now().strftime(\"%Y%m%d\")}_3models'\n",
    "output_dir = os.path.join(submission_path, submission_name, f'DatasetID{dataset_id:03d}_{dataset_data_name}')\n",
    "os.makedirs(output_dir, exist_ok=True)\n",
    "fold = 0"
   ]
  },
  {
   "cell_type": "code",
   "execution_count": null,
   "id": "8691cdbc",
   "metadata": {},
   "outputs": [],
   "source": [
    "os.system(f\"nnUNetv2_predict -d {dataset_id} -i {input_dir} -o {output_dir} -c 3d_fullres -p nnUNetPlans -tr nnUNetTrainerMRCT -f {fold}\")"
   ]
  },
  {
   "cell_type": "code",
   "execution_count": 21,
   "id": "42f4e741",
   "metadata": {},
   "outputs": [
    {
     "name": "stdout",
     "output_type": "stream",
     "text": [
      "CT mean: -660.54248046875, CT std: 452.00933837890625\n"
     ]
    }
   ],
   "source": [
    "\n",
    "ct_plan_path = f\"/datasets/work/hb-synthrad2023/work/synthrad2025/bw_workplace/data/nnunet_struct/preprocessed/Dataset{config['dataset_id'] + 1}_{config['dataset_target_name']}/nnUNetPlans.json\"\n",
    "ct_mean, ct_std = get_ct_normalisation_values(ct_plan_path)\n",
    "# revert_normalisation(output_dir, ct_mean, ct_std, save_path=output_dir + \"_revert_norm\")\n",
    "# move previous results to backup\n",
    "if os.path.exists(output_dir):\n",
    "    shutil.move(output_dir, output_dir + \"_revert_norm/backup_normalised\")"
   ]
  },
  {
   "cell_type": "markdown",
   "id": "b36aa94f",
   "metadata": {},
   "source": [
    "# Dataset HN"
   ]
  },
  {
   "cell_type": "code",
   "execution_count": 23,
   "id": "f8ea3b10",
   "metadata": {},
   "outputs": [
    {
     "name": "stdout",
     "output_type": "stream",
     "text": [
      "{'data_root': '/datasets/work/hb-synthrad2023/source/synthrad2025_data_v2/synthRAD2025_Task1_Train/Task1/HN',\n",
      " 'dataset_data_name': 'synthrad2025_task1_MR_HN',\n",
      " 'dataset_id': 302,\n",
      " 'dataset_target_name': 'synthrad2025_task1_CT_HN',\n",
      " 'preprocessing_CT': 'CT',\n",
      " 'preprocessing_MRI': 'MR',\n",
      " 'preprocessing_mask': 'no mask'}\n",
      "input1 --- 34 ['/datasets/work/hb-synthrad2023/source/synthrad2025_data_v2/synthRAD2025_Task1_Val_Input/Task1/HN/1HNA002/mr.mha', '/datasets/work/hb-synthrad2023/source/synthrad2025_data_v2/synthRAD2025_Task1_Val_Input/Task1/HN/1HNA005/mr.mha', '/datasets/work/hb-synthrad2023/source/synthrad2025_data_v2/synthRAD2025_Task1_Val_Input/Task1/HN/1HNA017/mr.mha', '/datasets/work/hb-synthrad2023/source/synthrad2025_data_v2/synthRAD2025_Task1_Val_Input/Task1/HN/1HNA020/mr.mha', '/datasets/work/hb-synthrad2023/source/synthrad2025_data_v2/synthRAD2025_Task1_Val_Input/Task1/HN/1HNA052/mr.mha', '/datasets/work/hb-synthrad2023/source/synthrad2025_data_v2/synthRAD2025_Task1_Val_Input/Task1/HN/1HNA054/mr.mha', '/datasets/work/hb-synthrad2023/source/synthrad2025_data_v2/synthRAD2025_Task1_Val_Input/Task1/HN/1HNA062/mr.mha', '/datasets/work/hb-synthrad2023/source/synthrad2025_data_v2/synthRAD2025_Task1_Val_Input/Task1/HN/1HNA063/mr.mha', '/datasets/work/hb-synthrad2023/source/synthrad2025_data_v2/synthRAD2025_Task1_Val_Input/Task1/HN/1HNA070/mr.mha', '/datasets/work/hb-synthrad2023/source/synthrad2025_data_v2/synthRAD2025_Task1_Val_Input/Task1/HN/1HNA073/mr.mha', '/datasets/work/hb-synthrad2023/source/synthrad2025_data_v2/synthRAD2025_Task1_Val_Input/Task1/HN/1HNA078/mr.mha', '/datasets/work/hb-synthrad2023/source/synthrad2025_data_v2/synthRAD2025_Task1_Val_Input/Task1/HN/1HNA081/mr.mha', '/datasets/work/hb-synthrad2023/source/synthrad2025_data_v2/synthRAD2025_Task1_Val_Input/Task1/HN/1HNA092/mr.mha', '/datasets/work/hb-synthrad2023/source/synthrad2025_data_v2/synthRAD2025_Task1_Val_Input/Task1/HN/1HNA094/mr.mha', '/datasets/work/hb-synthrad2023/source/synthrad2025_data_v2/synthRAD2025_Task1_Val_Input/Task1/HN/1HNC015/mr.mha', '/datasets/work/hb-synthrad2023/source/synthrad2025_data_v2/synthRAD2025_Task1_Val_Input/Task1/HN/1HNC048/mr.mha', '/datasets/work/hb-synthrad2023/source/synthrad2025_data_v2/synthRAD2025_Task1_Val_Input/Task1/HN/1HNC052/mr.mha', '/datasets/work/hb-synthrad2023/source/synthrad2025_data_v2/synthRAD2025_Task1_Val_Input/Task1/HN/1HNC055/mr.mha', '/datasets/work/hb-synthrad2023/source/synthrad2025_data_v2/synthRAD2025_Task1_Val_Input/Task1/HN/1HNC063/mr.mha', '/datasets/work/hb-synthrad2023/source/synthrad2025_data_v2/synthRAD2025_Task1_Val_Input/Task1/HN/1HNC064/mr.mha', '/datasets/work/hb-synthrad2023/source/synthrad2025_data_v2/synthRAD2025_Task1_Val_Input/Task1/HN/1HNC093/mr.mha', '/datasets/work/hb-synthrad2023/source/synthrad2025_data_v2/synthRAD2025_Task1_Val_Input/Task1/HN/1HNC100/mr.mha', '/datasets/work/hb-synthrad2023/source/synthrad2025_data_v2/synthRAD2025_Task1_Val_Input/Task1/HN/1HNC126/mr.mha', '/datasets/work/hb-synthrad2023/source/synthrad2025_data_v2/synthRAD2025_Task1_Val_Input/Task1/HN/1HNC129/mr.mha', '/datasets/work/hb-synthrad2023/source/synthrad2025_data_v2/synthRAD2025_Task1_Val_Input/Task1/HN/1HND002/mr.mha', '/datasets/work/hb-synthrad2023/source/synthrad2025_data_v2/synthRAD2025_Task1_Val_Input/Task1/HN/1HND010/mr.mha', '/datasets/work/hb-synthrad2023/source/synthrad2025_data_v2/synthRAD2025_Task1_Val_Input/Task1/HN/1HND011/mr.mha', '/datasets/work/hb-synthrad2023/source/synthrad2025_data_v2/synthRAD2025_Task1_Val_Input/Task1/HN/1HND024/mr.mha', '/datasets/work/hb-synthrad2023/source/synthrad2025_data_v2/synthRAD2025_Task1_Val_Input/Task1/HN/1HND033/mr.mha', '/datasets/work/hb-synthrad2023/source/synthrad2025_data_v2/synthRAD2025_Task1_Val_Input/Task1/HN/1HND041/mr.mha', '/datasets/work/hb-synthrad2023/source/synthrad2025_data_v2/synthRAD2025_Task1_Val_Input/Task1/HN/1HND048/mr.mha', '/datasets/work/hb-synthrad2023/source/synthrad2025_data_v2/synthRAD2025_Task1_Val_Input/Task1/HN/1HND066/mr.mha', '/datasets/work/hb-synthrad2023/source/synthrad2025_data_v2/synthRAD2025_Task1_Val_Input/Task1/HN/1HND085/mr.mha', '/datasets/work/hb-synthrad2023/source/synthrad2025_data_v2/synthRAD2025_Task1_Val_Input/Task1/HN/1HND091/mr.mha']\n"
     ]
    }
   ],
   "source": [
    "# copy files to nnUNet raw data directory\n",
    "config = json.load(open(\"config_302.json\"))\n",
    "pprint(config)\n",
    "dataset_id = config['dataset_id']\n",
    "dataset_data_name = config['dataset_data_name']\n",
    "dataset_shortname = config['dataset_data_name'].split('_')[-1]  # e.g., \"synthrad2025_task1_MR_TH\" -> \"TH\"\n",
    "dataset_data_path = os.path.join(os.environ['nnUNet_raw'], f'Dataset{dataset_id:03d}_{dataset_data_name}')\n",
    "list_data_mri = sorted(glob.glob(os.path.join(data_root, dataset_shortname, '**','mr.mha'), recursive=True))\n",
    "print(\"input1 ---\", len(list_data_mri), list_data_mri)\n"
   ]
  },
  {
   "cell_type": "code",
   "execution_count": 24,
   "id": "e3589987",
   "metadata": {},
   "outputs": [
    {
     "name": "stderr",
     "output_type": "stream",
     "text": [
      "100%|██████████| 34/34 [00:00<00:00, 37.77it/s]\n"
     ]
    }
   ],
   "source": [
    "with ThreadPoolExecutor() as executor:\n",
    "    list(tqdm(executor.map(lambda data_path: process_file(data_path, dataset_data_path, \"_0000\"), list_data_mri), total=len(list_data_mri)))\n",
    "\n",
    "# with ThreadPoolExecutor() as executor:\n",
    "#     list(tqdm(executor.map(lambda data_path: process_file(data_path, dataset_data_path, \"_0001\"), list_data_mask), total=len(list_data_mask)))\n"
   ]
  },
  {
   "cell_type": "code",
   "execution_count": null,
   "id": "99103947",
   "metadata": {},
   "outputs": [
    {
     "name": "stdout",
     "output_type": "stream",
     "text": [
      "\n",
      "#######################################################################\n",
      "Please cite the following paper when using nnU-Net:\n",
      "Isensee, F., Jaeger, P. F., Kohl, S. A., Petersen, J., & Maier-Hein, K. H. (2021). nnU-Net: a self-configuring method for deep learning-based biomedical image segmentation. Nature methods, 18(2), 203-211.\n",
      "#######################################################################\n",
      "\n",
      "tile :  0.5\n",
      "There are 34 cases in the source folder\n",
      "[['/datasets/work/hb-synthrad2023/work/synthrad2025/bw_workplace/data/nnunet_struct/raw/Dataset302_synthrad2025_task1_MR_HN/imagesVal/1HNA002_0000.mha'], ['/datasets/work/hb-synthrad2023/work/synthrad2025/bw_workplace/data/nnunet_struct/raw/Dataset302_synthrad2025_task1_MR_HN/imagesVal/1HNA005_0000.mha'], ['/datasets/work/hb-synthrad2023/work/synthrad2025/bw_workplace/data/nnunet_struct/raw/Dataset302_synthrad2025_task1_MR_HN/imagesVal/1HNA017_0000.mha'], ['/datasets/work/hb-synthrad2023/work/synthrad2025/bw_workplace/data/nnunet_struct/raw/Dataset302_synthrad2025_task1_MR_HN/imagesVal/1HNA020_0000.mha'], ['/datasets/work/hb-synthrad2023/work/synthrad2025/bw_workplace/data/nnunet_struct/raw/Dataset302_synthrad2025_task1_MR_HN/imagesVal/1HNA052_0000.mha'], ['/datasets/work/hb-synthrad2023/work/synthrad2025/bw_workplace/data/nnunet_struct/raw/Dataset302_synthrad2025_task1_MR_HN/imagesVal/1HNA054_0000.mha'], ['/datasets/work/hb-synthrad2023/work/synthrad2025/bw_workplace/data/nnunet_struct/raw/Dataset302_synthrad2025_task1_MR_HN/imagesVal/1HNA062_0000.mha'], ['/datasets/work/hb-synthrad2023/work/synthrad2025/bw_workplace/data/nnunet_struct/raw/Dataset302_synthrad2025_task1_MR_HN/imagesVal/1HNA063_0000.mha'], ['/datasets/work/hb-synthrad2023/work/synthrad2025/bw_workplace/data/nnunet_struct/raw/Dataset302_synthrad2025_task1_MR_HN/imagesVal/1HNA070_0000.mha'], ['/datasets/work/hb-synthrad2023/work/synthrad2025/bw_workplace/data/nnunet_struct/raw/Dataset302_synthrad2025_task1_MR_HN/imagesVal/1HNA073_0000.mha'], ['/datasets/work/hb-synthrad2023/work/synthrad2025/bw_workplace/data/nnunet_struct/raw/Dataset302_synthrad2025_task1_MR_HN/imagesVal/1HNA078_0000.mha'], ['/datasets/work/hb-synthrad2023/work/synthrad2025/bw_workplace/data/nnunet_struct/raw/Dataset302_synthrad2025_task1_MR_HN/imagesVal/1HNA081_0000.mha'], ['/datasets/work/hb-synthrad2023/work/synthrad2025/bw_workplace/data/nnunet_struct/raw/Dataset302_synthrad2025_task1_MR_HN/imagesVal/1HNA092_0000.mha'], ['/datasets/work/hb-synthrad2023/work/synthrad2025/bw_workplace/data/nnunet_struct/raw/Dataset302_synthrad2025_task1_MR_HN/imagesVal/1HNA094_0000.mha'], ['/datasets/work/hb-synthrad2023/work/synthrad2025/bw_workplace/data/nnunet_struct/raw/Dataset302_synthrad2025_task1_MR_HN/imagesVal/1HNC015_0000.mha'], ['/datasets/work/hb-synthrad2023/work/synthrad2025/bw_workplace/data/nnunet_struct/raw/Dataset302_synthrad2025_task1_MR_HN/imagesVal/1HNC048_0000.mha'], ['/datasets/work/hb-synthrad2023/work/synthrad2025/bw_workplace/data/nnunet_struct/raw/Dataset302_synthrad2025_task1_MR_HN/imagesVal/1HNC052_0000.mha'], ['/datasets/work/hb-synthrad2023/work/synthrad2025/bw_workplace/data/nnunet_struct/raw/Dataset302_synthrad2025_task1_MR_HN/imagesVal/1HNC055_0000.mha'], ['/datasets/work/hb-synthrad2023/work/synthrad2025/bw_workplace/data/nnunet_struct/raw/Dataset302_synthrad2025_task1_MR_HN/imagesVal/1HNC063_0000.mha'], ['/datasets/work/hb-synthrad2023/work/synthrad2025/bw_workplace/data/nnunet_struct/raw/Dataset302_synthrad2025_task1_MR_HN/imagesVal/1HNC064_0000.mha'], ['/datasets/work/hb-synthrad2023/work/synthrad2025/bw_workplace/data/nnunet_struct/raw/Dataset302_synthrad2025_task1_MR_HN/imagesVal/1HNC093_0000.mha'], ['/datasets/work/hb-synthrad2023/work/synthrad2025/bw_workplace/data/nnunet_struct/raw/Dataset302_synthrad2025_task1_MR_HN/imagesVal/1HNC100_0000.mha'], ['/datasets/work/hb-synthrad2023/work/synthrad2025/bw_workplace/data/nnunet_struct/raw/Dataset302_synthrad2025_task1_MR_HN/imagesVal/1HNC126_0000.mha'], ['/datasets/work/hb-synthrad2023/work/synthrad2025/bw_workplace/data/nnunet_struct/raw/Dataset302_synthrad2025_task1_MR_HN/imagesVal/1HNC129_0000.mha'], ['/datasets/work/hb-synthrad2023/work/synthrad2025/bw_workplace/data/nnunet_struct/raw/Dataset302_synthrad2025_task1_MR_HN/imagesVal/1HND002_0000.mha'], ['/datasets/work/hb-synthrad2023/work/synthrad2025/bw_workplace/data/nnunet_struct/raw/Dataset302_synthrad2025_task1_MR_HN/imagesVal/1HND010_0000.mha'], ['/datasets/work/hb-synthrad2023/work/synthrad2025/bw_workplace/data/nnunet_struct/raw/Dataset302_synthrad2025_task1_MR_HN/imagesVal/1HND011_0000.mha'], ['/datasets/work/hb-synthrad2023/work/synthrad2025/bw_workplace/data/nnunet_struct/raw/Dataset302_synthrad2025_task1_MR_HN/imagesVal/1HND024_0000.mha'], ['/datasets/work/hb-synthrad2023/work/synthrad2025/bw_workplace/data/nnunet_struct/raw/Dataset302_synthrad2025_task1_MR_HN/imagesVal/1HND033_0000.mha'], ['/datasets/work/hb-synthrad2023/work/synthrad2025/bw_workplace/data/nnunet_struct/raw/Dataset302_synthrad2025_task1_MR_HN/imagesVal/1HND041_0000.mha'], ['/datasets/work/hb-synthrad2023/work/synthrad2025/bw_workplace/data/nnunet_struct/raw/Dataset302_synthrad2025_task1_MR_HN/imagesVal/1HND048_0000.mha'], ['/datasets/work/hb-synthrad2023/work/synthrad2025/bw_workplace/data/nnunet_struct/raw/Dataset302_synthrad2025_task1_MR_HN/imagesVal/1HND066_0000.mha'], ['/datasets/work/hb-synthrad2023/work/synthrad2025/bw_workplace/data/nnunet_struct/raw/Dataset302_synthrad2025_task1_MR_HN/imagesVal/1HND085_0000.mha'], ['/datasets/work/hb-synthrad2023/work/synthrad2025/bw_workplace/data/nnunet_struct/raw/Dataset302_synthrad2025_task1_MR_HN/imagesVal/1HND091_0000.mha']]\n",
      "There are 34 cases that I would like to predict\n",
      "\n",
      "Predicting 1HNA002:\n",
      "perform_everything_on_device: True\n",
      "Reconstruction: MEAN\n"
     ]
    },
    {
     "name": "stderr",
     "output_type": "stream",
     "text": [
      "100%|██████████████████████████████████████████| 60/60 [00:02<00:00, 21.68it/s]\n"
     ]
    },
    {
     "name": "stdout",
     "output_type": "stream",
     "text": [
      "sending off prediction to background worker for resampling and export\n",
      "done with 1HNA002\n",
      "\n",
      "Predicting 1HNA005:\n",
      "perform_everything_on_device: True\n",
      "(138, 381, 519) -0.63 4.184 float16\n",
      "Reconstruction: MEAN\n"
     ]
    },
    {
     "name": "stderr",
     "output_type": "stream",
     "text": [
      "100%|██████████████████████████████████████████| 60/60 [00:02<00:00, 25.87it/s]\n"
     ]
    },
    {
     "name": "stdout",
     "output_type": "stream",
     "text": [
      "sending off prediction to background worker for resampling and export\n",
      "done with 1HNA005\n",
      "\n",
      "Predicting 1HNA017:\n",
      "perform_everything_on_device: True\n",
      "(115, 383, 499) -0.631 4.02 float16\n",
      "Reconstruction: MEAN\n"
     ]
    },
    {
     "name": "stderr",
     "output_type": "stream",
     "text": [
      "100%|██████████████████████████████████████████| 60/60 [00:02<00:00, 27.04it/s]\n"
     ]
    },
    {
     "name": "stdout",
     "output_type": "stream",
     "text": [
      "sending off prediction to background worker for resampling and export\n",
      "done with 1HNA017\n",
      "\n",
      "Predicting 1HNA020:\n",
      "perform_everything_on_device: True\n",
      "(129, 357, 563) -0.6855 4.04 float16\n",
      "Reconstruction: MEAN\n"
     ]
    },
    {
     "name": "stderr",
     "output_type": "stream",
     "text": [
      "100%|██████████████████████████████████████████| 72/72 [00:02<00:00, 24.35it/s]\n"
     ]
    },
    {
     "name": "stdout",
     "output_type": "stream",
     "text": [
      "sending off prediction to background worker for resampling and export\n",
      "done with 1HNA020\n",
      "\n",
      "Predicting 1HNA052:\n",
      "perform_everything_on_device: True\n",
      "(128, 381, 593) -0.722 4.07 float16\n",
      "Reconstruction: MEAN\n"
     ]
    },
    {
     "name": "stderr",
     "output_type": "stream",
     "text": [
      "100%|██████████████████████████████████████████| 80/80 [00:03<00:00, 25.08it/s]\n"
     ]
    },
    {
     "name": "stdout",
     "output_type": "stream",
     "text": [
      "sending off prediction to background worker for resampling and export\n",
      "done with 1HNA052\n",
      "\n",
      "Predicting 1HNA054:\n",
      "perform_everything_on_device: True\n",
      "(132, 388, 543) -0.6914 4.09 float16\n",
      "Reconstruction: MEAN\n"
     ]
    },
    {
     "name": "stderr",
     "output_type": "stream",
     "text": [
      "100%|██████████████████████████████████████████| 48/48 [00:01<00:00, 24.38it/s]\n"
     ]
    },
    {
     "name": "stdout",
     "output_type": "stream",
     "text": [
      "sending off prediction to background worker for resampling and export\n",
      "done with 1HNA054\n",
      "\n",
      "Predicting 1HNA062:\n",
      "perform_everything_on_device: True\n",
      "(115, 334, 480) -0.6074 4.0 float16\n",
      "Reconstruction: MEAN\n"
     ]
    },
    {
     "name": "stderr",
     "output_type": "stream",
     "text": [
      "100%|██████████████████████████████████████████| 60/60 [00:02<00:00, 26.44it/s]\n",
      "  0%|                                                   | 0/45 [00:00<?, ?it/s]"
     ]
    },
    {
     "name": "stdout",
     "output_type": "stream",
     "text": [
      "sending off prediction to background worker for resampling and export\n",
      "done with 1HNA062\n",
      "\n",
      "Predicting 1HNA063:\n",
      "perform_everything_on_device: True\n",
      "Reconstruction: MEAN\n",
      "(121, 348, 521) -0.6094 3.979 float16\n"
     ]
    },
    {
     "name": "stderr",
     "output_type": "stream",
     "text": [
      "100%|██████████████████████████████████████████| 45/45 [00:01<00:00, 26.36it/s]\n"
     ]
    },
    {
     "name": "stdout",
     "output_type": "stream",
     "text": [
      "sending off prediction to background worker for resampling and export\n",
      "done with 1HNA063\n",
      "\n",
      "Predicting 1HNA070:\n",
      "perform_everything_on_device: True\n",
      "(112, 346, 499) -0.6094 4.18 float16\n",
      "Reconstruction: MEAN\n"
     ]
    },
    {
     "name": "stderr",
     "output_type": "stream",
     "text": [
      "100%|██████████████████████████████████████████| 60/60 [00:02<00:00, 24.28it/s]\n"
     ]
    },
    {
     "name": "stdout",
     "output_type": "stream",
     "text": [
      "sending off prediction to background worker for resampling and export\n",
      "done with 1HNA070\n",
      "\n",
      "Predicting 1HNA073:\n",
      "perform_everything_on_device: True\n",
      "(115, 353, 499) -0.6133 4.04 float16\n",
      "Reconstruction: MEAN\n"
     ]
    },
    {
     "name": "stderr",
     "output_type": "stream",
     "text": [
      "100%|████████████████████████████████████████| 120/120 [00:04<00:00, 24.42it/s]\n"
     ]
    },
    {
     "name": "stdout",
     "output_type": "stream",
     "text": [
      "sending off prediction to background worker for resampling and export\n",
      "done with 1HNA073\n",
      "\n",
      "Predicting 1HNA078:\n",
      "perform_everything_on_device: True\n",
      "(141, 389, 597) -0.6865 4.047 float16\n",
      "Reconstruction: MEAN\n"
     ]
    },
    {
     "name": "stderr",
     "output_type": "stream",
     "text": [
      "100%|██████████████████████████████████████████| 60/60 [00:02<00:00, 28.31it/s]\n"
     ]
    },
    {
     "name": "stdout",
     "output_type": "stream",
     "text": [
      "sending off prediction to background worker for resampling and export\n",
      "done with 1HNA078\n",
      "\n",
      "Predicting 1HNA081:\n",
      "perform_everything_on_device: True\n",
      "(134, 383, 541) -0.683 3.994 float16\n",
      "Reconstruction: MEAN\n"
     ]
    },
    {
     "name": "stderr",
     "output_type": "stream",
     "text": [
      "100%|██████████████████████████████████████████| 60/60 [00:02<00:00, 24.34it/s]\n"
     ]
    },
    {
     "name": "stdout",
     "output_type": "stream",
     "text": [
      "sending off prediction to background worker for resampling and export\n",
      "done with 1HNA081\n",
      "\n",
      "Predicting 1HNA092:\n",
      "perform_everything_on_device: True\n",
      "(125, 372, 552) -0.698 4.043 float16\n",
      "Reconstruction: MEAN\n"
     ]
    },
    {
     "name": "stderr",
     "output_type": "stream",
     "text": [
      "100%|██████████████████████████████████████████| 60/60 [00:02<00:00, 25.10it/s]\n"
     ]
    },
    {
     "name": "stdout",
     "output_type": "stream",
     "text": [
      "sending off prediction to background worker for resampling and export\n",
      "done with 1HNA092\n",
      "\n",
      "Predicting 1HNA094:\n",
      "perform_everything_on_device: True\n",
      "(131, 342, 526) -0.6177 4.1 float16\n",
      "Reconstruction: MEAN\n"
     ]
    },
    {
     "name": "stderr",
     "output_type": "stream",
     "text": [
      "100%|██████████████████████████████████████████| 60/60 [00:02<00:00, 24.97it/s]\n"
     ]
    },
    {
     "name": "stdout",
     "output_type": "stream",
     "text": [
      "sending off prediction to background worker for resampling and export\n",
      "done with 1HNA094\n",
      "\n",
      "Predicting 1HNC015:\n",
      "perform_everything_on_device: True\n",
      "(127, 374, 537) -0.6436 3.955 float16\n",
      "Reconstruction: MEAN\n",
      "sending off prediction to background worker for resampling and export\n",
      "done with 1HNC015\n",
      "\n",
      "Predicting 1HNC048:\n",
      "perform_everything_on_device: True\n",
      "(42, 246, 242) -0.62 4.1 float16\n"
     ]
    },
    {
     "name": "stderr",
     "output_type": "stream",
     "text": [
      "100%|████████████████████████████████████████████| 4/4 [00:00<00:00, 45.32it/s]\n"
     ]
    },
    {
     "name": "stdout",
     "output_type": "stream",
     "text": [
      "Reconstruction: MEAN\n"
     ]
    },
    {
     "name": "stderr",
     "output_type": "stream",
     "text": [
      "100%|██████████████████████████████████████████| 18/18 [00:00<00:00, 32.62it/s]\n"
     ]
    },
    {
     "name": "stdout",
     "output_type": "stream",
     "text": [
      "sending off prediction to background worker for resampling and export\n",
      "done with 1HNC048\n",
      "\n",
      "Predicting 1HNC052:\n",
      "perform_everything_on_device: True\n",
      "(77, 314, 298) -0.623 3.936 float16\n",
      "Reconstruction: MEAN\n"
     ]
    },
    {
     "name": "stderr",
     "output_type": "stream",
     "text": [
      "100%|████████████████████████████████████████████| 8/8 [00:00<00:00, 28.80it/s]\n"
     ]
    },
    {
     "name": "stdout",
     "output_type": "stream",
     "text": [
      "sending off prediction to background worker for resampling and export\n",
      "done with 1HNC052\n",
      "\n",
      "Predicting 1HNC055:\n",
      "perform_everything_on_device: True\n",
      "(63, 264, 249) -0.629 4.094 float16\n",
      "Reconstruction: MEAN\n"
     ]
    },
    {
     "name": "stderr",
     "output_type": "stream",
     "text": [
      "100%|████████████████████████████████████████████| 8/8 [00:00<00:00, 29.09it/s]\n"
     ]
    },
    {
     "name": "stdout",
     "output_type": "stream",
     "text": [
      "sending off prediction to background worker for resampling and export\n",
      "done with 1HNC055\n",
      "\n",
      "Predicting 1HNC063:\n",
      "perform_everything_on_device: True\n",
      "(59, 284, 284) -0.611 4.09 float16\n",
      "Reconstruction: MEAN\n",
      "sending off prediction to background worker for resampling and export\n",
      "done with 1HNC063\n",
      "\n",
      "Predicting 1HNC064:\n",
      "perform_everything_on_device: True\n",
      "(53, 258, 260) -0.641 4.1 float16\n"
     ]
    },
    {
     "name": "stderr",
     "output_type": "stream",
     "text": [
      "100%|████████████████████████████████████████████| 4/4 [00:00<00:00, 33.04it/s]\n"
     ]
    },
    {
     "name": "stdout",
     "output_type": "stream",
     "text": [
      "Reconstruction: MEAN\n",
      "sending off prediction to background worker for resampling and export\n",
      "done with 1HNC064\n",
      "\n",
      "Predicting 1HNC093:\n",
      "perform_everything_on_device: True\n",
      "(51, 239, 238) -0.6196 4.04 float16\n"
     ]
    },
    {
     "name": "stderr",
     "output_type": "stream",
     "text": [
      "100%|████████████████████████████████████████████| 4/4 [00:00<00:00, 42.88it/s]\n"
     ]
    },
    {
     "name": "stdout",
     "output_type": "stream",
     "text": [
      "Reconstruction: MEAN\n",
      "sending off prediction to background worker for resampling and export\n",
      "done with 1HNC093\n",
      "\n",
      "Predicting 1HNC100:\n",
      "perform_everything_on_device: True\n",
      "(55, 263, 259) -0.619 4.03 float16\n"
     ]
    },
    {
     "name": "stderr",
     "output_type": "stream",
     "text": [
      "100%|████████████████████████████████████████████| 4/4 [00:00<00:00, 33.50it/s]\n"
     ]
    },
    {
     "name": "stdout",
     "output_type": "stream",
     "text": [
      "Reconstruction: MEAN\n",
      "sending off prediction to background worker for resampling and export\n",
      "done with 1HNC100\n",
      "\n",
      "Predicting 1HNC126:\n",
      "perform_everything_on_device: True\n",
      "(50, 258, 261) -0.6123 3.988 float16\n"
     ]
    },
    {
     "name": "stderr",
     "output_type": "stream",
     "text": [
      "100%|████████████████████████████████████████████| 4/4 [00:00<00:00, 35.70it/s]\n"
     ]
    },
    {
     "name": "stdout",
     "output_type": "stream",
     "text": [
      "Reconstruction: MEAN\n"
     ]
    },
    {
     "name": "stderr",
     "output_type": "stream",
     "text": [
      "100%|████████████████████████████████████████████| 8/8 [00:00<00:00, 32.26it/s]\n"
     ]
    },
    {
     "name": "stdout",
     "output_type": "stream",
     "text": [
      "sending off prediction to background worker for resampling and export\n",
      "done with 1HNC126\n",
      "\n",
      "Predicting 1HNC129:\n",
      "perform_everything_on_device: True\n",
      "(59, 285, 282) -0.632 3.967 float16\n",
      "Reconstruction: MEAN\n",
      "sending off prediction to background worker for resampling and export\n",
      "done with 1HNC129\n",
      "\n",
      "Predicting 1HND002:\n",
      "perform_everything_on_device: True\n",
      "(55, 243, 243) -0.6196 4.05 float16\n"
     ]
    },
    {
     "name": "stderr",
     "output_type": "stream",
     "text": [
      "100%|████████████████████████████████████████████| 4/4 [00:00<00:00, 34.03it/s]\n"
     ]
    },
    {
     "name": "stdout",
     "output_type": "stream",
     "text": [
      "Reconstruction: MEAN\n"
     ]
    },
    {
     "name": "stderr",
     "output_type": "stream",
     "text": [
      "100%|██████████████████████████████████████████| 12/12 [00:00<00:00, 27.01it/s]\n"
     ]
    },
    {
     "name": "stdout",
     "output_type": "stream",
     "text": [
      "sending off prediction to background worker for resampling and export\n",
      "done with 1HND002\n",
      "\n",
      "Predicting 1HND010:\n",
      "perform_everything_on_device: True\n",
      "(94, 277, 287) -0.6104 4.1 float16\n",
      "Reconstruction: MEAN\n"
     ]
    },
    {
     "name": "stderr",
     "output_type": "stream",
     "text": [
      "100%|██████████████████████████████████████████| 12/12 [00:00<00:00, 25.77it/s]\n"
     ]
    },
    {
     "name": "stdout",
     "output_type": "stream",
     "text": [
      "sending off prediction to background worker for resampling and export\n",
      "done with 1HND010\n",
      "\n",
      "Predicting 1HND011:\n",
      "perform_everything_on_device: True\n",
      "(89, 269, 280) -0.64 4.11 float16\n",
      "Reconstruction: MEAN\n"
     ]
    },
    {
     "name": "stderr",
     "output_type": "stream",
     "text": [
      "100%|██████████████████████████████████████████| 12/12 [00:00<00:00, 25.62it/s]\n"
     ]
    },
    {
     "name": "stdout",
     "output_type": "stream",
     "text": [
      "sending off prediction to background worker for resampling and export\n",
      "done with 1HND011\n",
      "\n",
      "Predicting 1HND024:\n",
      "perform_everything_on_device: True\n",
      "(97, 281, 272) -0.6226 4.168 float16\n",
      "Reconstruction: MEAN\n"
     ]
    },
    {
     "name": "stderr",
     "output_type": "stream",
     "text": [
      "100%|██████████████████████████████████████████| 12/12 [00:00<00:00, 25.66it/s]\n"
     ]
    },
    {
     "name": "stdout",
     "output_type": "stream",
     "text": [
      "sending off prediction to background worker for resampling and export\n",
      "done with 1HND024\n",
      "\n",
      "Predicting 1HND033:\n",
      "perform_everything_on_device: True\n",
      "(89, 272, 279) -0.609 4.06 float16\n",
      "Reconstruction: MEAN\n"
     ]
    },
    {
     "name": "stderr",
     "output_type": "stream",
     "text": [
      "100%|██████████████████████████████████████████| 12/12 [00:00<00:00, 39.81it/s]\n"
     ]
    },
    {
     "name": "stdout",
     "output_type": "stream",
     "text": [
      "sending off prediction to background worker for resampling and export\n",
      "done with 1HND033\n",
      "\n",
      "Predicting 1HND041:\n",
      "perform_everything_on_device: True\n",
      "(88, 268, 280) -0.606 4.125 float16\n",
      "Reconstruction: MEAN\n"
     ]
    },
    {
     "name": "stderr",
     "output_type": "stream",
     "text": [
      "100%|██████████████████████████████████████████| 12/12 [00:00<00:00, 26.23it/s]\n"
     ]
    },
    {
     "name": "stdout",
     "output_type": "stream",
     "text": [
      "sending off prediction to background worker for resampling and export\n",
      "done with 1HND041\n",
      "\n",
      "Predicting 1HND048:\n",
      "perform_everything_on_device: True\n",
      "(91, 272, 282) -0.6133 4.08 float16\n",
      "Reconstruction: MEAN\n"
     ]
    },
    {
     "name": "stderr",
     "output_type": "stream",
     "text": [
      "100%|██████████████████████████████████████████| 12/12 [00:00<00:00, 25.92it/s]\n"
     ]
    },
    {
     "name": "stdout",
     "output_type": "stream",
     "text": [
      "sending off prediction to background worker for resampling and export\n",
      "done with 1HND048\n",
      "\n",
      "Predicting 1HND066:\n",
      "perform_everything_on_device: True\n",
      "(90, 274, 279) -0.607 4.066 float16\n",
      "Reconstruction: MEAN\n"
     ]
    },
    {
     "name": "stderr",
     "output_type": "stream",
     "text": [
      "100%|██████████████████████████████████████████| 12/12 [00:00<00:00, 29.09it/s]\n"
     ]
    },
    {
     "name": "stdout",
     "output_type": "stream",
     "text": [
      "sending off prediction to background worker for resampling and export\n",
      "done with 1HND066\n",
      "\n",
      "Predicting 1HND085:\n",
      "perform_everything_on_device: True\n",
      "(98, 273, 282) -0.6177 4.086 float16\n",
      "Reconstruction: MEAN\n"
     ]
    },
    {
     "name": "stderr",
     "output_type": "stream",
     "text": [
      "100%|██████████████████████████████████████████| 12/12 [00:00<00:00, 26.17it/s]\n"
     ]
    },
    {
     "name": "stdout",
     "output_type": "stream",
     "text": [
      "sending off prediction to background worker for resampling and export\n",
      "done with 1HND085\n",
      "\n",
      "Predicting 1HND091:\n",
      "perform_everything_on_device: True\n",
      "(88, 271, 279) -0.637 4.11 float16\n",
      "Reconstruction: MEAN\n"
     ]
    },
    {
     "name": "stderr",
     "output_type": "stream",
     "text": [
      "100%|██████████████████████████████████████████| 12/12 [00:00<00:00, 27.24it/s]\n"
     ]
    },
    {
     "name": "stdout",
     "output_type": "stream",
     "text": [
      "sending off prediction to background worker for resampling and export\n",
      "done with 1HND091\n",
      "(88, 268, 276) -0.6167 4.086 float16\n"
     ]
    },
    {
     "data": {
      "text/plain": [
       "0"
      ]
     },
     "execution_count": 27,
     "metadata": {},
     "output_type": "execute_result"
    }
   ],
   "source": [
    "input_dir = os.path.join(dataset_data_path, 'imagesVal')\n",
    "\n",
    "output_dir = os.path.join(submission_path, submission_name, f'DatasetID{dataset_id:03d}_{dataset_data_name}')\n",
    "os.makedirs(output_dir, exist_ok=True)\n",
    "fold = 0\n",
    "os.system(f\"nnUNetv2_predict -d {dataset_id} -i {input_dir} -o {output_dir} -c 3d_fullres -p nnUNetPlans -tr nnUNetTrainerMRCT -f {fold}\")"
   ]
  },
  {
   "cell_type": "code",
   "execution_count": 28,
   "id": "0f0eee17",
   "metadata": {},
   "outputs": [
    {
     "name": "stdout",
     "output_type": "stream",
     "text": [
      "CT mean: -756.8418579101562, CT std: 460.713623046875\n"
     ]
    },
    {
     "name": "stderr",
     "output_type": "stream",
     "text": [
      "100%|██████████| 34/34 [00:15<00:00,  2.18it/s]\n"
     ]
    }
   ],
   "source": [
    "\n",
    "ct_plan_path = f\"/datasets/work/hb-synthrad2023/work/synthrad2025/bw_workplace/data/nnunet_struct/preprocessed/Dataset{config['dataset_id'] + 1}_{config['dataset_target_name']}/nnUNetPlans.json\"\n",
    "ct_mean, ct_std = get_ct_normalisation_values(ct_plan_path)\n",
    "revert_normalisation(output_dir, ct_mean, ct_std, save_path=output_dir + \"_revert_norm\")\n",
    "# move previous results to backup\n",
    "if os.path.exists(output_dir):\n",
    "    shutil.move(output_dir, output_dir + \"_revert_norm/backup_normalised\")"
   ]
  },
  {
   "cell_type": "markdown",
   "id": "65c7d083",
   "metadata": {},
   "source": [
    "# Dataset TH"
   ]
  },
  {
   "cell_type": "code",
   "execution_count": 29,
   "id": "5e2fff88",
   "metadata": {},
   "outputs": [
    {
     "name": "stdout",
     "output_type": "stream",
     "text": [
      "{'data_root': '/datasets/work/hb-synthrad2023/source/synthrad2025_data_v2/synthRAD2025_Task1_Train/Task1/TH',\n",
      " 'dataset_data_name': 'synthrad2025_task1_MR_TH',\n",
      " 'dataset_id': 304,\n",
      " 'dataset_target_name': 'synthrad2025_task1_CT_TH',\n",
      " 'preprocessing_CT': 'CT',\n",
      " 'preprocessing_MRI': 'MR',\n",
      " 'preprocessing_mask': 'no mask'}\n",
      "input1 --- 28 ['/datasets/work/hb-synthrad2023/source/synthrad2025_data_v2/synthRAD2025_Task1_Val_Input/Task1/TH/1THA007/mr.mha', '/datasets/work/hb-synthrad2023/source/synthrad2025_data_v2/synthRAD2025_Task1_Val_Input/Task1/TH/1THA008/mr.mha', '/datasets/work/hb-synthrad2023/source/synthrad2025_data_v2/synthRAD2025_Task1_Val_Input/Task1/TH/1THA014/mr.mha', '/datasets/work/hb-synthrad2023/source/synthrad2025_data_v2/synthRAD2025_Task1_Val_Input/Task1/TH/1THA023/mr.mha', '/datasets/work/hb-synthrad2023/source/synthrad2025_data_v2/synthRAD2025_Task1_Val_Input/Task1/TH/1THA025/mr.mha', '/datasets/work/hb-synthrad2023/source/synthrad2025_data_v2/synthRAD2025_Task1_Val_Input/Task1/TH/1THA036/mr.mha', '/datasets/work/hb-synthrad2023/source/synthrad2025_data_v2/synthRAD2025_Task1_Val_Input/Task1/TH/1THA053/mr.mha', '/datasets/work/hb-synthrad2023/source/synthrad2025_data_v2/synthRAD2025_Task1_Val_Input/Task1/TH/1THA202/mr.mha', '/datasets/work/hb-synthrad2023/source/synthrad2025_data_v2/synthRAD2025_Task1_Val_Input/Task1/TH/1THA204/mr.mha', '/datasets/work/hb-synthrad2023/source/synthrad2025_data_v2/synthRAD2025_Task1_Val_Input/Task1/TH/1THA215/mr.mha', '/datasets/work/hb-synthrad2023/source/synthrad2025_data_v2/synthRAD2025_Task1_Val_Input/Task1/TH/1THA216/mr.mha', '/datasets/work/hb-synthrad2023/source/synthrad2025_data_v2/synthRAD2025_Task1_Val_Input/Task1/TH/1THA219/mr.mha', '/datasets/work/hb-synthrad2023/source/synthrad2025_data_v2/synthRAD2025_Task1_Val_Input/Task1/TH/1THA222/mr.mha', '/datasets/work/hb-synthrad2023/source/synthrad2025_data_v2/synthRAD2025_Task1_Val_Input/Task1/TH/1THA226/mr.mha', '/datasets/work/hb-synthrad2023/source/synthrad2025_data_v2/synthRAD2025_Task1_Val_Input/Task1/TH/1THB012/mr.mha', '/datasets/work/hb-synthrad2023/source/synthrad2025_data_v2/synthRAD2025_Task1_Val_Input/Task1/TH/1THB014/mr.mha', '/datasets/work/hb-synthrad2023/source/synthrad2025_data_v2/synthRAD2025_Task1_Val_Input/Task1/TH/1THB018/mr.mha', '/datasets/work/hb-synthrad2023/source/synthrad2025_data_v2/synthRAD2025_Task1_Val_Input/Task1/TH/1THB025/mr.mha', '/datasets/work/hb-synthrad2023/source/synthrad2025_data_v2/synthRAD2025_Task1_Val_Input/Task1/TH/1THB032/mr.mha', '/datasets/work/hb-synthrad2023/source/synthrad2025_data_v2/synthRAD2025_Task1_Val_Input/Task1/TH/1THB036/mr.mha', '/datasets/work/hb-synthrad2023/source/synthrad2025_data_v2/synthRAD2025_Task1_Val_Input/Task1/TH/1THB075/mr.mha', '/datasets/work/hb-synthrad2023/source/synthrad2025_data_v2/synthRAD2025_Task1_Val_Input/Task1/TH/1THB125/mr.mha', '/datasets/work/hb-synthrad2023/source/synthrad2025_data_v2/synthRAD2025_Task1_Val_Input/Task1/TH/1THB142/mr.mha', '/datasets/work/hb-synthrad2023/source/synthrad2025_data_v2/synthRAD2025_Task1_Val_Input/Task1/TH/1THB155/mr.mha', '/datasets/work/hb-synthrad2023/source/synthrad2025_data_v2/synthRAD2025_Task1_Val_Input/Task1/TH/1THB186/mr.mha', '/datasets/work/hb-synthrad2023/source/synthrad2025_data_v2/synthRAD2025_Task1_Val_Input/Task1/TH/1THB204/mr.mha', '/datasets/work/hb-synthrad2023/source/synthrad2025_data_v2/synthRAD2025_Task1_Val_Input/Task1/TH/1THB209/mr.mha', '/datasets/work/hb-synthrad2023/source/synthrad2025_data_v2/synthRAD2025_Task1_Val_Input/Task1/TH/1THB219/mr.mha']\n"
     ]
    }
   ],
   "source": [
    "# copy files to nnUNet raw data directory\n",
    "config = json.load(open(\"config_304.json\"))\n",
    "pprint(config)\n",
    "dataset_id = config['dataset_id']\n",
    "dataset_data_name = config['dataset_data_name']\n",
    "dataset_shortname = config['dataset_data_name'].split('_')[-1]  # e.g., \"synthrad2025_task1_MR_TH\" -> \"TH\"\n",
    "dataset_data_path = os.path.join(os.environ['nnUNet_raw'], f'Dataset{dataset_id:03d}_{dataset_data_name}')\n",
    "list_data_mri = sorted(glob.glob(os.path.join(data_root, dataset_shortname, '**','mr.mha'), recursive=True))\n",
    "print(\"input1 ---\", len(list_data_mri), list_data_mri)\n"
   ]
  },
  {
   "cell_type": "code",
   "execution_count": 30,
   "id": "7045602e",
   "metadata": {},
   "outputs": [
    {
     "name": "stderr",
     "output_type": "stream",
     "text": [
      "100%|██████████| 28/28 [00:01<00:00, 15.02it/s]\n"
     ]
    }
   ],
   "source": [
    "with ThreadPoolExecutor() as executor:\n",
    "    list(tqdm(executor.map(lambda data_path: process_file(data_path, dataset_data_path, \"_0000\"), list_data_mri), total=len(list_data_mri)))\n",
    "\n",
    "# with ThreadPoolExecutor() as executor:\n",
    "#     list(tqdm(executor.map(lambda data_path: process_file(data_path, dataset_data_path, \"_0001\"), list_data_mask), total=len(list_data_mask)))\n"
   ]
  },
  {
   "cell_type": "code",
   "execution_count": 31,
   "id": "0b6ae773",
   "metadata": {},
   "outputs": [
    {
     "name": "stdout",
     "output_type": "stream",
     "text": [
      "\n",
      "#######################################################################\n",
      "Please cite the following paper when using nnU-Net:\n",
      "Isensee, F., Jaeger, P. F., Kohl, S. A., Petersen, J., & Maier-Hein, K. H. (2021). nnU-Net: a self-configuring method for deep learning-based biomedical image segmentation. Nature methods, 18(2), 203-211.\n",
      "#######################################################################\n",
      "\n",
      "tile :  0.5\n",
      "There are 28 cases in the source folder\n",
      "[['/datasets/work/hb-synthrad2023/work/synthrad2025/bw_workplace/data/nnunet_struct/raw/Dataset304_synthrad2025_task1_MR_TH/imagesVal/1THA007_0000.mha'], ['/datasets/work/hb-synthrad2023/work/synthrad2025/bw_workplace/data/nnunet_struct/raw/Dataset304_synthrad2025_task1_MR_TH/imagesVal/1THA008_0000.mha'], ['/datasets/work/hb-synthrad2023/work/synthrad2025/bw_workplace/data/nnunet_struct/raw/Dataset304_synthrad2025_task1_MR_TH/imagesVal/1THA014_0000.mha'], ['/datasets/work/hb-synthrad2023/work/synthrad2025/bw_workplace/data/nnunet_struct/raw/Dataset304_synthrad2025_task1_MR_TH/imagesVal/1THA023_0000.mha'], ['/datasets/work/hb-synthrad2023/work/synthrad2025/bw_workplace/data/nnunet_struct/raw/Dataset304_synthrad2025_task1_MR_TH/imagesVal/1THA025_0000.mha'], ['/datasets/work/hb-synthrad2023/work/synthrad2025/bw_workplace/data/nnunet_struct/raw/Dataset304_synthrad2025_task1_MR_TH/imagesVal/1THA036_0000.mha'], ['/datasets/work/hb-synthrad2023/work/synthrad2025/bw_workplace/data/nnunet_struct/raw/Dataset304_synthrad2025_task1_MR_TH/imagesVal/1THA053_0000.mha'], ['/datasets/work/hb-synthrad2023/work/synthrad2025/bw_workplace/data/nnunet_struct/raw/Dataset304_synthrad2025_task1_MR_TH/imagesVal/1THA202_0000.mha'], ['/datasets/work/hb-synthrad2023/work/synthrad2025/bw_workplace/data/nnunet_struct/raw/Dataset304_synthrad2025_task1_MR_TH/imagesVal/1THA204_0000.mha'], ['/datasets/work/hb-synthrad2023/work/synthrad2025/bw_workplace/data/nnunet_struct/raw/Dataset304_synthrad2025_task1_MR_TH/imagesVal/1THA215_0000.mha'], ['/datasets/work/hb-synthrad2023/work/synthrad2025/bw_workplace/data/nnunet_struct/raw/Dataset304_synthrad2025_task1_MR_TH/imagesVal/1THA216_0000.mha'], ['/datasets/work/hb-synthrad2023/work/synthrad2025/bw_workplace/data/nnunet_struct/raw/Dataset304_synthrad2025_task1_MR_TH/imagesVal/1THA219_0000.mha'], ['/datasets/work/hb-synthrad2023/work/synthrad2025/bw_workplace/data/nnunet_struct/raw/Dataset304_synthrad2025_task1_MR_TH/imagesVal/1THA222_0000.mha'], ['/datasets/work/hb-synthrad2023/work/synthrad2025/bw_workplace/data/nnunet_struct/raw/Dataset304_synthrad2025_task1_MR_TH/imagesVal/1THA226_0000.mha'], ['/datasets/work/hb-synthrad2023/work/synthrad2025/bw_workplace/data/nnunet_struct/raw/Dataset304_synthrad2025_task1_MR_TH/imagesVal/1THB012_0000.mha'], ['/datasets/work/hb-synthrad2023/work/synthrad2025/bw_workplace/data/nnunet_struct/raw/Dataset304_synthrad2025_task1_MR_TH/imagesVal/1THB014_0000.mha'], ['/datasets/work/hb-synthrad2023/work/synthrad2025/bw_workplace/data/nnunet_struct/raw/Dataset304_synthrad2025_task1_MR_TH/imagesVal/1THB018_0000.mha'], ['/datasets/work/hb-synthrad2023/work/synthrad2025/bw_workplace/data/nnunet_struct/raw/Dataset304_synthrad2025_task1_MR_TH/imagesVal/1THB025_0000.mha'], ['/datasets/work/hb-synthrad2023/work/synthrad2025/bw_workplace/data/nnunet_struct/raw/Dataset304_synthrad2025_task1_MR_TH/imagesVal/1THB032_0000.mha'], ['/datasets/work/hb-synthrad2023/work/synthrad2025/bw_workplace/data/nnunet_struct/raw/Dataset304_synthrad2025_task1_MR_TH/imagesVal/1THB036_0000.mha'], ['/datasets/work/hb-synthrad2023/work/synthrad2025/bw_workplace/data/nnunet_struct/raw/Dataset304_synthrad2025_task1_MR_TH/imagesVal/1THB075_0000.mha'], ['/datasets/work/hb-synthrad2023/work/synthrad2025/bw_workplace/data/nnunet_struct/raw/Dataset304_synthrad2025_task1_MR_TH/imagesVal/1THB125_0000.mha'], ['/datasets/work/hb-synthrad2023/work/synthrad2025/bw_workplace/data/nnunet_struct/raw/Dataset304_synthrad2025_task1_MR_TH/imagesVal/1THB142_0000.mha'], ['/datasets/work/hb-synthrad2023/work/synthrad2025/bw_workplace/data/nnunet_struct/raw/Dataset304_synthrad2025_task1_MR_TH/imagesVal/1THB155_0000.mha'], ['/datasets/work/hb-synthrad2023/work/synthrad2025/bw_workplace/data/nnunet_struct/raw/Dataset304_synthrad2025_task1_MR_TH/imagesVal/1THB186_0000.mha'], ['/datasets/work/hb-synthrad2023/work/synthrad2025/bw_workplace/data/nnunet_struct/raw/Dataset304_synthrad2025_task1_MR_TH/imagesVal/1THB204_0000.mha'], ['/datasets/work/hb-synthrad2023/work/synthrad2025/bw_workplace/data/nnunet_struct/raw/Dataset304_synthrad2025_task1_MR_TH/imagesVal/1THB209_0000.mha'], ['/datasets/work/hb-synthrad2023/work/synthrad2025/bw_workplace/data/nnunet_struct/raw/Dataset304_synthrad2025_task1_MR_TH/imagesVal/1THB219_0000.mha']]\n",
      "There are 28 cases that I would like to predict\n",
      "\n",
      "Predicting 1THA007:\n",
      "perform_everything_on_device: True\n",
      "Reconstruction: MEAN\n"
     ]
    },
    {
     "name": "stderr",
     "output_type": "stream",
     "text": [
      "100%|██████████████████████████████████████████| 48/48 [00:02<00:00, 21.44it/s]\n"
     ]
    },
    {
     "name": "stdout",
     "output_type": "stream",
     "text": [
      "sending off prediction to background worker for resampling and export\n",
      "done with 1THA007\n",
      "\n",
      "Predicting 1THA008:\n",
      "perform_everything_on_device: True\n",
      "(97, 342, 452) -0.666 2.82 float16\n",
      "Reconstruction: MEAN\n"
     ]
    },
    {
     "name": "stderr",
     "output_type": "stream",
     "text": [
      "100%|██████████████████████████████████████████| 48/48 [00:01<00:00, 26.08it/s]\n"
     ]
    },
    {
     "name": "stdout",
     "output_type": "stream",
     "text": [
      "sending off prediction to background worker for resampling and export\n",
      "done with 1THA008\n",
      "\n",
      "Predicting 1THA014:\n",
      "perform_everything_on_device: True\n",
      "(97, 363, 468) -0.662 3.025 float16\n",
      "Reconstruction: MEAN\n"
     ]
    },
    {
     "name": "stderr",
     "output_type": "stream",
     "text": [
      "100%|██████████████████████████████████████████| 48/48 [00:01<00:00, 25.68it/s]\n"
     ]
    },
    {
     "name": "stdout",
     "output_type": "stream",
     "text": [
      "sending off prediction to background worker for resampling and export\n",
      "done with 1THA014\n",
      "\n",
      "Predicting 1THA023:\n",
      "perform_everything_on_device: True\n",
      "(99, 365, 509) -0.6577 2.89 float16\n",
      "Reconstruction: MEAN\n"
     ]
    },
    {
     "name": "stderr",
     "output_type": "stream",
     "text": [
      "100%|██████████████████████████████████████████| 48/48 [00:01<00:00, 24.74it/s]\n"
     ]
    },
    {
     "name": "stdout",
     "output_type": "stream",
     "text": [
      "sending off prediction to background worker for resampling and export\n",
      "done with 1THA023\n",
      "\n",
      "Predicting 1THA025:\n",
      "perform_everything_on_device: True\n",
      "(98, 364, 534) -0.6646 2.86 float16\n",
      "Reconstruction: MEAN\n"
     ]
    },
    {
     "name": "stderr",
     "output_type": "stream",
     "text": [
      "100%|██████████████████████████████████████████| 48/48 [00:01<00:00, 24.26it/s]\n",
      "  0%|                                                   | 0/64 [00:00<?, ?it/s]"
     ]
    },
    {
     "name": "stdout",
     "output_type": "stream",
     "text": [
      "sending off prediction to background worker for resampling and export\n",
      "done with 1THA025\n",
      "\n",
      "Predicting 1THA036:\n",
      "perform_everything_on_device: True\n",
      "Reconstruction: MEAN\n",
      "(100, 356, 498) -0.67 3.0 float16\n"
     ]
    },
    {
     "name": "stderr",
     "output_type": "stream",
     "text": [
      "100%|██████████████████████████████████████████| 64/64 [00:02<00:00, 26.28it/s]\n"
     ]
    },
    {
     "name": "stdout",
     "output_type": "stream",
     "text": [
      "sending off prediction to background worker for resampling and export\n",
      "done with 1THA036\n",
      "\n",
      "Predicting 1THA053:\n",
      "perform_everything_on_device: True\n",
      "(104, 398, 559) -0.641 2.871 float16\n",
      "Reconstruction: MEAN\n"
     ]
    },
    {
     "name": "stderr",
     "output_type": "stream",
     "text": [
      "100%|██████████████████████████████████████████| 64/64 [00:02<00:00, 25.10it/s]\n"
     ]
    },
    {
     "name": "stdout",
     "output_type": "stream",
     "text": [
      "sending off prediction to background worker for resampling and export\n",
      "done with 1THA053\n",
      "\n",
      "Predicting 1THA202:\n",
      "perform_everything_on_device: True\n",
      "(101, 396, 546) -0.6445 2.887 float16\n",
      "Reconstruction: MEAN\n"
     ]
    },
    {
     "name": "stderr",
     "output_type": "stream",
     "text": [
      "100%|██████████████████████████████████████████| 48/48 [00:01<00:00, 25.45it/s]\n"
     ]
    },
    {
     "name": "stdout",
     "output_type": "stream",
     "text": [
      "sending off prediction to background worker for resampling and export\n",
      "done with 1THA202\n",
      "\n",
      "Predicting 1THA204:\n",
      "perform_everything_on_device: True\n",
      "(87, 474, 471) -0.6553 2.812 float16\n",
      "Reconstruction: MEAN\n"
     ]
    },
    {
     "name": "stderr",
     "output_type": "stream",
     "text": [
      "100%|██████████████████████████████████████████| 64/64 [00:02<00:00, 24.50it/s]\n"
     ]
    },
    {
     "name": "stdout",
     "output_type": "stream",
     "text": [
      "sending off prediction to background worker for resampling and export\n",
      "done with 1THA204\n",
      "\n",
      "Predicting 1THA215:\n",
      "perform_everything_on_device: True\n",
      "(98, 472, 476) -0.6753 2.973 float16\n",
      "Reconstruction: MEAN\n"
     ]
    },
    {
     "name": "stderr",
     "output_type": "stream",
     "text": [
      "100%|██████████████████████████████████████████| 48/48 [00:01<00:00, 30.01it/s]\n"
     ]
    },
    {
     "name": "stdout",
     "output_type": "stream",
     "text": [
      "sending off prediction to background worker for resampling and export\n",
      "done with 1THA215\n",
      "\n",
      "Predicting 1THA216:\n",
      "perform_everything_on_device: True\n",
      "(73, 478, 492) -0.6562 2.865 float16\n",
      "Reconstruction: MEAN\n"
     ]
    },
    {
     "name": "stderr",
     "output_type": "stream",
     "text": [
      "100%|██████████████████████████████████████████| 40/40 [00:01<00:00, 25.64it/s]\n"
     ]
    },
    {
     "name": "stdout",
     "output_type": "stream",
     "text": [
      "sending off prediction to background worker for resampling and export\n",
      "done with 1THA216\n",
      "\n",
      "Predicting 1THA219:\n",
      "perform_everything_on_device: True\n",
      "(55, 489, 493) -0.6733 2.838 float16\n",
      "Reconstruction: MEAN\n"
     ]
    },
    {
     "name": "stderr",
     "output_type": "stream",
     "text": [
      "100%|██████████████████████████████████████████| 48/48 [00:01<00:00, 24.10it/s]\n"
     ]
    },
    {
     "name": "stdout",
     "output_type": "stream",
     "text": [
      "sending off prediction to background worker for resampling and export\n",
      "done with 1THA219\n",
      "\n",
      "Predicting 1THA222:\n",
      "perform_everything_on_device: True\n",
      "(84, 469, 464) -0.6533 2.87 float16\n",
      "Reconstruction: MEAN\n"
     ]
    },
    {
     "name": "stderr",
     "output_type": "stream",
     "text": [
      "100%|██████████████████████████████████████████| 64/64 [00:02<00:00, 24.87it/s]\n"
     ]
    },
    {
     "name": "stdout",
     "output_type": "stream",
     "text": [
      "sending off prediction to background worker for resampling and export\n",
      "done with 1THA222\n",
      "\n",
      "Predicting 1THA226:\n",
      "perform_everything_on_device: True\n",
      "(102, 466, 473) -0.673 3.062 float16\n",
      "Reconstruction: MEAN\n"
     ]
    },
    {
     "name": "stderr",
     "output_type": "stream",
     "text": [
      "100%|██████████████████████████████████████████| 64/64 [00:02<00:00, 26.69it/s]\n"
     ]
    },
    {
     "name": "stdout",
     "output_type": "stream",
     "text": [
      "sending off prediction to background worker for resampling and export\n",
      "done with 1THA226\n",
      "\n",
      "Predicting 1THB012:\n",
      "perform_everything_on_device: True\n",
      "Reconstruction: MEAN\n",
      "(103, 467, 477) -0.655 2.938 float16\n"
     ]
    },
    {
     "name": "stderr",
     "output_type": "stream",
     "text": [
      "100%|██████████████████████████████████████████| 80/80 [00:03<00:00, 24.27it/s]\n"
     ]
    },
    {
     "name": "stdout",
     "output_type": "stream",
     "text": [
      "sending off prediction to background worker for resampling and export\n",
      "done with 1THB012\n",
      "\n",
      "Predicting 1THB014:\n",
      "perform_everything_on_device: True\n",
      "(115, 523, 553) -0.6665 2.902 float16\n",
      "Reconstruction: MEAN\n"
     ]
    },
    {
     "name": "stderr",
     "output_type": "stream",
     "text": [
      "100%|██████████████████████████████████████████| 80/80 [00:03<00:00, 24.43it/s]\n"
     ]
    },
    {
     "name": "stdout",
     "output_type": "stream",
     "text": [
      "sending off prediction to background worker for resampling and export\n",
      "done with 1THB014\n",
      "\n",
      "Predicting 1THB018:\n",
      "perform_everything_on_device: True\n",
      "(102, 513, 546) -0.677 2.88 float16\n",
      "Reconstruction: MEAN\n"
     ]
    },
    {
     "name": "stderr",
     "output_type": "stream",
     "text": [
      "100%|████████████████████████████████████████| 100/100 [00:03<00:00, 26.77it/s]\n"
     ]
    },
    {
     "name": "stdout",
     "output_type": "stream",
     "text": [
      "sending off prediction to background worker for resampling and export\n",
      "done with 1THB018\n",
      "\n",
      "Predicting 1THB025:\n",
      "perform_everything_on_device: True\n",
      "(128, 491, 540) -1.674 2.88 float16\n",
      "Reconstruction: MEAN\n"
     ]
    },
    {
     "name": "stderr",
     "output_type": "stream",
     "text": [
      "100%|████████████████████████████████████████| 150/150 [00:06<00:00, 24.43it/s]\n"
     ]
    },
    {
     "name": "stdout",
     "output_type": "stream",
     "text": [
      "sending off prediction to background worker for resampling and export\n",
      "done with 1THB025\n",
      "\n",
      "Predicting 1THB032:\n",
      "perform_everything_on_device: True\n",
      "Reconstruction: MEAN\n"
     ]
    },
    {
     "name": "stderr",
     "output_type": "stream",
     "text": [
      "  3%|█▎                                        | 3/100 [00:00<00:04, 22.84it/s]"
     ]
    },
    {
     "name": "stdout",
     "output_type": "stream",
     "text": [
      "(160, 523, 576) -0.691 2.955 float16\n"
     ]
    },
    {
     "name": "stderr",
     "output_type": "stream",
     "text": [
      "100%|████████████████████████████████████████| 100/100 [00:03<00:00, 26.41it/s]\n"
     ]
    },
    {
     "name": "stdout",
     "output_type": "stream",
     "text": [
      "sending off prediction to background worker for resampling and export\n",
      "done with 1THB032\n",
      "\n",
      "Predicting 1THB036:\n",
      "perform_everything_on_device: True\n",
      "(126, 511, 549) -0.907 2.848 float16\n",
      "Reconstruction: MEAN\n"
     ]
    },
    {
     "name": "stderr",
     "output_type": "stream",
     "text": [
      "100%|████████████████████████████████████████| 100/100 [00:04<00:00, 24.96it/s]\n"
     ]
    },
    {
     "name": "stdout",
     "output_type": "stream",
     "text": [
      "sending off prediction to background worker for resampling and export\n",
      "done with 1THB036\n",
      "\n",
      "Predicting 1THB075:\n",
      "perform_everything_on_device: True\n",
      "(122, 520, 548) -0.6733 2.854 float16\n",
      "Reconstruction: MEAN\n"
     ]
    },
    {
     "name": "stderr",
     "output_type": "stream",
     "text": [
      "100%|████████████████████████████████████████| 100/100 [00:04<00:00, 24.86it/s]\n"
     ]
    },
    {
     "name": "stdout",
     "output_type": "stream",
     "text": [
      "sending off prediction to background worker for resampling and export\n",
      "done with 1THB075\n",
      "\n",
      "Predicting 1THB125:\n",
      "perform_everything_on_device: True\n",
      "Reconstruction: MEAN\n",
      "(131, 508, 548) -0.6543 2.812 float16\n"
     ]
    },
    {
     "name": "stderr",
     "output_type": "stream",
     "text": [
      "100%|████████████████████████████████████████| 100/100 [00:03<00:00, 27.08it/s]\n"
     ]
    },
    {
     "name": "stdout",
     "output_type": "stream",
     "text": [
      "sending off prediction to background worker for resampling and export\n",
      "done with 1THB125\n",
      "\n",
      "Predicting 1THB142:\n",
      "perform_everything_on_device: True\n",
      "(133, 482, 498) -0.669 2.916 float16\n",
      "Reconstruction: MEAN\n"
     ]
    },
    {
     "name": "stderr",
     "output_type": "stream",
     "text": [
      "100%|████████████████████████████████████████| 100/100 [00:04<00:00, 24.58it/s]\n"
     ]
    },
    {
     "name": "stdout",
     "output_type": "stream",
     "text": [
      "sending off prediction to background worker for resampling and export\n",
      "done with 1THB142\n",
      "\n",
      "Predicting 1THB155:\n",
      "perform_everything_on_device: True\n",
      "Reconstruction: MEAN\n"
     ]
    },
    {
     "name": "stderr",
     "output_type": "stream",
     "text": [
      "  7%|██▊                                        | 4/60 [00:00<00:01, 32.22it/s]"
     ]
    },
    {
     "name": "stdout",
     "output_type": "stream",
     "text": [
      "(130, 516, 545) -0.72 2.871 float16\n"
     ]
    },
    {
     "name": "stderr",
     "output_type": "stream",
     "text": [
      "100%|██████████████████████████████████████████| 60/60 [00:02<00:00, 28.59it/s]\n"
     ]
    },
    {
     "name": "stdout",
     "output_type": "stream",
     "text": [
      "sending off prediction to background worker for resampling and export\n",
      "done with 1THB155\n",
      "\n",
      "Predicting 1THB186:\n",
      "perform_everything_on_device: True\n",
      "(132, 440, 440) -0.6587 3.033 float16\n",
      "Reconstruction: MEAN\n"
     ]
    },
    {
     "name": "stderr",
     "output_type": "stream",
     "text": [
      "100%|████████████████████████████████████████| 100/100 [00:04<00:00, 24.68it/s]\n"
     ]
    },
    {
     "name": "stdout",
     "output_type": "stream",
     "text": [
      "sending off prediction to background worker for resampling and export\n",
      "done with 1THB186\n",
      "\n",
      "Predicting 1THB204:\n",
      "perform_everything_on_device: True\n",
      "Reconstruction: MEAN\n",
      "(123, 514, 546) -0.7534 2.816 float16\n"
     ]
    },
    {
     "name": "stderr",
     "output_type": "stream",
     "text": [
      "100%|████████████████████████████████████████| 150/150 [00:05<00:00, 25.37it/s]\n"
     ]
    },
    {
     "name": "stdout",
     "output_type": "stream",
     "text": [
      "sending off prediction to background worker for resampling and export\n",
      "done with 1THB204\n",
      "\n",
      "Predicting 1THB209:\n",
      "perform_everything_on_device: True\n",
      "(146, 511, 589) -0.676 2.96 float16\n",
      "Reconstruction: MEAN\n"
     ]
    },
    {
     "name": "stderr",
     "output_type": "stream",
     "text": [
      "100%|██████████████████████████████████████████| 80/80 [00:02<00:00, 27.54it/s]\n"
     ]
    },
    {
     "name": "stdout",
     "output_type": "stream",
     "text": [
      "sending off prediction to background worker for resampling and export\n",
      "done with 1THB209\n",
      "\n",
      "Predicting 1THB219:\n",
      "perform_everything_on_device: True\n",
      "(120, 500, 553) -0.647 2.824 float16\n",
      "Reconstruction: MEAN\n"
     ]
    },
    {
     "name": "stderr",
     "output_type": "stream",
     "text": [
      "100%|████████████████████████████████████████| 100/100 [00:04<00:00, 24.68it/s]\n"
     ]
    },
    {
     "name": "stdout",
     "output_type": "stream",
     "text": [
      "sending off prediction to background worker for resampling and export\n",
      "done with 1THB219\n",
      "(130, 490, 548) -0.6753 2.916 float16\n"
     ]
    },
    {
     "data": {
      "text/plain": [
       "0"
      ]
     },
     "execution_count": 31,
     "metadata": {},
     "output_type": "execute_result"
    }
   ],
   "source": [
    "input_dir = os.path.join(dataset_data_path, 'imagesVal')\n",
    "submission_path = \"/datasets/work/hb-synthrad2023/work/synthrad2025/bw_workplace/data/nnunet_struct/submission\"\n",
    "# create submission folder with date today\n",
    "submission_name = f'task1_{datetime.datetime.now().strftime(\"%Y%m%d\")}_3models'\n",
    "output_dir = os.path.join(submission_path, submission_name, f'DatasetID{dataset_id:03d}_{dataset_data_name}')\n",
    "os.makedirs(output_dir, exist_ok=True)\n",
    "fold = 0\n",
    "os.system(f\"nnUNetv2_predict -d {dataset_id} -i {input_dir} -o {output_dir} -c 3d_fullres -p nnUNetPlans -tr nnUNetTrainerMRCT -f {fold}\")"
   ]
  },
  {
   "cell_type": "code",
   "execution_count": 32,
   "id": "935fcb66",
   "metadata": {},
   "outputs": [
    {
     "name": "stdout",
     "output_type": "stream",
     "text": [
      "CT mean: -753.1259765625, CT std: 409.43475341796875\n"
     ]
    },
    {
     "name": "stderr",
     "output_type": "stream",
     "text": [
      "  0%|          | 0/28 [00:00<?, ?it/s]"
     ]
    },
    {
     "name": "stderr",
     "output_type": "stream",
     "text": [
      "100%|██████████| 28/28 [00:28<00:00,  1.01s/it]\n"
     ]
    }
   ],
   "source": [
    "\n",
    "ct_plan_path = f\"/datasets/work/hb-synthrad2023/work/synthrad2025/bw_workplace/data/nnunet_struct/preprocessed/Dataset{config['dataset_id'] + 1}_{config['dataset_target_name']}/nnUNetPlans.json\"\n",
    "ct_mean, ct_std = get_ct_normalisation_values(ct_plan_path)\n",
    "revert_normalisation(output_dir, ct_mean, ct_std, save_path=output_dir + \"_revert_norm\")\n",
    "# move previous results to backup\n",
    "if os.path.exists(output_dir):\n",
    "    shutil.move(output_dir, output_dir + \"_revert_norm/backup_normalised\")"
   ]
  },
  {
   "cell_type": "markdown",
   "id": "edec43ee",
   "metadata": {},
   "source": [
    "# final archive and submission"
   ]
  },
  {
   "cell_type": "code",
   "execution_count": null,
   "id": "32728016",
   "metadata": {},
   "outputs": [
    {
     "data": {
      "text/plain": [
       "'/datasets/work/hb-synthrad2023/work/synthrad2025/bw_workplace/data/nnunet_struct/submission/task1_20250708_3models/DatasetID304_synthrad2025_task1_MR_TH, Folder.zip'"
      ]
     },
     "execution_count": 33,
     "metadata": {},
     "output_type": "execute_result"
    }
   ],
   "source": [
    "save_path = os.path.join(submission_path, submission_name, 'Folder')\n",
    "os.makedirs(save_path, exist_ok=True)\n",
    "\n",
    "for file in glob.glob(os.path.join(submission_path, submission_name, \"*_revert_norm\", \"*.mha\")):\n",
    "    new_file = os.path.join(save_path, \"sct_\" + os.path.basename(file))\n",
    "    shutil.copyfile(file, new_file)\n",
    "# zip folder\n",
    "shutil.make_archive(save_path, 'zip', save_path)\n"
   ]
  },
  {
   "cell_type": "code",
   "execution_count": 38,
   "id": "0b3d8917",
   "metadata": {},
   "outputs": [
    {
     "name": "stdout",
     "output_type": "stream",
     "text": [
      "Copying the line below to the local machine to download the zip file:\n",
      "rsync -avz xin015@virga.hpc.csiro.au:/datasets/work/hb-synthrad2023/work/synthrad2025/bw_workplace/data/nnunet_struct/submission/task1_20250708_3models/Folder.zip ./synthrad2025_submission\n"
     ]
    }
   ],
   "source": [
    "print(\"Copying the line below to the local machine to download the zip file:\")\n",
    "print(f'rsync -avz xin015@virga.hpc.csiro.au:{save_path}.zip ./synthrad2025_submission')\n"
   ]
  }
 ],
 "metadata": {
  "kernelspec": {
   "display_name": "Python 3",
   "language": "python",
   "name": "python3"
  },
  "language_info": {
   "codemirror_mode": {
    "name": "ipython",
    "version": 3
   },
   "file_extension": ".py",
   "mimetype": "text/x-python",
   "name": "python",
   "nbconvert_exporter": "python",
   "pygments_lexer": "ipython3",
   "version": "3.11.0"
  }
 },
 "nbformat": 4,
 "nbformat_minor": 5
}
